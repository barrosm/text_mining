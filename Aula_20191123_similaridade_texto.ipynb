{
  "nbformat": 4,
  "nbformat_minor": 0,
  "metadata": {
    "anaconda-cloud": {},
    "kernelspec": {
      "display_name": "Python",
      "language": "python",
      "name": "conda-env-python-py"
    },
    "language_info": {
      "codemirror_mode": {
        "name": "ipython",
        "version": 3
      },
      "file_extension": ".py",
      "mimetype": "text/x-python",
      "name": "python",
      "nbconvert_exporter": "python",
      "pygments_lexer": "ipython3",
      "version": "3.6.7"
    },
    "toc": {
      "colors": {
        "hover_highlight": "#DAA520",
        "navigate_num": "#000000",
        "navigate_text": "#333333",
        "running_highlight": "#FF0000",
        "selected_highlight": "#FFD700",
        "sidebar_border": "#EEEEEE",
        "wrapper_background": "#FFFFFF"
      },
      "moveMenuLeft": true,
      "nav_menu": {
        "height": "48px",
        "width": "252px"
      },
      "navigate_menu": true,
      "number_sections": true,
      "sideBar": true,
      "threshold": 4,
      "toc_cell": false,
      "toc_section_display": "block",
      "toc_window_display": false,
      "widenNotebook": false
    },
    "colab": {
      "name": "Aula_20191123_similaridade_texto.ipynb",
      "provenance": [],
      "collapsed_sections": [],
      "include_colab_link": true
    }
  },
  "cells": [
    {
      "cell_type": "markdown",
      "metadata": {
        "id": "view-in-github",
        "colab_type": "text"
      },
      "source": [
        "<a href=\"https://colab.research.google.com/github/barrosm/text_mining/blob/master/Aula_20191123_similaridade_texto.ipynb\" target=\"_parent\"><img src=\"https://colab.research.google.com/assets/colab-badge.svg\" alt=\"Open In Colab\"/></a>"
      ]
    },
    {
      "cell_type": "markdown",
      "metadata": {
        "id": "S6mHfvKAzQt5",
        "colab_type": "text"
      },
      "source": [
        "# Exercícios de medidas de similaridade de texto #"
      ]
    },
    {
      "cell_type": "code",
      "metadata": {
        "id": "b4XAsJ7EzVtC",
        "colab_type": "code",
        "colab": {
          "base_uri": "https://localhost:8080/",
          "height": 122
        },
        "outputId": "fcf351e1-1cd6-48a9-a20d-5d64def936ea"
      },
      "source": [
        "from google.colab import drive\n",
        "drive.mount('/content/drive')"
      ],
      "execution_count": 2,
      "outputs": [
        {
          "output_type": "stream",
          "text": [
            "Go to this URL in a browser: https://accounts.google.com/o/oauth2/auth?client_id=947318989803-6bn6qk8qdgf4n4g3pfee6491hc0brc4i.apps.googleusercontent.com&redirect_uri=urn%3aietf%3awg%3aoauth%3a2.0%3aoob&response_type=code&scope=email%20https%3a%2f%2fwww.googleapis.com%2fauth%2fdocs.test%20https%3a%2f%2fwww.googleapis.com%2fauth%2fdrive%20https%3a%2f%2fwww.googleapis.com%2fauth%2fdrive.photos.readonly%20https%3a%2f%2fwww.googleapis.com%2fauth%2fpeopleapi.readonly\n",
            "\n",
            "Enter your authorization code:\n",
            "··········\n",
            "Mounted at /content/drive\n"
          ],
          "name": "stdout"
        }
      ]
    },
    {
      "cell_type": "code",
      "metadata": {
        "id": "Uz6g0URLzU9j",
        "colab_type": "code",
        "colab": {}
      },
      "source": [
        "import os\n",
        "workdir_path = '/content/drive/My Drive/aula_20191123_leonardo/' #MODIFICAR!!! #Caminho para o seu workspace\n",
        "os.chdir(workdir_path)"
      ],
      "execution_count": 0,
      "outputs": []
    },
    {
      "cell_type": "markdown",
      "metadata": {
        "id": "hwVEmjo-zQt9",
        "colab_type": "text"
      },
      "source": [
        "## Introdução ##"
      ]
    },
    {
      "cell_type": "markdown",
      "metadata": {
        "id": "0gFJ-POZzQt-",
        "colab_type": "text"
      },
      "source": [
        "Usaremos [um conjunto de dados de letras de músicas do Kaggle] (https://www.kaggle.com/mousehead/songlyrics) para identificar músicas com letras semelhantes. O conjunto de dados contém artistas, músicas e letras para mais de 55 mil músicas, mas hoje vamos nos concentrar nas músicas de um grupo em particular - os Beatles.\n",
        "\n",
        "O código a seguir ajudará você a carregar os dados e a se preparar para este exercício."
      ]
    },
    {
      "cell_type": "code",
      "metadata": {
        "id": "8Jn8GVJnzQt_",
        "colab_type": "code",
        "colab": {
          "base_uri": "https://localhost:8080/",
          "height": 51
        },
        "outputId": "26664d68-536d-4592-a29c-667e25446827"
      },
      "source": [
        "!pip install nltk"
      ],
      "execution_count": 7,
      "outputs": [
        {
          "output_type": "stream",
          "text": [
            "Requirement already satisfied: nltk in /usr/local/lib/python3.6/dist-packages (3.2.5)\n",
            "Requirement already satisfied: six in /usr/local/lib/python3.6/dist-packages (from nltk) (1.12.0)\n"
          ],
          "name": "stdout"
        }
      ]
    },
    {
      "cell_type": "code",
      "metadata": {
        "id": "vpKir-FWzQuE",
        "colab_type": "code",
        "colab": {}
      },
      "source": [
        "import nltk\n",
        "import pandas as pd"
      ],
      "execution_count": 0,
      "outputs": []
    },
    {
      "cell_type": "code",
      "metadata": {
        "id": "wXgppWqyzQuH",
        "colab_type": "code",
        "colab": {
          "base_uri": "https://localhost:8080/",
          "height": 204
        },
        "outputId": "72811a71-743b-4788-db8c-37b19b781a6d"
      },
      "source": [
        "data = pd.read_csv('songdata.csv')\n",
        "data.head()"
      ],
      "execution_count": 9,
      "outputs": [
        {
          "output_type": "execute_result",
          "data": {
            "text/html": [
              "<div>\n",
              "<style scoped>\n",
              "    .dataframe tbody tr th:only-of-type {\n",
              "        vertical-align: middle;\n",
              "    }\n",
              "\n",
              "    .dataframe tbody tr th {\n",
              "        vertical-align: top;\n",
              "    }\n",
              "\n",
              "    .dataframe thead th {\n",
              "        text-align: right;\n",
              "    }\n",
              "</style>\n",
              "<table border=\"1\" class=\"dataframe\">\n",
              "  <thead>\n",
              "    <tr style=\"text-align: right;\">\n",
              "      <th></th>\n",
              "      <th>artist</th>\n",
              "      <th>song</th>\n",
              "      <th>link</th>\n",
              "      <th>text</th>\n",
              "    </tr>\n",
              "  </thead>\n",
              "  <tbody>\n",
              "    <tr>\n",
              "      <th>0</th>\n",
              "      <td>ABBA</td>\n",
              "      <td>Ahe's My Kind Of Girl</td>\n",
              "      <td>/a/abba/ahes+my+kind+of+girl_20598417.html</td>\n",
              "      <td>Look at her face, it's a wonderful face  \\r\\nA...</td>\n",
              "    </tr>\n",
              "    <tr>\n",
              "      <th>1</th>\n",
              "      <td>ABBA</td>\n",
              "      <td>Andante, Andante</td>\n",
              "      <td>/a/abba/andante+andante_20002708.html</td>\n",
              "      <td>Take it easy with me, please  \\r\\nTouch me gen...</td>\n",
              "    </tr>\n",
              "    <tr>\n",
              "      <th>2</th>\n",
              "      <td>ABBA</td>\n",
              "      <td>As Good As New</td>\n",
              "      <td>/a/abba/as+good+as+new_20003033.html</td>\n",
              "      <td>I'll never know why I had to go  \\r\\nWhy I had...</td>\n",
              "    </tr>\n",
              "    <tr>\n",
              "      <th>3</th>\n",
              "      <td>ABBA</td>\n",
              "      <td>Bang</td>\n",
              "      <td>/a/abba/bang_20598415.html</td>\n",
              "      <td>Making somebody happy is a question of give an...</td>\n",
              "    </tr>\n",
              "    <tr>\n",
              "      <th>4</th>\n",
              "      <td>ABBA</td>\n",
              "      <td>Bang-A-Boomerang</td>\n",
              "      <td>/a/abba/bang+a+boomerang_20002668.html</td>\n",
              "      <td>Making somebody happy is a question of give an...</td>\n",
              "    </tr>\n",
              "  </tbody>\n",
              "</table>\n",
              "</div>"
            ],
            "text/plain": [
              "  artist  ...                                               text\n",
              "0   ABBA  ...  Look at her face, it's a wonderful face  \\r\\nA...\n",
              "1   ABBA  ...  Take it easy with me, please  \\r\\nTouch me gen...\n",
              "2   ABBA  ...  I'll never know why I had to go  \\r\\nWhy I had...\n",
              "3   ABBA  ...  Making somebody happy is a question of give an...\n",
              "4   ABBA  ...  Making somebody happy is a question of give an...\n",
              "\n",
              "[5 rows x 4 columns]"
            ]
          },
          "metadata": {
            "tags": []
          },
          "execution_count": 9
        }
      ]
    },
    {
      "cell_type": "markdown",
      "metadata": {
        "id": "KtQoQDCpzQuK",
        "colab_type": "text"
      },
      "source": [
        "## Desafio  1 ##"
      ]
    },
    {
      "cell_type": "markdown",
      "metadata": {
        "id": "w86CqiNAzQuL",
        "colab_type": "text"
      },
      "source": [
        "* Filtre o conjunto de dados da letra para selecionar apenas músicas dos Beatles.\n",
        "* Quantas músicas existem no total pelos Beatles?\n",
        "* Dê uma olhada nas letras da primeira música."
      ]
    },
    {
      "cell_type": "code",
      "metadata": {
        "id": "aCBVzz03zQuM",
        "colab_type": "code",
        "colab": {
          "base_uri": "https://localhost:8080/",
          "height": 204
        },
        "outputId": "a702bfa7-6eed-4d19-c25e-1c5a2b50487f"
      },
      "source": [
        "# Veja apenas as músicas dos Beatles\n",
        "beatles = data[data.artist=='The Beatles']\n",
        "beatles.head()"
      ],
      "execution_count": 10,
      "outputs": [
        {
          "output_type": "execute_result",
          "data": {
            "text/html": [
              "<div>\n",
              "<style scoped>\n",
              "    .dataframe tbody tr th:only-of-type {\n",
              "        vertical-align: middle;\n",
              "    }\n",
              "\n",
              "    .dataframe tbody tr th {\n",
              "        vertical-align: top;\n",
              "    }\n",
              "\n",
              "    .dataframe thead th {\n",
              "        text-align: right;\n",
              "    }\n",
              "</style>\n",
              "<table border=\"1\" class=\"dataframe\">\n",
              "  <thead>\n",
              "    <tr style=\"text-align: right;\">\n",
              "      <th></th>\n",
              "      <th>artist</th>\n",
              "      <th>song</th>\n",
              "      <th>link</th>\n",
              "      <th>text</th>\n",
              "    </tr>\n",
              "  </thead>\n",
              "  <tbody>\n",
              "    <tr>\n",
              "      <th>1198</th>\n",
              "      <td>The Beatles</td>\n",
              "      <td>A Shot Of Rhythm And Blues</td>\n",
              "      <td>/b/beatles/a+shot+of+rhythm+blues_20014867.html</td>\n",
              "      <td>Well, if your hands start a-clappin'  \\r\\nAnd ...</td>\n",
              "    </tr>\n",
              "    <tr>\n",
              "      <th>1199</th>\n",
              "      <td>The Beatles</td>\n",
              "      <td>Across The Universe</td>\n",
              "      <td>/b/beatles/across+the+universe_10026507.html</td>\n",
              "      <td>Words are flowing out like  \\r\\nEndless rain i...</td>\n",
              "    </tr>\n",
              "    <tr>\n",
              "      <th>1200</th>\n",
              "      <td>The Beatles</td>\n",
              "      <td>All I've Got To Do</td>\n",
              "      <td>/b/beatles/all+ive+got+to+do_10026646.html</td>\n",
              "      <td>Whenever I want you around, yeah  \\r\\nAll I go...</td>\n",
              "    </tr>\n",
              "    <tr>\n",
              "      <th>1201</th>\n",
              "      <td>The Beatles</td>\n",
              "      <td>And I Love Her</td>\n",
              "      <td>/b/beatles/and+i+love+her_10026463.html</td>\n",
              "      <td>I give her all my love  \\r\\nThat's all I do  \\...</td>\n",
              "    </tr>\n",
              "    <tr>\n",
              "      <th>1202</th>\n",
              "      <td>The Beatles</td>\n",
              "      <td>And Your Bird Can Sing</td>\n",
              "      <td>/b/beatles/and+your+bird+can+sing_10026364.html</td>\n",
              "      <td>You tell me that you've got everything you wan...</td>\n",
              "    </tr>\n",
              "  </tbody>\n",
              "</table>\n",
              "</div>"
            ],
            "text/plain": [
              "           artist  ...                                               text\n",
              "1198  The Beatles  ...  Well, if your hands start a-clappin'  \\r\\nAnd ...\n",
              "1199  The Beatles  ...  Words are flowing out like  \\r\\nEndless rain i...\n",
              "1200  The Beatles  ...  Whenever I want you around, yeah  \\r\\nAll I go...\n",
              "1201  The Beatles  ...  I give her all my love  \\r\\nThat's all I do  \\...\n",
              "1202  The Beatles  ...  You tell me that you've got everything you wan...\n",
              "\n",
              "[5 rows x 4 columns]"
            ]
          },
          "metadata": {
            "tags": []
          },
          "execution_count": 10
        }
      ]
    },
    {
      "cell_type": "code",
      "metadata": {
        "id": "4CiYsuM6zQuP",
        "colab_type": "code",
        "colab": {
          "base_uri": "https://localhost:8080/",
          "height": 51
        },
        "outputId": "65fcc13c-cf8f-4a59-ce08-68349ee1f1ca"
      },
      "source": [
        "# Verifique o número de músicas dos Beatles no conjunto de dados\n",
        "data.artist.value_counts().loc[['The Beatles']]"
      ],
      "execution_count": 11,
      "outputs": [
        {
          "output_type": "execute_result",
          "data": {
            "text/plain": [
              "The Beatles    178\n",
              "Name: artist, dtype: int64"
            ]
          },
          "metadata": {
            "tags": []
          },
          "execution_count": 11
        }
      ]
    },
    {
      "cell_type": "code",
      "metadata": {
        "id": "G4drdDmVzQuS",
        "colab_type": "code",
        "colab": {
          "base_uri": "https://localhost:8080/",
          "height": 54
        },
        "outputId": "f3978459-33e5-4183-8537-1e24dd9a66bf"
      },
      "source": [
        "# Veja a letra da primeira música\n",
        "beatles.iloc[0,3]"
      ],
      "execution_count": 12,
      "outputs": [
        {
          "output_type": "execute_result",
          "data": {
            "text/plain": [
              "\"Well, if your hands start a-clappin'  \\r\\nAnd your fingers start a-poppin'  \\r\\nAnd your feet start a-movin' around  \\r\\nAnd if you start to swing and sway  \\r\\n  \\r\\nWhen the band starts to play  \\r\\nA real cool way out sound  \\r\\nAnd if you get to can't help it and you can't sit down  \\r\\nYou feel like you gotta move around  \\r\\n  \\r\\nYou get a shot of rhythm and blues.  \\r\\nWith just a little rock and roll on the side  \\r\\nJust for good measure.  \\r\\nGet a pair of dancin' shoes  \\r\\n  \\r\\nWell, with your lover by your side  \\r\\nDon't you know you're gonna have a rockin' time, see'mon!  \\r\\nDon't you worry 'bout a thing  \\r\\nIf you start to dance and sing  \\r\\n  \\r\\nAnd chills come up on you  \\r\\nAnd if the rhythm finally gets you and the beat gets you too  \\r\\nWell, here's something for you to do  \\r\\n  \\r\\nGet a shot of rhythm and blues  \\r\\nWith just a little rock and roll on the side  \\r\\nJust for good measure  \\r\\nGet a pair of dancin' shoes  \\r\\n  \\r\\nWell, with your lover by your side  \\r\\nDon't you know you're gonna have a rockin' time, see'mon!  \\r\\nDon't you worry 'bout a thing  \\r\\nIf you start to dance and sing  \\r\\n  \\r\\nAnd chills come up on you  \\r\\nAnd if the rhythm finally gets you and the beat gets you too  \\r\\nWell, here's something for you to do  \\r\\n  \\r\\nGet a shot of rhythm and blues  \\r\\nGet a pair of dancin' shoes  \\r\\nGet a shot of rhythm and blues  \\r\\nWell, with your lover by your side  \\r\\n  \\r\\nDon't you know you're gonna have a rockin' time, see'mon!  \\r\\nDon't you worry 'bout a thing  \\r\\nIf you start to dance and sing  \\r\\nAnd chills come up on you  \\r\\n  \\r\\nAnd if the rhythm finally gets you and the beat gets you too  \\r\\nWell, here's something for you to do  \\r\\nWell, here's something for you to do  \\r\\nWell, here's something for you to do\\r\\n\\r\\n\""
            ]
          },
          "metadata": {
            "tags": []
          },
          "execution_count": 12
        }
      ]
    },
    {
      "cell_type": "markdown",
      "metadata": {
        "id": "p8af5a_rzQuU",
        "colab_type": "text"
      },
      "source": [
        "## Desafio 2 ##"
      ]
    },
    {
      "cell_type": "markdown",
      "metadata": {
        "id": "1I61WWOlzQuV",
        "colab_type": "text"
      },
      "source": [
        "\n",
        "Aplique as seguintes etapas de pré-processamento:\n",
        "* Observe os caracteres '\\ n' (nova linha) nas letras. Remova-os usando expressões regulares.\n",
        "* Remova todas as palavras com números usando expressões regulares.\n",
        "* Crie uma matriz de termos de documento usando o Count Vectorizer, com cada linha como uma música e cada coluna como uma palavra nas letras. Faça com que o Count Vectorizer remova todas as palavras de parada também.\n",
        "\n",
        "Nota: O Count Vectorizer remove automaticamente a pontuação e coloca todos os caracteres em minúsculas."
      ]
    },
    {
      "cell_type": "code",
      "metadata": {
        "id": "6_eicIntzQuW",
        "colab_type": "code",
        "colab": {
          "base_uri": "https://localhost:8080/",
          "height": 119
        },
        "outputId": "7c031d6f-e72f-44f7-ea41-2990fa6d8649"
      },
      "source": [
        "# Remover caracteres da letra\n",
        "import re\n",
        "\n",
        "newline = lambda x: re.sub('\\n', ' ', x) # remove \\n\n",
        "alphanumeric = lambda x: re.sub('\\w*\\d\\w*', ' ', x) # remove alphanumeric words\n",
        "\n",
        "corpus = beatles.text.map(newline).map(alphanumeric)\n",
        "corpus.head()"
      ],
      "execution_count": 13,
      "outputs": [
        {
          "output_type": "execute_result",
          "data": {
            "text/plain": [
              "1198    Well, if your hands start a-clappin'  \\r And y...\n",
              "1199    Words are flowing out like  \\r Endless rain in...\n",
              "1200    Whenever I want you around, yeah  \\r All I got...\n",
              "1201    I give her all my love  \\r That's all I do  \\r...\n",
              "1202    You tell me that you've got everything you wan...\n",
              "Name: text, dtype: object"
            ]
          },
          "metadata": {
            "tags": []
          },
          "execution_count": 13
        }
      ]
    },
    {
      "cell_type": "code",
      "metadata": {
        "scrolled": true,
        "id": "KN2SLRQwzQuY",
        "colab_type": "code",
        "colab": {}
      },
      "source": [
        "# Crie uma matriz de termos de documento usando o Count Vectorizer com as palavras de parada ativadas para inglês\n",
        "from sklearn.feature_extraction.text import CountVectorizer\n",
        "          \n",
        "cv = CountVectorizer(stop_words=\"english\")\n",
        "X = cv.fit_transform(corpus).toarray()\n",
        "\n",
        "dt = pd.DataFrame(X, columns=cv.get_feature_names()).set_index(beatles.song)\n",
        "dt.head()"
      ],
      "execution_count": 0,
      "outputs": []
    },
    {
      "cell_type": "markdown",
      "metadata": {
        "id": "0EBbev5azQub",
        "colab_type": "text"
      },
      "source": [
        "## Desafio  3 ##"
      ]
    },
    {
      "cell_type": "markdown",
      "metadata": {
        "id": "OXnRq9QTzQuc",
        "colab_type": "text"
      },
      "source": [
        "* Dê uma olhada na letra da música \"Imagine\".\n",
        "* Qual música é a mais parecida com a música \"Imagine\"?\n",
        "      * Use a semelhança de cosseno para calcular a semelhança\n",
        "      * Use o Count Vectorizer para codificar numericamente a letra\n",
        "* Encontre a música mais parecida usando o TF-IDF Vectorizer.\n",
        "\n",
        "Compare a música mais semelhante das saídas do Count Vectorizer e do TF-IDF Vectorizer."
      ]
    },
    {
      "cell_type": "code",
      "metadata": {
        "id": "-6t0fZRezQud",
        "colab_type": "code",
        "colab": {}
      },
      "source": [
        "# Defina as opções de exibição para que as letras não sejam cortadas\n",
        "pd.set_option('display.max_colwidth', -1)"
      ],
      "execution_count": 0,
      "outputs": []
    },
    {
      "cell_type": "code",
      "metadata": {
        "id": "Tn7zxs3RzQuf",
        "colab_type": "code",
        "colab": {}
      },
      "source": [
        "#  letra Imagine\n",
        "beatles[beatles.song=='Imagine'].text"
      ],
      "execution_count": 0,
      "outputs": []
    },
    {
      "cell_type": "code",
      "metadata": {
        "id": "rByFwZCPzQui",
        "colab_type": "code",
        "colab": {}
      },
      "source": [
        "# imagine \"letra no formato Count Vectorizer\"\n",
        "imagine = list(dt.loc['Imagine'])\n",
        "imagine[:20]"
      ],
      "execution_count": 0,
      "outputs": []
    },
    {
      "cell_type": "code",
      "metadata": {
        "id": "cehuUB_KzQuk",
        "colab_type": "code",
        "colab": {}
      },
      "source": [
        "# Definir o cálculo de similaridade de cosseno\n",
        "from numpy import dot\n",
        "from numpy.linalg import norm\n",
        "\n",
        "cosine = lambda v1, v2: dot(v1, v2) / (norm(v1) * norm(v2))"
      ],
      "execution_count": 0,
      "outputs": []
    },
    {
      "cell_type": "code",
      "metadata": {
        "id": "qANdmm88zQun",
        "colab_type": "code",
        "colab": {}
      },
      "source": [
        "# Calcular todas as semelhanças e classificar pelas mais semelhantes\n",
        "similarity = [cosine(imagine, song) for song in X]\n",
        "sorted(list(zip(similarity, beatles.song)), reverse=True)[1:6]"
      ],
      "execution_count": 0,
      "outputs": []
    },
    {
      "cell_type": "code",
      "metadata": {
        "id": "bhtF2_dgzQup",
        "colab_type": "code",
        "colab": {}
      },
      "source": [
        "# Crie o vetorizador TF-IDF\n",
        "from sklearn.feature_extraction.text import TfidfVectorizer\n",
        "          \n",
        "cv_tfidf = TfidfVectorizer(stop_words=\"english\")\n",
        "X_tfidf = cv_tfidf.fit_transform(corpus).toarray()\n",
        "\n",
        "dt_tfidf = pd.DataFrame(X_tfidf, columns=cv_tfidf.get_feature_names()).set_index(beatles.song)\n",
        "dt_tfidf.head()"
      ],
      "execution_count": 0,
      "outputs": []
    },
    {
      "cell_type": "code",
      "metadata": {
        "id": "S_9lscupzQur",
        "colab_type": "code",
        "colab": {}
      },
      "source": [
        "# Calcule todas as semelhanças e classifique as mais semelhantes usando os dados do TF-IDF\n",
        "similarity_tfidf = [cosine(imagine, song) for song in X_tfidf]\n",
        "sorted(list(zip(similarity_tfidf, beatles.song)), reverse=True)[1:6]"
      ],
      "execution_count": 0,
      "outputs": []
    },
    {
      "cell_type": "markdown",
      "metadata": {
        "id": "AYhIggfizQuu",
        "colab_type": "text"
      },
      "source": [
        "As respostas para o Count Vectorizer e TF-IDF Vectorizer estão bem próximas. Nos dois casos, \"Eu vou chorar\" é a música mais parecida com \"Imagine\". Quando você olha as letras, pode ver que as duas estão do lado triste das músicas dos Beatles."
      ]
    },
    {
      "cell_type": "code",
      "metadata": {
        "id": "4ttWuGOSzQuv",
        "colab_type": "code",
        "colab": {}
      },
      "source": [
        "# Imagine lyrics\n",
        "beatles[beatles.song=='Imagine'].text"
      ],
      "execution_count": 0,
      "outputs": []
    },
    {
      "cell_type": "code",
      "metadata": {
        "id": "OZjRCKjDzQuy",
        "colab_type": "code",
        "colab": {}
      },
      "source": [
        "# I'll Cry Instead lyrics\n",
        "beatles[beatles.song=='I\\'ll Cry Instead'].text"
      ],
      "execution_count": 0,
      "outputs": []
    },
    {
      "cell_type": "markdown",
      "metadata": {
        "id": "a1qytW2szQu0",
        "colab_type": "text"
      },
      "source": [
        "## Desafio 4 ##"
      ]
    },
    {
      "cell_type": "markdown",
      "metadata": {
        "id": "VNrCYysgzQu3",
        "colab_type": "text"
      },
      "source": [
        "Quais são as duas músicas dos Beatles mais parecidas?\n",
        "    * Usando o Count Vectorizer\n",
        "    * Usando o TFizer Vectorizer\n",
        "     \n",
        "Compare os resultados. Qual vetorizador parece fazer um trabalho melhor?"
      ]
    },
    {
      "cell_type": "code",
      "metadata": {
        "id": "JUX_cnQ_zQu4",
        "colab_type": "code",
        "colab": {}
      },
      "source": [
        "# Calcular a semelhança de cosseno entre todas as combinações de documentos"
      ],
      "execution_count": 0,
      "outputs": []
    },
    {
      "cell_type": "code",
      "metadata": {
        "id": "i6v6fXQOzQu8",
        "colab_type": "code",
        "colab": {}
      },
      "source": [
        "# Listar todas as combinações de músicas\n",
        "from itertools import combinations\n",
        "\n",
        "pairs = list(combinations(beatles.song.index, 2)) # all song index combos\n",
        "pairs_0 = list(combinations(range(len(beatles)), 2)) # all index combos starting with (0,1)\n",
        "song_pairs = [(beatles.song[a_index], beatles.song[b_index]) for (a_index, b_index) in pairs]\n",
        "song_pairs[:5]"
      ],
      "execution_count": 0,
      "outputs": []
    },
    {
      "cell_type": "code",
      "metadata": {
        "id": "f0BWldrczQu-",
        "colab_type": "code",
        "colab": {}
      },
      "source": [
        "# Calcular a semelhança de cosseno da matriz termo-documento do Count Vectorizer\n",
        "results = [cosine(X[a_index], X[b_index]) for (a_index, b_index) in pairs_0]\n",
        "sorted(zip(results, song_pairs), reverse=True)[:5]"
      ],
      "execution_count": 0,
      "outputs": []
    },
    {
      "cell_type": "code",
      "metadata": {
        "id": "D6Lp5bVFzQvB",
        "colab_type": "code",
        "colab": {}
      },
      "source": [
        "# Calcular a semelhança de cosseno da matriz termo-documento do TF-IDF Vectorizer\n",
        "results = [cosine(X_tfidf[a_index], X_tfidf[b_index]) for (a_index, b_index) in pairs_0]\n",
        "sorted(zip(results, song_pairs), reverse=True)[:5]"
      ],
      "execution_count": 0,
      "outputs": []
    },
    {
      "cell_type": "markdown",
      "metadata": {
        "id": "PZW4Oz2zzQvE",
        "colab_type": "text"
      },
      "source": [
        "\n",
        "Com o Count Vectorizer, todas as músicas principais contêm o termo \"love\", com \"All You Need Is Love\" e \"Love Me Do\" sendo as mais semelhantes. Isso ocorre porque os Beatles tendem a usar muito o termo \"amor\" em suas músicas.\n",
        "\n",
        "Com o TF-IDF Vectorizer, as principais músicas semelhantes são um pouco mais interessantes. Parece que ele realmente pegou uma música duplicada no conjunto de dados das letras com \"If I Needed Someone\" e \"If I Needed Someone To Love\". Além disso, \"Tenha uma banana!\" e \"Crinsk Dee Night\" são conversas com o apresentador Brian Matthew."
      ]
    },
    {
      "cell_type": "code",
      "metadata": {
        "id": "mwVBssQMzQvF",
        "colab_type": "code",
        "colab": {}
      },
      "source": [
        "# All You Need Is Love lyrics\n",
        "beatles[beatles.song=='All You Need Is Love'].text"
      ],
      "execution_count": 0,
      "outputs": []
    },
    {
      "cell_type": "code",
      "metadata": {
        "id": "zhNfqTIWzQvI",
        "colab_type": "code",
        "colab": {}
      },
      "source": [
        "# Love Me Do lyrics\n",
        "beatles[beatles.song=='Love Me Do'].text"
      ],
      "execution_count": 0,
      "outputs": []
    },
    {
      "cell_type": "code",
      "metadata": {
        "id": "MNogtHJ7zQvK",
        "colab_type": "code",
        "colab": {}
      },
      "source": [
        "# If I Needed Someone lyrics\n",
        "beatles[beatles.song=='If I Needed Someone'].text"
      ],
      "execution_count": 0,
      "outputs": []
    },
    {
      "cell_type": "code",
      "metadata": {
        "id": "j-zXpCVCzQvM",
        "colab_type": "code",
        "colab": {}
      },
      "source": [
        "# If I Needed Someone To Love lyrics\n",
        "beatles[beatles.song=='If I Needed Someone To Love'].text"
      ],
      "execution_count": 0,
      "outputs": []
    },
    {
      "cell_type": "code",
      "metadata": {
        "id": "qW7XECowzQvO",
        "colab_type": "code",
        "colab": {}
      },
      "source": [
        "# Have a Banana! lyrics\n",
        "beatles[beatles.song=='Have A Banana!'].text"
      ],
      "execution_count": 0,
      "outputs": []
    },
    {
      "cell_type": "code",
      "metadata": {
        "id": "etve4vYNzQvS",
        "colab_type": "code",
        "colab": {}
      },
      "source": [
        "# Crinsk Dee Night lyrics\n",
        "beatles[beatles.song=='Crinsk Dee Night'].text"
      ],
      "execution_count": 0,
      "outputs": []
    },
    {
      "cell_type": "code",
      "metadata": {
        "id": "mRs6aF8tznOZ",
        "colab_type": "code",
        "colab": {}
      },
      "source": [
        ""
      ],
      "execution_count": 0,
      "outputs": []
    }
  ]
}
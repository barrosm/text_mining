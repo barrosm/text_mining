{
  "nbformat": 4,
  "nbformat_minor": 0,
  "metadata": {
    "anaconda-cloud": {},
    "kernelspec": {
      "display_name": "Python",
      "language": "python",
      "name": "conda-env-python-py"
    },
    "language_info": {
      "codemirror_mode": {
        "name": "ipython",
        "version": 3
      },
      "file_extension": ".py",
      "mimetype": "text/x-python",
      "name": "python",
      "nbconvert_exporter": "python",
      "pygments_lexer": "ipython3",
      "version": "3.6.7"
    },
    "toc": {
      "colors": {
        "hover_highlight": "#DAA520",
        "navigate_num": "#000000",
        "navigate_text": "#333333",
        "running_highlight": "#FF0000",
        "selected_highlight": "#FFD700",
        "sidebar_border": "#EEEEEE",
        "wrapper_background": "#FFFFFF"
      },
      "moveMenuLeft": true,
      "nav_menu": {
        "height": "48px",
        "width": "252px"
      },
      "navigate_menu": true,
      "number_sections": true,
      "sideBar": true,
      "threshold": 4,
      "toc_cell": false,
      "toc_section_display": "block",
      "toc_window_display": false,
      "widenNotebook": false
    },
    "colab": {
      "name": "Aula_20191123_similaridade_texto.ipynb",
      "provenance": [],
      "collapsed_sections": [],
      "include_colab_link": true
    }
  },
  "cells": [
    {
      "cell_type": "markdown",
      "metadata": {
        "id": "view-in-github",
        "colab_type": "text"
      },
      "source": [
        "<a href=\"https://colab.research.google.com/github/barrosm/text_mining/blob/master/Aula_20191123_similaridade_texto.ipynb\" target=\"_parent\"><img src=\"https://colab.research.google.com/assets/colab-badge.svg\" alt=\"Open In Colab\"/></a>"
      ]
    },
    {
      "cell_type": "markdown",
      "metadata": {
        "id": "S6mHfvKAzQt5",
        "colab_type": "text"
      },
      "source": [
        "# Exercícios de medidas de similaridade de texto #"
      ]
    },
    {
      "cell_type": "code",
      "metadata": {
        "id": "b4XAsJ7EzVtC",
        "colab_type": "code",
        "colab": {
          "base_uri": "https://localhost:8080/",
          "height": 122
        },
        "outputId": "fcf351e1-1cd6-48a9-a20d-5d64def936ea"
      },
      "source": [
        "from google.colab import drive\n",
        "drive.mount('/content/drive')"
      ],
      "execution_count": 2,
      "outputs": [
        {
          "output_type": "stream",
          "text": [
            "Go to this URL in a browser: https://accounts.google.com/o/oauth2/auth?client_id=947318989803-6bn6qk8qdgf4n4g3pfee6491hc0brc4i.apps.googleusercontent.com&redirect_uri=urn%3aietf%3awg%3aoauth%3a2.0%3aoob&response_type=code&scope=email%20https%3a%2f%2fwww.googleapis.com%2fauth%2fdocs.test%20https%3a%2f%2fwww.googleapis.com%2fauth%2fdrive%20https%3a%2f%2fwww.googleapis.com%2fauth%2fdrive.photos.readonly%20https%3a%2f%2fwww.googleapis.com%2fauth%2fpeopleapi.readonly\n",
            "\n",
            "Enter your authorization code:\n",
            "··········\n",
            "Mounted at /content/drive\n"
          ],
          "name": "stdout"
        }
      ]
    },
    {
      "cell_type": "code",
      "metadata": {
        "id": "Uz6g0URLzU9j",
        "colab_type": "code",
        "colab": {}
      },
      "source": [
        "import os\n",
        "workdir_path = '/content/drive/My Drive/aula_20191123_leonardo/' #MODIFICAR!!! #Caminho para o seu workspace\n",
        "os.chdir(workdir_path)"
      ],
      "execution_count": 0,
      "outputs": []
    },
    {
      "cell_type": "markdown",
      "metadata": {
        "id": "hwVEmjo-zQt9",
        "colab_type": "text"
      },
      "source": [
        "## Introdução ##"
      ]
    },
    {
      "cell_type": "markdown",
      "metadata": {
        "id": "0gFJ-POZzQt-",
        "colab_type": "text"
      },
      "source": [
        "Usaremos [um conjunto de dados de letras de músicas do Kaggle] (https://www.kaggle.com/mousehead/songlyrics) para identificar músicas com letras semelhantes. O conjunto de dados contém artistas, músicas e letras para mais de 55 mil músicas, mas hoje vamos nos concentrar nas músicas de um grupo em particular - os Beatles.\n",
        "\n",
        "O código a seguir ajudará você a carregar os dados e a se preparar para este exercício."
      ]
    },
    {
      "cell_type": "code",
      "metadata": {
        "id": "8Jn8GVJnzQt_",
        "colab_type": "code",
        "colab": {
          "base_uri": "https://localhost:8080/",
          "height": 51
        },
        "outputId": "26664d68-536d-4592-a29c-667e25446827"
      },
      "source": [
        "!pip install nltk"
      ],
      "execution_count": 7,
      "outputs": [
        {
          "output_type": "stream",
          "text": [
            "Requirement already satisfied: nltk in /usr/local/lib/python3.6/dist-packages (3.2.5)\n",
            "Requirement already satisfied: six in /usr/local/lib/python3.6/dist-packages (from nltk) (1.12.0)\n"
          ],
          "name": "stdout"
        }
      ]
    },
    {
      "cell_type": "code",
      "metadata": {
        "id": "vpKir-FWzQuE",
        "colab_type": "code",
        "colab": {}
      },
      "source": [
        "import nltk\n",
        "import pandas as pd"
      ],
      "execution_count": 0,
      "outputs": []
    },
    {
      "cell_type": "code",
      "metadata": {
        "id": "wXgppWqyzQuH",
        "colab_type": "code",
        "colab": {
          "base_uri": "https://localhost:8080/",
          "height": 204
        },
        "outputId": "72811a71-743b-4788-db8c-37b19b781a6d"
      },
      "source": [
        "data = pd.read_csv('songdata.csv')\n",
        "data.head()"
      ],
      "execution_count": 9,
      "outputs": [
        {
          "output_type": "execute_result",
          "data": {
            "text/html": [
              "<div>\n",
              "<style scoped>\n",
              "    .dataframe tbody tr th:only-of-type {\n",
              "        vertical-align: middle;\n",
              "    }\n",
              "\n",
              "    .dataframe tbody tr th {\n",
              "        vertical-align: top;\n",
              "    }\n",
              "\n",
              "    .dataframe thead th {\n",
              "        text-align: right;\n",
              "    }\n",
              "</style>\n",
              "<table border=\"1\" class=\"dataframe\">\n",
              "  <thead>\n",
              "    <tr style=\"text-align: right;\">\n",
              "      <th></th>\n",
              "      <th>artist</th>\n",
              "      <th>song</th>\n",
              "      <th>link</th>\n",
              "      <th>text</th>\n",
              "    </tr>\n",
              "  </thead>\n",
              "  <tbody>\n",
              "    <tr>\n",
              "      <th>0</th>\n",
              "      <td>ABBA</td>\n",
              "      <td>Ahe's My Kind Of Girl</td>\n",
              "      <td>/a/abba/ahes+my+kind+of+girl_20598417.html</td>\n",
              "      <td>Look at her face, it's a wonderful face  \\r\\nA...</td>\n",
              "    </tr>\n",
              "    <tr>\n",
              "      <th>1</th>\n",
              "      <td>ABBA</td>\n",
              "      <td>Andante, Andante</td>\n",
              "      <td>/a/abba/andante+andante_20002708.html</td>\n",
              "      <td>Take it easy with me, please  \\r\\nTouch me gen...</td>\n",
              "    </tr>\n",
              "    <tr>\n",
              "      <th>2</th>\n",
              "      <td>ABBA</td>\n",
              "      <td>As Good As New</td>\n",
              "      <td>/a/abba/as+good+as+new_20003033.html</td>\n",
              "      <td>I'll never know why I had to go  \\r\\nWhy I had...</td>\n",
              "    </tr>\n",
              "    <tr>\n",
              "      <th>3</th>\n",
              "      <td>ABBA</td>\n",
              "      <td>Bang</td>\n",
              "      <td>/a/abba/bang_20598415.html</td>\n",
              "      <td>Making somebody happy is a question of give an...</td>\n",
              "    </tr>\n",
              "    <tr>\n",
              "      <th>4</th>\n",
              "      <td>ABBA</td>\n",
              "      <td>Bang-A-Boomerang</td>\n",
              "      <td>/a/abba/bang+a+boomerang_20002668.html</td>\n",
              "      <td>Making somebody happy is a question of give an...</td>\n",
              "    </tr>\n",
              "  </tbody>\n",
              "</table>\n",
              "</div>"
            ],
            "text/plain": [
              "  artist  ...                                               text\n",
              "0   ABBA  ...  Look at her face, it's a wonderful face  \\r\\nA...\n",
              "1   ABBA  ...  Take it easy with me, please  \\r\\nTouch me gen...\n",
              "2   ABBA  ...  I'll never know why I had to go  \\r\\nWhy I had...\n",
              "3   ABBA  ...  Making somebody happy is a question of give an...\n",
              "4   ABBA  ...  Making somebody happy is a question of give an...\n",
              "\n",
              "[5 rows x 4 columns]"
            ]
          },
          "metadata": {
            "tags": []
          },
          "execution_count": 9
        }
      ]
    },
    {
      "cell_type": "markdown",
      "metadata": {
        "id": "KtQoQDCpzQuK",
        "colab_type": "text"
      },
      "source": [
        "## Desafio  1 ##"
      ]
    },
    {
      "cell_type": "markdown",
      "metadata": {
        "id": "w86CqiNAzQuL",
        "colab_type": "text"
      },
      "source": [
        "* Filtre o conjunto de dados da letra para selecionar apenas músicas dos Beatles.\n",
        "* Quantas músicas existem no total pelos Beatles?\n",
        "* Dê uma olhada nas letras da primeira música."
      ]
    },
    {
      "cell_type": "code",
      "metadata": {
        "id": "aCBVzz03zQuM",
        "colab_type": "code",
        "colab": {
          "base_uri": "https://localhost:8080/",
          "height": 204
        },
        "outputId": "a702bfa7-6eed-4d19-c25e-1c5a2b50487f"
      },
      "source": [
        "# Veja apenas as músicas dos Beatles\n",
        "beatles = data[data.artist=='The Beatles']\n",
        "beatles.head()"
      ],
      "execution_count": 10,
      "outputs": [
        {
          "output_type": "execute_result",
          "data": {
            "text/html": [
              "<div>\n",
              "<style scoped>\n",
              "    .dataframe tbody tr th:only-of-type {\n",
              "        vertical-align: middle;\n",
              "    }\n",
              "\n",
              "    .dataframe tbody tr th {\n",
              "        vertical-align: top;\n",
              "    }\n",
              "\n",
              "    .dataframe thead th {\n",
              "        text-align: right;\n",
              "    }\n",
              "</style>\n",
              "<table border=\"1\" class=\"dataframe\">\n",
              "  <thead>\n",
              "    <tr style=\"text-align: right;\">\n",
              "      <th></th>\n",
              "      <th>artist</th>\n",
              "      <th>song</th>\n",
              "      <th>link</th>\n",
              "      <th>text</th>\n",
              "    </tr>\n",
              "  </thead>\n",
              "  <tbody>\n",
              "    <tr>\n",
              "      <th>1198</th>\n",
              "      <td>The Beatles</td>\n",
              "      <td>A Shot Of Rhythm And Blues</td>\n",
              "      <td>/b/beatles/a+shot+of+rhythm+blues_20014867.html</td>\n",
              "      <td>Well, if your hands start a-clappin'  \\r\\nAnd ...</td>\n",
              "    </tr>\n",
              "    <tr>\n",
              "      <th>1199</th>\n",
              "      <td>The Beatles</td>\n",
              "      <td>Across The Universe</td>\n",
              "      <td>/b/beatles/across+the+universe_10026507.html</td>\n",
              "      <td>Words are flowing out like  \\r\\nEndless rain i...</td>\n",
              "    </tr>\n",
              "    <tr>\n",
              "      <th>1200</th>\n",
              "      <td>The Beatles</td>\n",
              "      <td>All I've Got To Do</td>\n",
              "      <td>/b/beatles/all+ive+got+to+do_10026646.html</td>\n",
              "      <td>Whenever I want you around, yeah  \\r\\nAll I go...</td>\n",
              "    </tr>\n",
              "    <tr>\n",
              "      <th>1201</th>\n",
              "      <td>The Beatles</td>\n",
              "      <td>And I Love Her</td>\n",
              "      <td>/b/beatles/and+i+love+her_10026463.html</td>\n",
              "      <td>I give her all my love  \\r\\nThat's all I do  \\...</td>\n",
              "    </tr>\n",
              "    <tr>\n",
              "      <th>1202</th>\n",
              "      <td>The Beatles</td>\n",
              "      <td>And Your Bird Can Sing</td>\n",
              "      <td>/b/beatles/and+your+bird+can+sing_10026364.html</td>\n",
              "      <td>You tell me that you've got everything you wan...</td>\n",
              "    </tr>\n",
              "  </tbody>\n",
              "</table>\n",
              "</div>"
            ],
            "text/plain": [
              "           artist  ...                                               text\n",
              "1198  The Beatles  ...  Well, if your hands start a-clappin'  \\r\\nAnd ...\n",
              "1199  The Beatles  ...  Words are flowing out like  \\r\\nEndless rain i...\n",
              "1200  The Beatles  ...  Whenever I want you around, yeah  \\r\\nAll I go...\n",
              "1201  The Beatles  ...  I give her all my love  \\r\\nThat's all I do  \\...\n",
              "1202  The Beatles  ...  You tell me that you've got everything you wan...\n",
              "\n",
              "[5 rows x 4 columns]"
            ]
          },
          "metadata": {
            "tags": []
          },
          "execution_count": 10
        }
      ]
    },
    {
      "cell_type": "code",
      "metadata": {
        "id": "4CiYsuM6zQuP",
        "colab_type": "code",
        "colab": {
          "base_uri": "https://localhost:8080/",
          "height": 51
        },
        "outputId": "65fcc13c-cf8f-4a59-ce08-68349ee1f1ca"
      },
      "source": [
        "# Verifique o número de músicas dos Beatles no conjunto de dados\n",
        "data.artist.value_counts().loc[['The Beatles']]"
      ],
      "execution_count": 11,
      "outputs": [
        {
          "output_type": "execute_result",
          "data": {
            "text/plain": [
              "The Beatles    178\n",
              "Name: artist, dtype: int64"
            ]
          },
          "metadata": {
            "tags": []
          },
          "execution_count": 11
        }
      ]
    },
    {
      "cell_type": "code",
      "metadata": {
        "id": "G4drdDmVzQuS",
        "colab_type": "code",
        "colab": {
          "base_uri": "https://localhost:8080/",
          "height": 54
        },
        "outputId": "f3978459-33e5-4183-8537-1e24dd9a66bf"
      },
      "source": [
        "# Veja a letra da primeira música\n",
        "beatles.iloc[0,3]"
      ],
      "execution_count": 12,
      "outputs": [
        {
          "output_type": "execute_result",
          "data": {
            "text/plain": [
              "\"Well, if your hands start a-clappin'  \\r\\nAnd your fingers start a-poppin'  \\r\\nAnd your feet start a-movin' around  \\r\\nAnd if you start to swing and sway  \\r\\n  \\r\\nWhen the band starts to play  \\r\\nA real cool way out sound  \\r\\nAnd if you get to can't help it and you can't sit down  \\r\\nYou feel like you gotta move around  \\r\\n  \\r\\nYou get a shot of rhythm and blues.  \\r\\nWith just a little rock and roll on the side  \\r\\nJust for good measure.  \\r\\nGet a pair of dancin' shoes  \\r\\n  \\r\\nWell, with your lover by your side  \\r\\nDon't you know you're gonna have a rockin' time, see'mon!  \\r\\nDon't you worry 'bout a thing  \\r\\nIf you start to dance and sing  \\r\\n  \\r\\nAnd chills come up on you  \\r\\nAnd if the rhythm finally gets you and the beat gets you too  \\r\\nWell, here's something for you to do  \\r\\n  \\r\\nGet a shot of rhythm and blues  \\r\\nWith just a little rock and roll on the side  \\r\\nJust for good measure  \\r\\nGet a pair of dancin' shoes  \\r\\n  \\r\\nWell, with your lover by your side  \\r\\nDon't you know you're gonna have a rockin' time, see'mon!  \\r\\nDon't you worry 'bout a thing  \\r\\nIf you start to dance and sing  \\r\\n  \\r\\nAnd chills come up on you  \\r\\nAnd if the rhythm finally gets you and the beat gets you too  \\r\\nWell, here's something for you to do  \\r\\n  \\r\\nGet a shot of rhythm and blues  \\r\\nGet a pair of dancin' shoes  \\r\\nGet a shot of rhythm and blues  \\r\\nWell, with your lover by your side  \\r\\n  \\r\\nDon't you know you're gonna have a rockin' time, see'mon!  \\r\\nDon't you worry 'bout a thing  \\r\\nIf you start to dance and sing  \\r\\nAnd chills come up on you  \\r\\n  \\r\\nAnd if the rhythm finally gets you and the beat gets you too  \\r\\nWell, here's something for you to do  \\r\\nWell, here's something for you to do  \\r\\nWell, here's something for you to do\\r\\n\\r\\n\""
            ]
          },
          "metadata": {
            "tags": []
          },
          "execution_count": 12
        }
      ]
    },
    {
      "cell_type": "markdown",
      "metadata": {
        "id": "p8af5a_rzQuU",
        "colab_type": "text"
      },
      "source": [
        "## Desafio 2 ##"
      ]
    },
    {
      "cell_type": "markdown",
      "metadata": {
        "id": "1I61WWOlzQuV",
        "colab_type": "text"
      },
      "source": [
        "\n",
        "Aplique as seguintes etapas de pré-processamento:\n",
        "* Observe os caracteres '\\ n' (nova linha) nas letras. Remova-os usando expressões regulares.\n",
        "* Remova todas as palavras com números usando expressões regulares.\n",
        "* Crie uma matriz de termos de documento usando o Count Vectorizer, com cada linha como uma música e cada coluna como uma palavra nas letras. Faça com que o Count Vectorizer remova todas as palavras de parada também.\n",
        "\n",
        "Nota: O Count Vectorizer remove automaticamente a pontuação e coloca todos os caracteres em minúsculas."
      ]
    },
    {
      "cell_type": "code",
      "metadata": {
        "id": "6_eicIntzQuW",
        "colab_type": "code",
        "colab": {
          "base_uri": "https://localhost:8080/",
          "height": 119
        },
        "outputId": "7c031d6f-e72f-44f7-ea41-2990fa6d8649"
      },
      "source": [
        "# Remover caracteres da letra\n",
        "import re\n",
        "\n",
        "newline = lambda x: re.sub('\\n', ' ', x) # remove \\n\n",
        "alphanumeric = lambda x: re.sub('\\w*\\d\\w*', ' ', x) # remove alphanumeric words\n",
        "\n",
        "corpus = beatles.text.map(newline).map(alphanumeric)\n",
        "corpus.head()"
      ],
      "execution_count": 13,
      "outputs": [
        {
          "output_type": "execute_result",
          "data": {
            "text/plain": [
              "1198    Well, if your hands start a-clappin'  \\r And y...\n",
              "1199    Words are flowing out like  \\r Endless rain in...\n",
              "1200    Whenever I want you around, yeah  \\r All I got...\n",
              "1201    I give her all my love  \\r That's all I do  \\r...\n",
              "1202    You tell me that you've got everything you wan...\n",
              "Name: text, dtype: object"
            ]
          },
          "metadata": {
            "tags": []
          },
          "execution_count": 13
        }
      ]
    },
    {
      "cell_type": "code",
      "metadata": {
        "scrolled": true,
        "id": "KN2SLRQwzQuY",
        "colab_type": "code",
        "colab": {
          "base_uri": "https://localhost:8080/",
          "height": 488
        },
        "outputId": "676d4e16-68a2-4778-c565-54691b35bba7"
      },
      "source": [
        "# Crie uma matriz de termos de documento usando o Count Vectorizer com as palavras de parada ativadas para inglês\n",
        "from sklearn.feature_extraction.text import CountVectorizer\n",
        "          \n",
        "cv = CountVectorizer(stop_words=\"english\")\n",
        "X = cv.fit_transform(corpus).toarray()\n",
        "\n",
        "dt = pd.DataFrame(X, columns=cv.get_feature_names()).set_index(beatles.song)\n",
        "dt.head()"
      ],
      "execution_count": 15,
      "outputs": [
        {
          "output_type": "execute_result",
          "data": {
            "text/html": [
              "<div>\n",
              "<style scoped>\n",
              "    .dataframe tbody tr th:only-of-type {\n",
              "        vertical-align: middle;\n",
              "    }\n",
              "\n",
              "    .dataframe tbody tr th {\n",
              "        vertical-align: top;\n",
              "    }\n",
              "\n",
              "    .dataframe thead th {\n",
              "        text-align: right;\n",
              "    }\n",
              "</style>\n",
              "<table border=\"1\" class=\"dataframe\">\n",
              "  <thead>\n",
              "    <tr style=\"text-align: right;\">\n",
              "      <th></th>\n",
              "      <th>aaahhh</th>\n",
              "      <th>aah</th>\n",
              "      <th>abc</th>\n",
              "      <th>aches</th>\n",
              "      <th>aching</th>\n",
              "      <th>acquainted</th>\n",
              "      <th>act</th>\n",
              "      <th>actors</th>\n",
              "      <th>acts</th>\n",
              "      <th>add</th>\n",
              "      <th>admit</th>\n",
              "      <th>adore</th>\n",
              "      <th>advantage</th>\n",
              "      <th>affair</th>\n",
              "      <th>affection</th>\n",
              "      <th>afraid</th>\n",
              "      <th>afternoon</th>\n",
              "      <th>ageing</th>\n",
              "      <th>ago</th>\n",
              "      <th>agree</th>\n",
              "      <th>ah</th>\n",
              "      <th>ahead</th>\n",
              "      <th>ahh</th>\n",
              "      <th>ain</th>\n",
              "      <th>air</th>\n",
              "      <th>alan</th>\n",
              "      <th>albert</th>\n",
              "      <th>allan</th>\n",
              "      <th>alley</th>\n",
              "      <th>allowed</th>\n",
              "      <th>alright</th>\n",
              "      <th>anderen</th>\n",
              "      <th>angel</th>\n",
              "      <th>angry</th>\n",
              "      <th>anna</th>\n",
              "      <th>announcement</th>\n",
              "      <th>answer</th>\n",
              "      <th>anton</th>\n",
              "      <th>anybody</th>\n",
              "      <th>anymore</th>\n",
              "      <th>...</th>\n",
              "      <th>working</th>\n",
              "      <th>works</th>\n",
              "      <th>world</th>\n",
              "      <th>worried</th>\n",
              "      <th>worries</th>\n",
              "      <th>worry</th>\n",
              "      <th>worrying</th>\n",
              "      <th>worse</th>\n",
              "      <th>worst</th>\n",
              "      <th>worth</th>\n",
              "      <th>wouldn</th>\n",
              "      <th>wow</th>\n",
              "      <th>writ</th>\n",
              "      <th>write</th>\n",
              "      <th>writing</th>\n",
              "      <th>wrong</th>\n",
              "      <th>wrote</th>\n",
              "      <th>wuwuwu</th>\n",
              "      <th>ya</th>\n",
              "      <th>yard</th>\n",
              "      <th>yawning</th>\n",
              "      <th>yay</th>\n",
              "      <th>ye</th>\n",
              "      <th>yea</th>\n",
              "      <th>yeag</th>\n",
              "      <th>yeah</th>\n",
              "      <th>year</th>\n",
              "      <th>years</th>\n",
              "      <th>yeh</th>\n",
              "      <th>yellow</th>\n",
              "      <th>yes</th>\n",
              "      <th>yesterday</th>\n",
              "      <th>yoko</th>\n",
              "      <th>young</th>\n",
              "      <th>younger</th>\n",
              "      <th>youre</th>\n",
              "      <th>youu</th>\n",
              "      <th>zealand</th>\n",
              "      <th>zoo</th>\n",
              "      <th>zu</th>\n",
              "    </tr>\n",
              "    <tr>\n",
              "      <th>song</th>\n",
              "      <th></th>\n",
              "      <th></th>\n",
              "      <th></th>\n",
              "      <th></th>\n",
              "      <th></th>\n",
              "      <th></th>\n",
              "      <th></th>\n",
              "      <th></th>\n",
              "      <th></th>\n",
              "      <th></th>\n",
              "      <th></th>\n",
              "      <th></th>\n",
              "      <th></th>\n",
              "      <th></th>\n",
              "      <th></th>\n",
              "      <th></th>\n",
              "      <th></th>\n",
              "      <th></th>\n",
              "      <th></th>\n",
              "      <th></th>\n",
              "      <th></th>\n",
              "      <th></th>\n",
              "      <th></th>\n",
              "      <th></th>\n",
              "      <th></th>\n",
              "      <th></th>\n",
              "      <th></th>\n",
              "      <th></th>\n",
              "      <th></th>\n",
              "      <th></th>\n",
              "      <th></th>\n",
              "      <th></th>\n",
              "      <th></th>\n",
              "      <th></th>\n",
              "      <th></th>\n",
              "      <th></th>\n",
              "      <th></th>\n",
              "      <th></th>\n",
              "      <th></th>\n",
              "      <th></th>\n",
              "      <th></th>\n",
              "      <th></th>\n",
              "      <th></th>\n",
              "      <th></th>\n",
              "      <th></th>\n",
              "      <th></th>\n",
              "      <th></th>\n",
              "      <th></th>\n",
              "      <th></th>\n",
              "      <th></th>\n",
              "      <th></th>\n",
              "      <th></th>\n",
              "      <th></th>\n",
              "      <th></th>\n",
              "      <th></th>\n",
              "      <th></th>\n",
              "      <th></th>\n",
              "      <th></th>\n",
              "      <th></th>\n",
              "      <th></th>\n",
              "      <th></th>\n",
              "      <th></th>\n",
              "      <th></th>\n",
              "      <th></th>\n",
              "      <th></th>\n",
              "      <th></th>\n",
              "      <th></th>\n",
              "      <th></th>\n",
              "      <th></th>\n",
              "      <th></th>\n",
              "      <th></th>\n",
              "      <th></th>\n",
              "      <th></th>\n",
              "      <th></th>\n",
              "      <th></th>\n",
              "      <th></th>\n",
              "      <th></th>\n",
              "      <th></th>\n",
              "      <th></th>\n",
              "      <th></th>\n",
              "      <th></th>\n",
              "    </tr>\n",
              "  </thead>\n",
              "  <tbody>\n",
              "    <tr>\n",
              "      <th>A Shot Of Rhythm And Blues</th>\n",
              "      <td>0</td>\n",
              "      <td>0</td>\n",
              "      <td>0</td>\n",
              "      <td>0</td>\n",
              "      <td>0</td>\n",
              "      <td>0</td>\n",
              "      <td>0</td>\n",
              "      <td>0</td>\n",
              "      <td>0</td>\n",
              "      <td>0</td>\n",
              "      <td>0</td>\n",
              "      <td>0</td>\n",
              "      <td>0</td>\n",
              "      <td>0</td>\n",
              "      <td>0</td>\n",
              "      <td>0</td>\n",
              "      <td>0</td>\n",
              "      <td>0</td>\n",
              "      <td>0</td>\n",
              "      <td>0</td>\n",
              "      <td>0</td>\n",
              "      <td>0</td>\n",
              "      <td>0</td>\n",
              "      <td>0</td>\n",
              "      <td>0</td>\n",
              "      <td>0</td>\n",
              "      <td>0</td>\n",
              "      <td>0</td>\n",
              "      <td>0</td>\n",
              "      <td>0</td>\n",
              "      <td>0</td>\n",
              "      <td>0</td>\n",
              "      <td>0</td>\n",
              "      <td>0</td>\n",
              "      <td>0</td>\n",
              "      <td>0</td>\n",
              "      <td>0</td>\n",
              "      <td>0</td>\n",
              "      <td>0</td>\n",
              "      <td>0</td>\n",
              "      <td>...</td>\n",
              "      <td>0</td>\n",
              "      <td>0</td>\n",
              "      <td>0</td>\n",
              "      <td>0</td>\n",
              "      <td>0</td>\n",
              "      <td>3</td>\n",
              "      <td>0</td>\n",
              "      <td>0</td>\n",
              "      <td>0</td>\n",
              "      <td>0</td>\n",
              "      <td>0</td>\n",
              "      <td>0</td>\n",
              "      <td>0</td>\n",
              "      <td>0</td>\n",
              "      <td>0</td>\n",
              "      <td>0</td>\n",
              "      <td>0</td>\n",
              "      <td>0</td>\n",
              "      <td>0</td>\n",
              "      <td>0</td>\n",
              "      <td>0</td>\n",
              "      <td>0</td>\n",
              "      <td>0</td>\n",
              "      <td>0</td>\n",
              "      <td>0</td>\n",
              "      <td>0</td>\n",
              "      <td>0</td>\n",
              "      <td>0</td>\n",
              "      <td>0</td>\n",
              "      <td>0</td>\n",
              "      <td>0</td>\n",
              "      <td>0</td>\n",
              "      <td>0</td>\n",
              "      <td>0</td>\n",
              "      <td>0</td>\n",
              "      <td>0</td>\n",
              "      <td>0</td>\n",
              "      <td>0</td>\n",
              "      <td>0</td>\n",
              "      <td>0</td>\n",
              "    </tr>\n",
              "    <tr>\n",
              "      <th>Across The Universe</th>\n",
              "      <td>0</td>\n",
              "      <td>0</td>\n",
              "      <td>0</td>\n",
              "      <td>0</td>\n",
              "      <td>0</td>\n",
              "      <td>0</td>\n",
              "      <td>0</td>\n",
              "      <td>0</td>\n",
              "      <td>0</td>\n",
              "      <td>0</td>\n",
              "      <td>0</td>\n",
              "      <td>0</td>\n",
              "      <td>0</td>\n",
              "      <td>0</td>\n",
              "      <td>0</td>\n",
              "      <td>0</td>\n",
              "      <td>0</td>\n",
              "      <td>0</td>\n",
              "      <td>0</td>\n",
              "      <td>0</td>\n",
              "      <td>0</td>\n",
              "      <td>0</td>\n",
              "      <td>0</td>\n",
              "      <td>0</td>\n",
              "      <td>0</td>\n",
              "      <td>0</td>\n",
              "      <td>0</td>\n",
              "      <td>0</td>\n",
              "      <td>0</td>\n",
              "      <td>0</td>\n",
              "      <td>0</td>\n",
              "      <td>0</td>\n",
              "      <td>0</td>\n",
              "      <td>0</td>\n",
              "      <td>0</td>\n",
              "      <td>0</td>\n",
              "      <td>0</td>\n",
              "      <td>0</td>\n",
              "      <td>0</td>\n",
              "      <td>0</td>\n",
              "      <td>...</td>\n",
              "      <td>0</td>\n",
              "      <td>0</td>\n",
              "      <td>12</td>\n",
              "      <td>0</td>\n",
              "      <td>0</td>\n",
              "      <td>0</td>\n",
              "      <td>0</td>\n",
              "      <td>0</td>\n",
              "      <td>0</td>\n",
              "      <td>0</td>\n",
              "      <td>0</td>\n",
              "      <td>0</td>\n",
              "      <td>0</td>\n",
              "      <td>0</td>\n",
              "      <td>0</td>\n",
              "      <td>0</td>\n",
              "      <td>0</td>\n",
              "      <td>0</td>\n",
              "      <td>0</td>\n",
              "      <td>0</td>\n",
              "      <td>0</td>\n",
              "      <td>0</td>\n",
              "      <td>0</td>\n",
              "      <td>0</td>\n",
              "      <td>0</td>\n",
              "      <td>0</td>\n",
              "      <td>0</td>\n",
              "      <td>0</td>\n",
              "      <td>0</td>\n",
              "      <td>0</td>\n",
              "      <td>0</td>\n",
              "      <td>0</td>\n",
              "      <td>0</td>\n",
              "      <td>0</td>\n",
              "      <td>0</td>\n",
              "      <td>0</td>\n",
              "      <td>0</td>\n",
              "      <td>0</td>\n",
              "      <td>0</td>\n",
              "      <td>0</td>\n",
              "    </tr>\n",
              "    <tr>\n",
              "      <th>All I've Got To Do</th>\n",
              "      <td>0</td>\n",
              "      <td>0</td>\n",
              "      <td>0</td>\n",
              "      <td>0</td>\n",
              "      <td>0</td>\n",
              "      <td>0</td>\n",
              "      <td>0</td>\n",
              "      <td>0</td>\n",
              "      <td>0</td>\n",
              "      <td>0</td>\n",
              "      <td>0</td>\n",
              "      <td>0</td>\n",
              "      <td>0</td>\n",
              "      <td>0</td>\n",
              "      <td>0</td>\n",
              "      <td>0</td>\n",
              "      <td>0</td>\n",
              "      <td>0</td>\n",
              "      <td>0</td>\n",
              "      <td>0</td>\n",
              "      <td>0</td>\n",
              "      <td>0</td>\n",
              "      <td>0</td>\n",
              "      <td>0</td>\n",
              "      <td>0</td>\n",
              "      <td>0</td>\n",
              "      <td>0</td>\n",
              "      <td>0</td>\n",
              "      <td>0</td>\n",
              "      <td>0</td>\n",
              "      <td>0</td>\n",
              "      <td>0</td>\n",
              "      <td>0</td>\n",
              "      <td>0</td>\n",
              "      <td>0</td>\n",
              "      <td>0</td>\n",
              "      <td>0</td>\n",
              "      <td>0</td>\n",
              "      <td>0</td>\n",
              "      <td>0</td>\n",
              "      <td>...</td>\n",
              "      <td>0</td>\n",
              "      <td>0</td>\n",
              "      <td>0</td>\n",
              "      <td>0</td>\n",
              "      <td>0</td>\n",
              "      <td>0</td>\n",
              "      <td>0</td>\n",
              "      <td>0</td>\n",
              "      <td>0</td>\n",
              "      <td>0</td>\n",
              "      <td>0</td>\n",
              "      <td>0</td>\n",
              "      <td>0</td>\n",
              "      <td>0</td>\n",
              "      <td>0</td>\n",
              "      <td>0</td>\n",
              "      <td>0</td>\n",
              "      <td>0</td>\n",
              "      <td>0</td>\n",
              "      <td>0</td>\n",
              "      <td>0</td>\n",
              "      <td>0</td>\n",
              "      <td>0</td>\n",
              "      <td>0</td>\n",
              "      <td>0</td>\n",
              "      <td>6</td>\n",
              "      <td>0</td>\n",
              "      <td>0</td>\n",
              "      <td>0</td>\n",
              "      <td>0</td>\n",
              "      <td>2</td>\n",
              "      <td>0</td>\n",
              "      <td>0</td>\n",
              "      <td>0</td>\n",
              "      <td>0</td>\n",
              "      <td>0</td>\n",
              "      <td>0</td>\n",
              "      <td>0</td>\n",
              "      <td>0</td>\n",
              "      <td>0</td>\n",
              "    </tr>\n",
              "    <tr>\n",
              "      <th>And I Love Her</th>\n",
              "      <td>0</td>\n",
              "      <td>0</td>\n",
              "      <td>0</td>\n",
              "      <td>0</td>\n",
              "      <td>0</td>\n",
              "      <td>0</td>\n",
              "      <td>0</td>\n",
              "      <td>0</td>\n",
              "      <td>0</td>\n",
              "      <td>0</td>\n",
              "      <td>0</td>\n",
              "      <td>0</td>\n",
              "      <td>0</td>\n",
              "      <td>0</td>\n",
              "      <td>0</td>\n",
              "      <td>0</td>\n",
              "      <td>0</td>\n",
              "      <td>0</td>\n",
              "      <td>0</td>\n",
              "      <td>0</td>\n",
              "      <td>0</td>\n",
              "      <td>0</td>\n",
              "      <td>0</td>\n",
              "      <td>0</td>\n",
              "      <td>0</td>\n",
              "      <td>0</td>\n",
              "      <td>0</td>\n",
              "      <td>0</td>\n",
              "      <td>0</td>\n",
              "      <td>0</td>\n",
              "      <td>0</td>\n",
              "      <td>0</td>\n",
              "      <td>0</td>\n",
              "      <td>0</td>\n",
              "      <td>0</td>\n",
              "      <td>0</td>\n",
              "      <td>0</td>\n",
              "      <td>0</td>\n",
              "      <td>0</td>\n",
              "      <td>0</td>\n",
              "      <td>...</td>\n",
              "      <td>0</td>\n",
              "      <td>0</td>\n",
              "      <td>0</td>\n",
              "      <td>0</td>\n",
              "      <td>0</td>\n",
              "      <td>0</td>\n",
              "      <td>0</td>\n",
              "      <td>0</td>\n",
              "      <td>0</td>\n",
              "      <td>0</td>\n",
              "      <td>0</td>\n",
              "      <td>0</td>\n",
              "      <td>0</td>\n",
              "      <td>0</td>\n",
              "      <td>0</td>\n",
              "      <td>0</td>\n",
              "      <td>0</td>\n",
              "      <td>0</td>\n",
              "      <td>0</td>\n",
              "      <td>0</td>\n",
              "      <td>0</td>\n",
              "      <td>0</td>\n",
              "      <td>0</td>\n",
              "      <td>0</td>\n",
              "      <td>0</td>\n",
              "      <td>0</td>\n",
              "      <td>0</td>\n",
              "      <td>0</td>\n",
              "      <td>0</td>\n",
              "      <td>0</td>\n",
              "      <td>0</td>\n",
              "      <td>0</td>\n",
              "      <td>0</td>\n",
              "      <td>0</td>\n",
              "      <td>0</td>\n",
              "      <td>0</td>\n",
              "      <td>0</td>\n",
              "      <td>0</td>\n",
              "      <td>0</td>\n",
              "      <td>0</td>\n",
              "    </tr>\n",
              "    <tr>\n",
              "      <th>And Your Bird Can Sing</th>\n",
              "      <td>0</td>\n",
              "      <td>0</td>\n",
              "      <td>0</td>\n",
              "      <td>0</td>\n",
              "      <td>0</td>\n",
              "      <td>0</td>\n",
              "      <td>0</td>\n",
              "      <td>0</td>\n",
              "      <td>0</td>\n",
              "      <td>0</td>\n",
              "      <td>0</td>\n",
              "      <td>0</td>\n",
              "      <td>0</td>\n",
              "      <td>0</td>\n",
              "      <td>0</td>\n",
              "      <td>0</td>\n",
              "      <td>0</td>\n",
              "      <td>0</td>\n",
              "      <td>0</td>\n",
              "      <td>0</td>\n",
              "      <td>0</td>\n",
              "      <td>0</td>\n",
              "      <td>0</td>\n",
              "      <td>0</td>\n",
              "      <td>0</td>\n",
              "      <td>0</td>\n",
              "      <td>0</td>\n",
              "      <td>0</td>\n",
              "      <td>0</td>\n",
              "      <td>0</td>\n",
              "      <td>0</td>\n",
              "      <td>0</td>\n",
              "      <td>0</td>\n",
              "      <td>0</td>\n",
              "      <td>0</td>\n",
              "      <td>0</td>\n",
              "      <td>0</td>\n",
              "      <td>0</td>\n",
              "      <td>0</td>\n",
              "      <td>0</td>\n",
              "      <td>...</td>\n",
              "      <td>0</td>\n",
              "      <td>0</td>\n",
              "      <td>0</td>\n",
              "      <td>0</td>\n",
              "      <td>0</td>\n",
              "      <td>0</td>\n",
              "      <td>0</td>\n",
              "      <td>0</td>\n",
              "      <td>0</td>\n",
              "      <td>0</td>\n",
              "      <td>0</td>\n",
              "      <td>0</td>\n",
              "      <td>0</td>\n",
              "      <td>0</td>\n",
              "      <td>0</td>\n",
              "      <td>0</td>\n",
              "      <td>0</td>\n",
              "      <td>0</td>\n",
              "      <td>0</td>\n",
              "      <td>0</td>\n",
              "      <td>0</td>\n",
              "      <td>0</td>\n",
              "      <td>0</td>\n",
              "      <td>0</td>\n",
              "      <td>0</td>\n",
              "      <td>0</td>\n",
              "      <td>0</td>\n",
              "      <td>0</td>\n",
              "      <td>0</td>\n",
              "      <td>0</td>\n",
              "      <td>0</td>\n",
              "      <td>0</td>\n",
              "      <td>0</td>\n",
              "      <td>0</td>\n",
              "      <td>0</td>\n",
              "      <td>0</td>\n",
              "      <td>0</td>\n",
              "      <td>0</td>\n",
              "      <td>0</td>\n",
              "      <td>0</td>\n",
              "    </tr>\n",
              "  </tbody>\n",
              "</table>\n",
              "<p>5 rows × 2026 columns</p>\n",
              "</div>"
            ],
            "text/plain": [
              "                            aaahhh  aah  abc  aches  ...  youu  zealand  zoo  zu\n",
              "song                                                 ...                        \n",
              "A Shot Of Rhythm And Blues       0    0    0      0  ...     0        0    0   0\n",
              "Across The Universe              0    0    0      0  ...     0        0    0   0\n",
              "All I've Got To Do               0    0    0      0  ...     0        0    0   0\n",
              "And I Love Her                   0    0    0      0  ...     0        0    0   0\n",
              "And Your Bird Can Sing           0    0    0      0  ...     0        0    0   0\n",
              "\n",
              "[5 rows x 2026 columns]"
            ]
          },
          "metadata": {
            "tags": []
          },
          "execution_count": 15
        }
      ]
    },
    {
      "cell_type": "markdown",
      "metadata": {
        "id": "0EBbev5azQub",
        "colab_type": "text"
      },
      "source": [
        "## Desafio  3 ##"
      ]
    },
    {
      "cell_type": "markdown",
      "metadata": {
        "id": "OXnRq9QTzQuc",
        "colab_type": "text"
      },
      "source": [
        "* Dê uma olhada na letra da música \"Imagine\".\n",
        "* Qual música é a mais parecida com a música \"Imagine\"?\n",
        "      * Use a semelhança de cosseno para calcular a semelhança\n",
        "      * Use o Count Vectorizer para codificar numericamente a letra\n",
        "* Encontre a música mais parecida usando o TF-IDF Vectorizer.\n",
        "\n",
        "Compare a música mais semelhante das saídas do Count Vectorizer e do TF-IDF Vectorizer."
      ]
    },
    {
      "cell_type": "code",
      "metadata": {
        "id": "-6t0fZRezQud",
        "colab_type": "code",
        "colab": {}
      },
      "source": [
        "# Defina as opções de exibição para que as letras não sejam cortadas\n",
        "pd.set_option('display.max_colwidth', -1)"
      ],
      "execution_count": 0,
      "outputs": []
    },
    {
      "cell_type": "code",
      "metadata": {
        "id": "Tn7zxs3RzQuf",
        "colab_type": "code",
        "colab": {
          "base_uri": "https://localhost:8080/",
          "height": 71
        },
        "outputId": "78db8d2c-3a20-45a5-9031-30d7d357faa4"
      },
      "source": [
        "#  letra Imagine\n",
        "beatles[beatles.song=='Imagine'].text"
      ],
      "execution_count": 17,
      "outputs": [
        {
          "output_type": "execute_result",
          "data": {
            "text/plain": [
              "24783    Imagine there's no heaven  \\r\\nIt's easy if you try  \\r\\nNo hell below us  \\r\\nAbove us only sky  \\r\\nImagine all the people  \\r\\nLiving for today...  \\r\\n  \\r\\nImagine there's no countries  \\r\\nIt isn't hard to do  \\r\\nNothing to kill or die for  \\r\\nAnd no religion too  \\r\\nImagine all the people  \\r\\nLiving life in peace...  \\r\\n  \\r\\nYou may say I'm a dreamer  \\r\\nBut I'm not the only one  \\r\\nI hope someday you'll join us  \\r\\nAnd the world will be as one  \\r\\n  \\r\\nImagine no possessions  \\r\\nI wonder if you can  \\r\\nNo need for greed or hunger  \\r\\nA brotherhood of man  \\r\\nImagine all the people  \\r\\nSharing all the world...  \\r\\n  \\r\\nYou may say I'm a dreamer  \\r\\nBut I'm not the only one  \\r\\nI hope someday you'll join us  \\r\\nAnd the world will live as one\\r\\n\\r\\n\n",
              "Name: text, dtype: object"
            ]
          },
          "metadata": {
            "tags": []
          },
          "execution_count": 17
        }
      ]
    },
    {
      "cell_type": "code",
      "metadata": {
        "id": "rByFwZCPzQui",
        "colab_type": "code",
        "colab": {
          "base_uri": "https://localhost:8080/",
          "height": 34
        },
        "outputId": "511cb62c-c0c1-4088-8dcd-6b8fbb26ce0b"
      },
      "source": [
        "# imagine \"letra no formato Count Vectorizer\"\n",
        "imagine = list(dt.loc['Imagine'])\n",
        "imagine[:20]"
      ],
      "execution_count": 18,
      "outputs": [
        {
          "output_type": "execute_result",
          "data": {
            "text/plain": [
              "[0, 0, 0, 0, 0, 0, 0, 0, 0, 0, 0, 0, 0, 0, 0, 0, 0, 0, 0, 0]"
            ]
          },
          "metadata": {
            "tags": []
          },
          "execution_count": 18
        }
      ]
    },
    {
      "cell_type": "code",
      "metadata": {
        "id": "cehuUB_KzQuk",
        "colab_type": "code",
        "colab": {}
      },
      "source": [
        "# Definir o cálculo de similaridade de cosseno\n",
        "from numpy import dot\n",
        "from numpy.linalg import norm\n",
        "\n",
        "cosine = lambda v1, v2: dot(v1, v2) / (norm(v1) * norm(v2))"
      ],
      "execution_count": 0,
      "outputs": []
    },
    {
      "cell_type": "code",
      "metadata": {
        "id": "qANdmm88zQun",
        "colab_type": "code",
        "colab": {
          "base_uri": "https://localhost:8080/",
          "height": 102
        },
        "outputId": "a4e81da1-4995-4d51-becb-c2430ede9279"
      },
      "source": [
        "# Calcular todas as semelhanças e classificar pelas mais semelhantes\n",
        "similarity = [cosine(imagine, song) for song in X]\n",
        "sorted(list(zip(similarity, beatles.song)), reverse=True)[1:6]"
      ],
      "execution_count": 20,
      "outputs": [
        {
          "output_type": "execute_result",
          "data": {
            "text/plain": [
              "[(0.22757944185316942, \"I'll Cry Instead\"),\n",
              " (0.1738270040532526, 'In My Life'),\n",
              " (0.16574838603294895, 'Eleanor Rigby'),\n",
              " (0.1490280831849844, 'In Spite Of All The Danger'),\n",
              " (0.14592261028699943, 'All My Loving')]"
            ]
          },
          "metadata": {
            "tags": []
          },
          "execution_count": 20
        }
      ]
    },
    {
      "cell_type": "code",
      "metadata": {
        "id": "bhtF2_dgzQup",
        "colab_type": "code",
        "colab": {
          "base_uri": "https://localhost:8080/",
          "height": 488
        },
        "outputId": "d318fe3e-95e8-4250-fe72-217336f1d582"
      },
      "source": [
        "# Crie o vetorizador TF-IDF\n",
        "from sklearn.feature_extraction.text import TfidfVectorizer\n",
        "          \n",
        "cv_tfidf = TfidfVectorizer(stop_words=\"english\")\n",
        "X_tfidf = cv_tfidf.fit_transform(corpus).toarray()\n",
        "\n",
        "dt_tfidf = pd.DataFrame(X_tfidf, columns=cv_tfidf.get_feature_names()).set_index(beatles.song)\n",
        "dt_tfidf.head()"
      ],
      "execution_count": 21,
      "outputs": [
        {
          "output_type": "execute_result",
          "data": {
            "text/html": [
              "<div>\n",
              "<style scoped>\n",
              "    .dataframe tbody tr th:only-of-type {\n",
              "        vertical-align: middle;\n",
              "    }\n",
              "\n",
              "    .dataframe tbody tr th {\n",
              "        vertical-align: top;\n",
              "    }\n",
              "\n",
              "    .dataframe thead th {\n",
              "        text-align: right;\n",
              "    }\n",
              "</style>\n",
              "<table border=\"1\" class=\"dataframe\">\n",
              "  <thead>\n",
              "    <tr style=\"text-align: right;\">\n",
              "      <th></th>\n",
              "      <th>aaahhh</th>\n",
              "      <th>aah</th>\n",
              "      <th>abc</th>\n",
              "      <th>aches</th>\n",
              "      <th>aching</th>\n",
              "      <th>acquainted</th>\n",
              "      <th>act</th>\n",
              "      <th>actors</th>\n",
              "      <th>acts</th>\n",
              "      <th>add</th>\n",
              "      <th>admit</th>\n",
              "      <th>adore</th>\n",
              "      <th>advantage</th>\n",
              "      <th>affair</th>\n",
              "      <th>affection</th>\n",
              "      <th>afraid</th>\n",
              "      <th>afternoon</th>\n",
              "      <th>ageing</th>\n",
              "      <th>ago</th>\n",
              "      <th>agree</th>\n",
              "      <th>ah</th>\n",
              "      <th>ahead</th>\n",
              "      <th>ahh</th>\n",
              "      <th>ain</th>\n",
              "      <th>air</th>\n",
              "      <th>alan</th>\n",
              "      <th>albert</th>\n",
              "      <th>allan</th>\n",
              "      <th>alley</th>\n",
              "      <th>allowed</th>\n",
              "      <th>alright</th>\n",
              "      <th>anderen</th>\n",
              "      <th>angel</th>\n",
              "      <th>angry</th>\n",
              "      <th>anna</th>\n",
              "      <th>announcement</th>\n",
              "      <th>answer</th>\n",
              "      <th>anton</th>\n",
              "      <th>anybody</th>\n",
              "      <th>anymore</th>\n",
              "      <th>...</th>\n",
              "      <th>working</th>\n",
              "      <th>works</th>\n",
              "      <th>world</th>\n",
              "      <th>worried</th>\n",
              "      <th>worries</th>\n",
              "      <th>worry</th>\n",
              "      <th>worrying</th>\n",
              "      <th>worse</th>\n",
              "      <th>worst</th>\n",
              "      <th>worth</th>\n",
              "      <th>wouldn</th>\n",
              "      <th>wow</th>\n",
              "      <th>writ</th>\n",
              "      <th>write</th>\n",
              "      <th>writing</th>\n",
              "      <th>wrong</th>\n",
              "      <th>wrote</th>\n",
              "      <th>wuwuwu</th>\n",
              "      <th>ya</th>\n",
              "      <th>yard</th>\n",
              "      <th>yawning</th>\n",
              "      <th>yay</th>\n",
              "      <th>ye</th>\n",
              "      <th>yea</th>\n",
              "      <th>yeag</th>\n",
              "      <th>yeah</th>\n",
              "      <th>year</th>\n",
              "      <th>years</th>\n",
              "      <th>yeh</th>\n",
              "      <th>yellow</th>\n",
              "      <th>yes</th>\n",
              "      <th>yesterday</th>\n",
              "      <th>yoko</th>\n",
              "      <th>young</th>\n",
              "      <th>younger</th>\n",
              "      <th>youre</th>\n",
              "      <th>youu</th>\n",
              "      <th>zealand</th>\n",
              "      <th>zoo</th>\n",
              "      <th>zu</th>\n",
              "    </tr>\n",
              "    <tr>\n",
              "      <th>song</th>\n",
              "      <th></th>\n",
              "      <th></th>\n",
              "      <th></th>\n",
              "      <th></th>\n",
              "      <th></th>\n",
              "      <th></th>\n",
              "      <th></th>\n",
              "      <th></th>\n",
              "      <th></th>\n",
              "      <th></th>\n",
              "      <th></th>\n",
              "      <th></th>\n",
              "      <th></th>\n",
              "      <th></th>\n",
              "      <th></th>\n",
              "      <th></th>\n",
              "      <th></th>\n",
              "      <th></th>\n",
              "      <th></th>\n",
              "      <th></th>\n",
              "      <th></th>\n",
              "      <th></th>\n",
              "      <th></th>\n",
              "      <th></th>\n",
              "      <th></th>\n",
              "      <th></th>\n",
              "      <th></th>\n",
              "      <th></th>\n",
              "      <th></th>\n",
              "      <th></th>\n",
              "      <th></th>\n",
              "      <th></th>\n",
              "      <th></th>\n",
              "      <th></th>\n",
              "      <th></th>\n",
              "      <th></th>\n",
              "      <th></th>\n",
              "      <th></th>\n",
              "      <th></th>\n",
              "      <th></th>\n",
              "      <th></th>\n",
              "      <th></th>\n",
              "      <th></th>\n",
              "      <th></th>\n",
              "      <th></th>\n",
              "      <th></th>\n",
              "      <th></th>\n",
              "      <th></th>\n",
              "      <th></th>\n",
              "      <th></th>\n",
              "      <th></th>\n",
              "      <th></th>\n",
              "      <th></th>\n",
              "      <th></th>\n",
              "      <th></th>\n",
              "      <th></th>\n",
              "      <th></th>\n",
              "      <th></th>\n",
              "      <th></th>\n",
              "      <th></th>\n",
              "      <th></th>\n",
              "      <th></th>\n",
              "      <th></th>\n",
              "      <th></th>\n",
              "      <th></th>\n",
              "      <th></th>\n",
              "      <th></th>\n",
              "      <th></th>\n",
              "      <th></th>\n",
              "      <th></th>\n",
              "      <th></th>\n",
              "      <th></th>\n",
              "      <th></th>\n",
              "      <th></th>\n",
              "      <th></th>\n",
              "      <th></th>\n",
              "      <th></th>\n",
              "      <th></th>\n",
              "      <th></th>\n",
              "      <th></th>\n",
              "      <th></th>\n",
              "    </tr>\n",
              "  </thead>\n",
              "  <tbody>\n",
              "    <tr>\n",
              "      <th>A Shot Of Rhythm And Blues</th>\n",
              "      <td>0.0</td>\n",
              "      <td>0.0</td>\n",
              "      <td>0.0</td>\n",
              "      <td>0.0</td>\n",
              "      <td>0.0</td>\n",
              "      <td>0.0</td>\n",
              "      <td>0.0</td>\n",
              "      <td>0.0</td>\n",
              "      <td>0.0</td>\n",
              "      <td>0.0</td>\n",
              "      <td>0.0</td>\n",
              "      <td>0.0</td>\n",
              "      <td>0.0</td>\n",
              "      <td>0.0</td>\n",
              "      <td>0.0</td>\n",
              "      <td>0.0</td>\n",
              "      <td>0.0</td>\n",
              "      <td>0.0</td>\n",
              "      <td>0.0</td>\n",
              "      <td>0.0</td>\n",
              "      <td>0.0</td>\n",
              "      <td>0.0</td>\n",
              "      <td>0.0</td>\n",
              "      <td>0.0</td>\n",
              "      <td>0.0</td>\n",
              "      <td>0.0</td>\n",
              "      <td>0.0</td>\n",
              "      <td>0.0</td>\n",
              "      <td>0.0</td>\n",
              "      <td>0.0</td>\n",
              "      <td>0.0</td>\n",
              "      <td>0.0</td>\n",
              "      <td>0.0</td>\n",
              "      <td>0.0</td>\n",
              "      <td>0.0</td>\n",
              "      <td>0.0</td>\n",
              "      <td>0.0</td>\n",
              "      <td>0.0</td>\n",
              "      <td>0.0</td>\n",
              "      <td>0.0</td>\n",
              "      <td>...</td>\n",
              "      <td>0.0</td>\n",
              "      <td>0.0</td>\n",
              "      <td>0.000000</td>\n",
              "      <td>0.0</td>\n",
              "      <td>0.0</td>\n",
              "      <td>0.165014</td>\n",
              "      <td>0.0</td>\n",
              "      <td>0.0</td>\n",
              "      <td>0.0</td>\n",
              "      <td>0.0</td>\n",
              "      <td>0.0</td>\n",
              "      <td>0.0</td>\n",
              "      <td>0.0</td>\n",
              "      <td>0.0</td>\n",
              "      <td>0.0</td>\n",
              "      <td>0.0</td>\n",
              "      <td>0.0</td>\n",
              "      <td>0.0</td>\n",
              "      <td>0.0</td>\n",
              "      <td>0.0</td>\n",
              "      <td>0.0</td>\n",
              "      <td>0.0</td>\n",
              "      <td>0.0</td>\n",
              "      <td>0.0</td>\n",
              "      <td>0.0</td>\n",
              "      <td>0.00000</td>\n",
              "      <td>0.0</td>\n",
              "      <td>0.0</td>\n",
              "      <td>0.0</td>\n",
              "      <td>0.0</td>\n",
              "      <td>0.000000</td>\n",
              "      <td>0.0</td>\n",
              "      <td>0.0</td>\n",
              "      <td>0.0</td>\n",
              "      <td>0.0</td>\n",
              "      <td>0.0</td>\n",
              "      <td>0.0</td>\n",
              "      <td>0.0</td>\n",
              "      <td>0.0</td>\n",
              "      <td>0.0</td>\n",
              "    </tr>\n",
              "    <tr>\n",
              "      <th>Across The Universe</th>\n",
              "      <td>0.0</td>\n",
              "      <td>0.0</td>\n",
              "      <td>0.0</td>\n",
              "      <td>0.0</td>\n",
              "      <td>0.0</td>\n",
              "      <td>0.0</td>\n",
              "      <td>0.0</td>\n",
              "      <td>0.0</td>\n",
              "      <td>0.0</td>\n",
              "      <td>0.0</td>\n",
              "      <td>0.0</td>\n",
              "      <td>0.0</td>\n",
              "      <td>0.0</td>\n",
              "      <td>0.0</td>\n",
              "      <td>0.0</td>\n",
              "      <td>0.0</td>\n",
              "      <td>0.0</td>\n",
              "      <td>0.0</td>\n",
              "      <td>0.0</td>\n",
              "      <td>0.0</td>\n",
              "      <td>0.0</td>\n",
              "      <td>0.0</td>\n",
              "      <td>0.0</td>\n",
              "      <td>0.0</td>\n",
              "      <td>0.0</td>\n",
              "      <td>0.0</td>\n",
              "      <td>0.0</td>\n",
              "      <td>0.0</td>\n",
              "      <td>0.0</td>\n",
              "      <td>0.0</td>\n",
              "      <td>0.0</td>\n",
              "      <td>0.0</td>\n",
              "      <td>0.0</td>\n",
              "      <td>0.0</td>\n",
              "      <td>0.0</td>\n",
              "      <td>0.0</td>\n",
              "      <td>0.0</td>\n",
              "      <td>0.0</td>\n",
              "      <td>0.0</td>\n",
              "      <td>0.0</td>\n",
              "      <td>...</td>\n",
              "      <td>0.0</td>\n",
              "      <td>0.0</td>\n",
              "      <td>0.342709</td>\n",
              "      <td>0.0</td>\n",
              "      <td>0.0</td>\n",
              "      <td>0.000000</td>\n",
              "      <td>0.0</td>\n",
              "      <td>0.0</td>\n",
              "      <td>0.0</td>\n",
              "      <td>0.0</td>\n",
              "      <td>0.0</td>\n",
              "      <td>0.0</td>\n",
              "      <td>0.0</td>\n",
              "      <td>0.0</td>\n",
              "      <td>0.0</td>\n",
              "      <td>0.0</td>\n",
              "      <td>0.0</td>\n",
              "      <td>0.0</td>\n",
              "      <td>0.0</td>\n",
              "      <td>0.0</td>\n",
              "      <td>0.0</td>\n",
              "      <td>0.0</td>\n",
              "      <td>0.0</td>\n",
              "      <td>0.0</td>\n",
              "      <td>0.0</td>\n",
              "      <td>0.00000</td>\n",
              "      <td>0.0</td>\n",
              "      <td>0.0</td>\n",
              "      <td>0.0</td>\n",
              "      <td>0.0</td>\n",
              "      <td>0.000000</td>\n",
              "      <td>0.0</td>\n",
              "      <td>0.0</td>\n",
              "      <td>0.0</td>\n",
              "      <td>0.0</td>\n",
              "      <td>0.0</td>\n",
              "      <td>0.0</td>\n",
              "      <td>0.0</td>\n",
              "      <td>0.0</td>\n",
              "      <td>0.0</td>\n",
              "    </tr>\n",
              "    <tr>\n",
              "      <th>All I've Got To Do</th>\n",
              "      <td>0.0</td>\n",
              "      <td>0.0</td>\n",
              "      <td>0.0</td>\n",
              "      <td>0.0</td>\n",
              "      <td>0.0</td>\n",
              "      <td>0.0</td>\n",
              "      <td>0.0</td>\n",
              "      <td>0.0</td>\n",
              "      <td>0.0</td>\n",
              "      <td>0.0</td>\n",
              "      <td>0.0</td>\n",
              "      <td>0.0</td>\n",
              "      <td>0.0</td>\n",
              "      <td>0.0</td>\n",
              "      <td>0.0</td>\n",
              "      <td>0.0</td>\n",
              "      <td>0.0</td>\n",
              "      <td>0.0</td>\n",
              "      <td>0.0</td>\n",
              "      <td>0.0</td>\n",
              "      <td>0.0</td>\n",
              "      <td>0.0</td>\n",
              "      <td>0.0</td>\n",
              "      <td>0.0</td>\n",
              "      <td>0.0</td>\n",
              "      <td>0.0</td>\n",
              "      <td>0.0</td>\n",
              "      <td>0.0</td>\n",
              "      <td>0.0</td>\n",
              "      <td>0.0</td>\n",
              "      <td>0.0</td>\n",
              "      <td>0.0</td>\n",
              "      <td>0.0</td>\n",
              "      <td>0.0</td>\n",
              "      <td>0.0</td>\n",
              "      <td>0.0</td>\n",
              "      <td>0.0</td>\n",
              "      <td>0.0</td>\n",
              "      <td>0.0</td>\n",
              "      <td>0.0</td>\n",
              "      <td>...</td>\n",
              "      <td>0.0</td>\n",
              "      <td>0.0</td>\n",
              "      <td>0.000000</td>\n",
              "      <td>0.0</td>\n",
              "      <td>0.0</td>\n",
              "      <td>0.000000</td>\n",
              "      <td>0.0</td>\n",
              "      <td>0.0</td>\n",
              "      <td>0.0</td>\n",
              "      <td>0.0</td>\n",
              "      <td>0.0</td>\n",
              "      <td>0.0</td>\n",
              "      <td>0.0</td>\n",
              "      <td>0.0</td>\n",
              "      <td>0.0</td>\n",
              "      <td>0.0</td>\n",
              "      <td>0.0</td>\n",
              "      <td>0.0</td>\n",
              "      <td>0.0</td>\n",
              "      <td>0.0</td>\n",
              "      <td>0.0</td>\n",
              "      <td>0.0</td>\n",
              "      <td>0.0</td>\n",
              "      <td>0.0</td>\n",
              "      <td>0.0</td>\n",
              "      <td>0.29828</td>\n",
              "      <td>0.0</td>\n",
              "      <td>0.0</td>\n",
              "      <td>0.0</td>\n",
              "      <td>0.0</td>\n",
              "      <td>0.120483</td>\n",
              "      <td>0.0</td>\n",
              "      <td>0.0</td>\n",
              "      <td>0.0</td>\n",
              "      <td>0.0</td>\n",
              "      <td>0.0</td>\n",
              "      <td>0.0</td>\n",
              "      <td>0.0</td>\n",
              "      <td>0.0</td>\n",
              "      <td>0.0</td>\n",
              "    </tr>\n",
              "    <tr>\n",
              "      <th>And I Love Her</th>\n",
              "      <td>0.0</td>\n",
              "      <td>0.0</td>\n",
              "      <td>0.0</td>\n",
              "      <td>0.0</td>\n",
              "      <td>0.0</td>\n",
              "      <td>0.0</td>\n",
              "      <td>0.0</td>\n",
              "      <td>0.0</td>\n",
              "      <td>0.0</td>\n",
              "      <td>0.0</td>\n",
              "      <td>0.0</td>\n",
              "      <td>0.0</td>\n",
              "      <td>0.0</td>\n",
              "      <td>0.0</td>\n",
              "      <td>0.0</td>\n",
              "      <td>0.0</td>\n",
              "      <td>0.0</td>\n",
              "      <td>0.0</td>\n",
              "      <td>0.0</td>\n",
              "      <td>0.0</td>\n",
              "      <td>0.0</td>\n",
              "      <td>0.0</td>\n",
              "      <td>0.0</td>\n",
              "      <td>0.0</td>\n",
              "      <td>0.0</td>\n",
              "      <td>0.0</td>\n",
              "      <td>0.0</td>\n",
              "      <td>0.0</td>\n",
              "      <td>0.0</td>\n",
              "      <td>0.0</td>\n",
              "      <td>0.0</td>\n",
              "      <td>0.0</td>\n",
              "      <td>0.0</td>\n",
              "      <td>0.0</td>\n",
              "      <td>0.0</td>\n",
              "      <td>0.0</td>\n",
              "      <td>0.0</td>\n",
              "      <td>0.0</td>\n",
              "      <td>0.0</td>\n",
              "      <td>0.0</td>\n",
              "      <td>...</td>\n",
              "      <td>0.0</td>\n",
              "      <td>0.0</td>\n",
              "      <td>0.000000</td>\n",
              "      <td>0.0</td>\n",
              "      <td>0.0</td>\n",
              "      <td>0.000000</td>\n",
              "      <td>0.0</td>\n",
              "      <td>0.0</td>\n",
              "      <td>0.0</td>\n",
              "      <td>0.0</td>\n",
              "      <td>0.0</td>\n",
              "      <td>0.0</td>\n",
              "      <td>0.0</td>\n",
              "      <td>0.0</td>\n",
              "      <td>0.0</td>\n",
              "      <td>0.0</td>\n",
              "      <td>0.0</td>\n",
              "      <td>0.0</td>\n",
              "      <td>0.0</td>\n",
              "      <td>0.0</td>\n",
              "      <td>0.0</td>\n",
              "      <td>0.0</td>\n",
              "      <td>0.0</td>\n",
              "      <td>0.0</td>\n",
              "      <td>0.0</td>\n",
              "      <td>0.00000</td>\n",
              "      <td>0.0</td>\n",
              "      <td>0.0</td>\n",
              "      <td>0.0</td>\n",
              "      <td>0.0</td>\n",
              "      <td>0.000000</td>\n",
              "      <td>0.0</td>\n",
              "      <td>0.0</td>\n",
              "      <td>0.0</td>\n",
              "      <td>0.0</td>\n",
              "      <td>0.0</td>\n",
              "      <td>0.0</td>\n",
              "      <td>0.0</td>\n",
              "      <td>0.0</td>\n",
              "      <td>0.0</td>\n",
              "    </tr>\n",
              "    <tr>\n",
              "      <th>And Your Bird Can Sing</th>\n",
              "      <td>0.0</td>\n",
              "      <td>0.0</td>\n",
              "      <td>0.0</td>\n",
              "      <td>0.0</td>\n",
              "      <td>0.0</td>\n",
              "      <td>0.0</td>\n",
              "      <td>0.0</td>\n",
              "      <td>0.0</td>\n",
              "      <td>0.0</td>\n",
              "      <td>0.0</td>\n",
              "      <td>0.0</td>\n",
              "      <td>0.0</td>\n",
              "      <td>0.0</td>\n",
              "      <td>0.0</td>\n",
              "      <td>0.0</td>\n",
              "      <td>0.0</td>\n",
              "      <td>0.0</td>\n",
              "      <td>0.0</td>\n",
              "      <td>0.0</td>\n",
              "      <td>0.0</td>\n",
              "      <td>0.0</td>\n",
              "      <td>0.0</td>\n",
              "      <td>0.0</td>\n",
              "      <td>0.0</td>\n",
              "      <td>0.0</td>\n",
              "      <td>0.0</td>\n",
              "      <td>0.0</td>\n",
              "      <td>0.0</td>\n",
              "      <td>0.0</td>\n",
              "      <td>0.0</td>\n",
              "      <td>0.0</td>\n",
              "      <td>0.0</td>\n",
              "      <td>0.0</td>\n",
              "      <td>0.0</td>\n",
              "      <td>0.0</td>\n",
              "      <td>0.0</td>\n",
              "      <td>0.0</td>\n",
              "      <td>0.0</td>\n",
              "      <td>0.0</td>\n",
              "      <td>0.0</td>\n",
              "      <td>...</td>\n",
              "      <td>0.0</td>\n",
              "      <td>0.0</td>\n",
              "      <td>0.000000</td>\n",
              "      <td>0.0</td>\n",
              "      <td>0.0</td>\n",
              "      <td>0.000000</td>\n",
              "      <td>0.0</td>\n",
              "      <td>0.0</td>\n",
              "      <td>0.0</td>\n",
              "      <td>0.0</td>\n",
              "      <td>0.0</td>\n",
              "      <td>0.0</td>\n",
              "      <td>0.0</td>\n",
              "      <td>0.0</td>\n",
              "      <td>0.0</td>\n",
              "      <td>0.0</td>\n",
              "      <td>0.0</td>\n",
              "      <td>0.0</td>\n",
              "      <td>0.0</td>\n",
              "      <td>0.0</td>\n",
              "      <td>0.0</td>\n",
              "      <td>0.0</td>\n",
              "      <td>0.0</td>\n",
              "      <td>0.0</td>\n",
              "      <td>0.0</td>\n",
              "      <td>0.00000</td>\n",
              "      <td>0.0</td>\n",
              "      <td>0.0</td>\n",
              "      <td>0.0</td>\n",
              "      <td>0.0</td>\n",
              "      <td>0.000000</td>\n",
              "      <td>0.0</td>\n",
              "      <td>0.0</td>\n",
              "      <td>0.0</td>\n",
              "      <td>0.0</td>\n",
              "      <td>0.0</td>\n",
              "      <td>0.0</td>\n",
              "      <td>0.0</td>\n",
              "      <td>0.0</td>\n",
              "      <td>0.0</td>\n",
              "    </tr>\n",
              "  </tbody>\n",
              "</table>\n",
              "<p>5 rows × 2026 columns</p>\n",
              "</div>"
            ],
            "text/plain": [
              "                            aaahhh  aah  abc  aches  ...  youu  zealand  zoo   zu\n",
              "song                                                 ...                         \n",
              "A Shot Of Rhythm And Blues  0.0     0.0  0.0  0.0    ...  0.0   0.0      0.0  0.0\n",
              "Across The Universe         0.0     0.0  0.0  0.0    ...  0.0   0.0      0.0  0.0\n",
              "All I've Got To Do          0.0     0.0  0.0  0.0    ...  0.0   0.0      0.0  0.0\n",
              "And I Love Her              0.0     0.0  0.0  0.0    ...  0.0   0.0      0.0  0.0\n",
              "And Your Bird Can Sing      0.0     0.0  0.0  0.0    ...  0.0   0.0      0.0  0.0\n",
              "\n",
              "[5 rows x 2026 columns]"
            ]
          },
          "metadata": {
            "tags": []
          },
          "execution_count": 21
        }
      ]
    },
    {
      "cell_type": "code",
      "metadata": {
        "id": "S_9lscupzQur",
        "colab_type": "code",
        "colab": {
          "base_uri": "https://localhost:8080/",
          "height": 102
        },
        "outputId": "baa8d0a4-f0f1-4cd5-9cab-a53c632cbb5b"
      },
      "source": [
        "# Calcule todas as semelhanças e classifique as mais semelhantes usando os dados do TF-IDF\n",
        "similarity_tfidf = [cosine(imagine, song) for song in X_tfidf]\n",
        "sorted(list(zip(similarity_tfidf, beatles.song)), reverse=True)[1:6]"
      ],
      "execution_count": 22,
      "outputs": [
        {
          "output_type": "execute_result",
          "data": {
            "text/plain": [
              "[(0.19266277925834221, \"I'll Cry Instead\"),\n",
              " (0.18004423848592196, \"I'll Get You\"),\n",
              " (0.15513717441169333, 'Eleanor Rigby'),\n",
              " (0.15054395512050195, 'In My Life'),\n",
              " (0.12306875209548622, 'Love Of The Loved')]"
            ]
          },
          "metadata": {
            "tags": []
          },
          "execution_count": 22
        }
      ]
    },
    {
      "cell_type": "markdown",
      "metadata": {
        "id": "AYhIggfizQuu",
        "colab_type": "text"
      },
      "source": [
        "As respostas para o Count Vectorizer e TF-IDF Vectorizer estão bem próximas. Nos dois casos, \"Eu vou chorar\" é a música mais parecida com \"Imagine\". Quando você olha as letras, pode ver que as duas estão do lado triste das músicas dos Beatles."
      ]
    },
    {
      "cell_type": "code",
      "metadata": {
        "id": "4ttWuGOSzQuv",
        "colab_type": "code",
        "colab": {
          "base_uri": "https://localhost:8080/",
          "height": 71
        },
        "outputId": "bb2a6f53-f5e6-4fd9-be73-6dde7bcba8c6"
      },
      "source": [
        "# Imagine lyrics\n",
        "beatles[beatles.song=='Imagine'].text"
      ],
      "execution_count": 23,
      "outputs": [
        {
          "output_type": "execute_result",
          "data": {
            "text/plain": [
              "24783    Imagine there's no heaven  \\r\\nIt's easy if you try  \\r\\nNo hell below us  \\r\\nAbove us only sky  \\r\\nImagine all the people  \\r\\nLiving for today...  \\r\\n  \\r\\nImagine there's no countries  \\r\\nIt isn't hard to do  \\r\\nNothing to kill or die for  \\r\\nAnd no religion too  \\r\\nImagine all the people  \\r\\nLiving life in peace...  \\r\\n  \\r\\nYou may say I'm a dreamer  \\r\\nBut I'm not the only one  \\r\\nI hope someday you'll join us  \\r\\nAnd the world will be as one  \\r\\n  \\r\\nImagine no possessions  \\r\\nI wonder if you can  \\r\\nNo need for greed or hunger  \\r\\nA brotherhood of man  \\r\\nImagine all the people  \\r\\nSharing all the world...  \\r\\n  \\r\\nYou may say I'm a dreamer  \\r\\nBut I'm not the only one  \\r\\nI hope someday you'll join us  \\r\\nAnd the world will live as one\\r\\n\\r\\n\n",
              "Name: text, dtype: object"
            ]
          },
          "metadata": {
            "tags": []
          },
          "execution_count": 23
        }
      ]
    },
    {
      "cell_type": "code",
      "metadata": {
        "id": "OZjRCKjDzQuy",
        "colab_type": "code",
        "colab": {
          "base_uri": "https://localhost:8080/",
          "height": 71
        },
        "outputId": "0e4817e1-fd54-409d-9a0a-489ac7972eca"
      },
      "source": [
        "# I'll Cry Instead lyrics\n",
        "beatles[beatles.song=='I\\'ll Cry Instead'].text"
      ],
      "execution_count": 24,
      "outputs": [
        {
          "output_type": "execute_result",
          "data": {
            "text/plain": [
              "24774    I've got every reason on earth to be mad  \\r\\n'Cause I just lost the only girl I had  \\r\\nIf I could get my way  \\r\\nI'd get myself locked up today  \\r\\nBut I can't, so I'll cry instead  \\r\\n  \\r\\nI've got a chip on my shoulder that's bigger that my feet  \\r\\nI can't talk to people that I meet  \\r\\nIf I could see you now  \\r\\nI'd try to make you sad somehow  \\r\\nBut I can't, so I'll cry instead  \\r\\n  \\r\\nDon't want to cry when there's people there  \\r\\nI get shy when they start to stare  \\r\\nI'm gonna hide myself away  \\r\\nBut I'll come back again someday  \\r\\n  \\r\\nAnd when you do you'd better hide all the girls  \\r\\nI'm gonna break their hearts all round the world  \\r\\nYes, I'm gonna break them in two  \\r\\nAnd show you what your lovin' man can do  \\r\\nUntil then I'll cry instead\\r\\n\\r\\n\n",
              "Name: text, dtype: object"
            ]
          },
          "metadata": {
            "tags": []
          },
          "execution_count": 24
        }
      ]
    },
    {
      "cell_type": "markdown",
      "metadata": {
        "id": "a1qytW2szQu0",
        "colab_type": "text"
      },
      "source": [
        "## Desafio 4 ##"
      ]
    },
    {
      "cell_type": "markdown",
      "metadata": {
        "id": "VNrCYysgzQu3",
        "colab_type": "text"
      },
      "source": [
        "Quais são as duas músicas dos Beatles mais parecidas?\n",
        "    * Usando o Count Vectorizer\n",
        "    * Usando o TFizer Vectorizer\n",
        "     \n",
        "Compare os resultados. Qual vetorizador parece fazer um trabalho melhor?"
      ]
    },
    {
      "cell_type": "code",
      "metadata": {
        "id": "JUX_cnQ_zQu4",
        "colab_type": "code",
        "colab": {}
      },
      "source": [
        "# Calcular a semelhança de cosseno entre todas as combinações de documentos"
      ],
      "execution_count": 0,
      "outputs": []
    },
    {
      "cell_type": "code",
      "metadata": {
        "id": "i6v6fXQOzQu8",
        "colab_type": "code",
        "colab": {
          "base_uri": "https://localhost:8080/",
          "height": 102
        },
        "outputId": "2ae9c7b5-e62e-4296-bb4c-33a18688650b"
      },
      "source": [
        "# Listar todas as combinações de músicas\n",
        "from itertools import combinations\n",
        "\n",
        "pairs = list(combinations(beatles.song.index, 2)) # all song index combos\n",
        "pairs_0 = list(combinations(range(len(beatles)), 2)) # all index combos starting with (0,1)\n",
        "song_pairs = [(beatles.song[a_index], beatles.song[b_index]) for (a_index, b_index) in pairs]\n",
        "song_pairs[:5]"
      ],
      "execution_count": 26,
      "outputs": [
        {
          "output_type": "execute_result",
          "data": {
            "text/plain": [
              "[('A Shot Of Rhythm And Blues', 'Across The Universe'),\n",
              " ('A Shot Of Rhythm And Blues', \"All I've Got To Do\"),\n",
              " ('A Shot Of Rhythm And Blues', 'And I Love Her'),\n",
              " ('A Shot Of Rhythm And Blues', 'And Your Bird Can Sing'),\n",
              " ('A Shot Of Rhythm And Blues', 'Another Girl')]"
            ]
          },
          "metadata": {
            "tags": []
          },
          "execution_count": 26
        }
      ]
    },
    {
      "cell_type": "code",
      "metadata": {
        "id": "f0BWldrczQu-",
        "colab_type": "code",
        "colab": {
          "base_uri": "https://localhost:8080/",
          "height": 102
        },
        "outputId": "a8c44d2b-62e3-40b4-eebf-740749543bc0"
      },
      "source": [
        "# Calcular a semelhança de cosseno da matriz termo-documento do Count Vectorizer\n",
        "results = [cosine(X[a_index], X[b_index]) for (a_index, b_index) in pairs_0]\n",
        "sorted(zip(results, song_pairs), reverse=True)[:5]"
      ],
      "execution_count": 27,
      "outputs": [
        {
          "output_type": "execute_result",
          "data": {
            "text/plain": [
              "[(0.8548876342047523, ('All You Need Is Love', 'Love Me Do')),\n",
              " (0.8359173188630292, ('If I Needed Someone', 'If I Needed Someone To Love')),\n",
              " (0.8058125835571367, ('And I Love Her', 'Love Me Do')),\n",
              " (0.7930110315846619, ('If I Fell', 'Love Me Do')),\n",
              " (0.7478391382739419, ('And I Love Her', 'All You Need Is Love'))]"
            ]
          },
          "metadata": {
            "tags": []
          },
          "execution_count": 27
        }
      ]
    },
    {
      "cell_type": "code",
      "metadata": {
        "id": "D6Lp5bVFzQvB",
        "colab_type": "code",
        "colab": {
          "base_uri": "https://localhost:8080/",
          "height": 102
        },
        "outputId": "4750ece7-d0cc-48f0-ea75-b5a4627b01b0"
      },
      "source": [
        "# Calcular a semelhança de cosseno da matriz termo-documento do TF-IDF Vectorizer\n",
        "results = [cosine(X_tfidf[a_index], X_tfidf[b_index]) for (a_index, b_index) in pairs_0]\n",
        "sorted(zip(results, song_pairs), reverse=True)[:5]"
      ],
      "execution_count": 28,
      "outputs": [
        {
          "output_type": "execute_result",
          "data": {
            "text/plain": [
              "[(0.8717047783261522, ('If I Needed Someone', 'If I Needed Someone To Love')),\n",
              " (0.6599353568343105, ('All You Need Is Love', 'Love Me Do')),\n",
              " (0.6502842517883833, ('Have A Banana!', 'Crinsk Dee Night')),\n",
              " (0.6232797327325461, (\"Don't Let Me Down\", 'Let It Be')),\n",
              " (0.5275364336322862, ('If I Fell', 'Love Me Do'))]"
            ]
          },
          "metadata": {
            "tags": []
          },
          "execution_count": 28
        }
      ]
    },
    {
      "cell_type": "markdown",
      "metadata": {
        "id": "PZW4Oz2zzQvE",
        "colab_type": "text"
      },
      "source": [
        "\n",
        "Com o Count Vectorizer, todas as músicas principais contêm o termo \"love\", com \"All You Need Is Love\" e \"Love Me Do\" sendo as mais semelhantes. Isso ocorre porque os Beatles tendem a usar muito o termo \"amor\" em suas músicas.\n",
        "\n",
        "Com o TF-IDF Vectorizer, as principais músicas semelhantes são um pouco mais interessantes. Parece que ele realmente pegou uma música duplicada no conjunto de dados das letras com \"If I Needed Someone\" e \"If I Needed Someone To Love\". Além disso, \"Tenha uma banana!\" e \"Crinsk Dee Night\" são conversas com o apresentador Brian Matthew."
      ]
    },
    {
      "cell_type": "code",
      "metadata": {
        "id": "mwVBssQMzQvF",
        "colab_type": "code",
        "colab": {
          "base_uri": "https://localhost:8080/",
          "height": 71
        },
        "outputId": "57c88ecb-716f-4802-d841-bcf438be280e"
      },
      "source": [
        "# All You Need Is Love lyrics\n",
        "beatles[beatles.song=='All You Need Is Love'].text"
      ],
      "execution_count": 29,
      "outputs": [
        {
          "output_type": "execute_result",
          "data": {
            "text/plain": [
              "24695    Love, love, love, love, love, love, love, love, love.  \\r\\n  \\r\\nThere's nothing you can do that can't be done.  \\r\\nNothing you can sing that can't be sung.  \\r\\nNothing you can say, but you can learn  \\r\\nHow to play the game  \\r\\nIt's easy.  \\r\\nNothing you can make that can't be made.  \\r\\nNo one you can save that can't be saved.  \\r\\nNothing you can do, but you can learn  \\r\\nHow to be you in time  \\r\\nIt's easy.  \\r\\n  \\r\\nAll you need is love, all you need is love,  \\r\\nAll you need is love, love. Love is all you need.  \\r\\nLove, love, love, love, love, love, love, love, love.  \\r\\nAll you need is love, all you need is love,  \\r\\nAll you need is love, love. Love is all you need.  \\r\\n  \\r\\nThere's nothing you can know that isn't known.  \\r\\nNothing you can see that isn't shown.  \\r\\nThere's nowhere you can be that isn't where  \\r\\nYou're meant to be  \\r\\nIt's easy.  \\r\\n  \\r\\nAll you need is love, all you need is love,  \\r\\nAll you need is love, love. Love is all you need.  \\r\\nAll you need is love. (All together now).  \\r\\nAll you need is love. (Everybody).  \\r\\nAll you need is love, love. Love is all you need.  \\r\\nLove is all you need.  \\r\\nLove is all you need  \\r\\n  \\r\\n(Yesterday)  \\r\\n(Oh yeah)  \\r\\n(She love you, yeah, yeah, yeah)  \\r\\n(She love you, yeah, yeah, yeah)  \\r\\n(Oh, yesterday)\\r\\n\\r\\n\n",
              "Name: text, dtype: object"
            ]
          },
          "metadata": {
            "tags": []
          },
          "execution_count": 29
        }
      ]
    },
    {
      "cell_type": "code",
      "metadata": {
        "id": "zhNfqTIWzQvI",
        "colab_type": "code",
        "colab": {
          "base_uri": "https://localhost:8080/",
          "height": 71
        },
        "outputId": "67a90d23-336c-44bb-d744-814c5b38a2c0"
      },
      "source": [
        "# Love Me Do lyrics\n",
        "beatles[beatles.song=='Love Me Do'].text"
      ],
      "execution_count": 30,
      "outputs": [
        {
          "output_type": "execute_result",
          "data": {
            "text/plain": [
              "24805    Love, love me do.  \\r\\nYou know I love you,  \\r\\nI'll always be true,  \\r\\nSo please, love me do.  \\r\\nWhoa, love me do.  \\r\\n  \\r\\nLove, love me do.  \\r\\nYou know I love you,  \\r\\nI'll always be true,  \\r\\nSo please, love me do.  \\r\\nWhoa, love me do.  \\r\\n  \\r\\nSomeone to love,  \\r\\nSomebody new.  \\r\\nSomeone to love,  \\r\\nSomeone like you.  \\r\\n  \\r\\nLove, love me do.  \\r\\nYou know I love you,  \\r\\nI'll always be true,  \\r\\nSo please, love me do.  \\r\\nWhoa, love me do.  \\r\\n  \\r\\nLove, love me do.  \\r\\nYou know I love you,  \\r\\nI'll always be true,  \\r\\nSo please, love me do.  \\r\\nWhoa, love me do.  \\r\\nYeah, love me do.  \\r\\nWhoa, oh, love me do.\\r\\n\\r\\n\n",
              "Name: text, dtype: object"
            ]
          },
          "metadata": {
            "tags": []
          },
          "execution_count": 30
        }
      ]
    },
    {
      "cell_type": "code",
      "metadata": {
        "id": "MNogtHJ7zQvK",
        "colab_type": "code",
        "colab": {
          "base_uri": "https://localhost:8080/",
          "height": 71
        },
        "outputId": "114b2a56-5ed3-4ed8-de05-413d9ce7217f"
      },
      "source": [
        "# If I Needed Someone lyrics\n",
        "beatles[beatles.song=='If I Needed Someone'].text"
      ],
      "execution_count": 31,
      "outputs": [
        {
          "output_type": "execute_result",
          "data": {
            "text/plain": [
              "24768    If I needed someone to love  \\r\\nYou're the one that I'd be thinking of  \\r\\nIf I needed someone  \\r\\n  \\r\\nIf I had some more time to spend  \\r\\nThen I guess I'd be with you my friend  \\r\\nIf I needed someone  \\r\\nHad you come some other day  \\r\\nThen it might not have been like this  \\r\\nBut you see now I'm too much in love  \\r\\n  \\r\\nCarve your number on my wall  \\r\\nAnd maybe you will get a call from me  \\r\\nIf I needed someone  \\r\\nAh, ah, ah, ah  \\r\\n  \\r\\nIf I had some more time to spend  \\r\\nThen I guess I'd be with you my friend  \\r\\nIf I needed someone  \\r\\nHad you come some other day  \\r\\nThen it might not have been like this  \\r\\nBut you see now I'm too much in love  \\r\\n  \\r\\nCarve your number on my wall  \\r\\nAnd maybe you will get a call from me  \\r\\nIf I needed someone  \\r\\nAh, ah\\r\\n\\r\\n\n",
              "Name: text, dtype: object"
            ]
          },
          "metadata": {
            "tags": []
          },
          "execution_count": 31
        }
      ]
    },
    {
      "cell_type": "code",
      "metadata": {
        "id": "j-zXpCVCzQvM",
        "colab_type": "code",
        "colab": {
          "base_uri": "https://localhost:8080/",
          "height": 71
        },
        "outputId": "1645a3ad-876d-45a9-fde7-b3f8397f860e"
      },
      "source": [
        "# If I Needed Someone To Love lyrics\n",
        "beatles[beatles.song=='If I Needed Someone To Love'].text"
      ],
      "execution_count": 32,
      "outputs": [
        {
          "output_type": "execute_result",
          "data": {
            "text/plain": [
              "24769    If I needed someone to love  \\r\\nYoure the woman I'd be thinking of  \\r\\nIf I needed someone  \\r\\n  \\r\\nIf I had some more time to spend  \\r\\nThen I guess I'd be with you my friend  \\r\\nIf I needed someone  \\r\\n  \\r\\nHad you come some other day  \\r\\nThen it might not have been like this  \\r\\nBut you see now I'm too much in love  \\r\\n  \\r\\nCarve your number on my wall  \\r\\nAnd maybe you will get a call from me  \\r\\nIf I needed someone  \\r\\n  \\r\\nIf I had some more time to spend  \\r\\nThen I guess I'd be with you my friend  \\r\\nIf I needed someone  \\r\\n  \\r\\nHad you come some other day  \\r\\nThen it might not have been like this  \\r\\nBut you see now I'm too much in love  \\r\\n  \\r\\nCarve your number on my wall  \\r\\nAnd maybe you will get a call from me  \\r\\nIf I needed someone  \\r\\nIf I needed someone to love  \\r\\nYoure the woman I'd be thinking of  \\r\\nIf I needed someone  \\r\\n  \\r\\nIf I had some more time to spend  \\r\\nThen I guess I'd be with you my friend  \\r\\nIf I needed someone  \\r\\n  \\r\\nHad you come some other day  \\r\\nThen it might not have been like this  \\r\\nBut you see now I'm too much in love  \\r\\n  \\r\\nCarve your number on my wall  \\r\\nAnd maybe you will get a call from me  \\r\\nIf I needed someone  \\r\\n  \\r\\nIf I had some more time to spend  \\r\\nThen I guess I'd be with you my friend  \\r\\nIf I needed someone  \\r\\n  \\r\\nHad you come some other day  \\r\\nThen it might not have been like this  \\r\\nBut you see now I'm too much in love  \\r\\n  \\r\\nCarve your number on my wall  \\r\\nAnd maybe you will get a call from me  \\r\\nIf I needed someone\\r\\n\\r\\n\n",
              "Name: text, dtype: object"
            ]
          },
          "metadata": {
            "tags": []
          },
          "execution_count": 32
        }
      ]
    },
    {
      "cell_type": "code",
      "metadata": {
        "id": "qW7XECowzQvO",
        "colab_type": "code",
        "colab": {
          "base_uri": "https://localhost:8080/",
          "height": 71
        },
        "outputId": "a63ef47a-feeb-4e99-e346-52e6cd8652de"
      },
      "source": [
        "# Have a Banana! lyrics\n",
        "beatles[beatles.song=='Have A Banana!'].text"
      ],
      "execution_count": 33,
      "outputs": [
        {
          "output_type": "execute_result",
          "data": {
            "text/plain": [
              "1221    [Speech]  \\r\\n  \\r\\nBrian Matthew: Is that it? Is that the end?  \\r\\nPaul: Yeah, yeah, that's it.  \\r\\nJohn: Fade, fade!  \\r\\nBrian: Good track. Oh, well, we'll stop there, stop there, stop there.  \\r\\nJohn: What an end!  \\r\\nBrian: Quiet! All right, George.  \\r\\nJohn: Fade!  \\r\\nBrian: Hold it!  \\r\\nGeorge: Oh, thank you.  \\r\\nJohn: Fade, you silly.  \\r\\nBrian: Well, we did. We did that. Oh, no! No! We've done that bit!  \\r\\nJohn: The train comes in now.  \\r\\nBrian: We did that.  \\r\\nJohn: Yeah.  \\r\\nBrian: To pove we weren't playing the record, then, you see. 'Cause,\\r\\notherwise, there's no point in you being here, is there? Ha, ha, ha!  \\r\\nJohn: Yeah, we did that, 'cause it sounds just like it, don't it?  \\r\\nBrian: Pretty cool lot of fellows, aren't you? Here, Ringo, have a banana,\\r\\ncatch!\\r\\n\\r\\n\n",
              "Name: text, dtype: object"
            ]
          },
          "metadata": {
            "tags": []
          },
          "execution_count": 33
        }
      ]
    },
    {
      "cell_type": "code",
      "metadata": {
        "id": "etve4vYNzQvS",
        "colab_type": "code",
        "colab": {
          "base_uri": "https://localhost:8080/",
          "height": 71
        },
        "outputId": "ab6e22d7-2bbf-4435-9ec7-cfafd1a792a0"
      },
      "source": [
        "# Crinsk Dee Night lyrics\n",
        "beatles[beatles.song=='Crinsk Dee Night'].text"
      ],
      "execution_count": 34,
      "outputs": [
        {
          "output_type": "execute_result",
          "data": {
            "text/plain": [
              "24713    [Speech]  \\r\\n  \\r\\nBrian Matthew: The next few minutes, we're in the lap of the gods and the\\r\\nhands of the Beatles. In my young days, when I was a lad, they used to have\\r\\nactors in films and now that they--  \\r\\nPaul: Yes?  \\r\\nJohn: Hey! Listen!  \\r\\nPaul: It's all changed, now, Brian. They're not doing that, no actors.  \\r\\nJohn: It's all changed, now.  \\r\\nBrian: But this is what I wonder. In those days, the actors used to say their\\r\\nbest bits were left on the cutting room floor. Did you find that?  \\r\\nJohn: No, no, no, those were the good bits in the film. You should have seen\\r\\nthe rest.  \\r\\nBrian: Yes?  \\r\\nJohn: Rubbish!  \\r\\nBrian: Was it, really?  \\r\\nJohn: Even worse, yes.  \\r\\nBrian: Who was worst?  \\r\\nJohn: Oh, Paul.  \\r\\nBrian: I see.  \\r\\nPaul: I think John was about the worst.  \\r\\nJohn: No, it was you.  \\r\\nPaul: Oh, Ringo was very good. He was. He's a good lad.  \\r\\nBrian: He was. They're saying he's a new Charlie Chaplin. Do you think that's\\r\\nright?  \\r\\nJohn: He was miming.  \\r\\nPaul: You, too, with Jason.  \\r\\nJohn: Oh, yes, he's an old one. Okay, Ring?  \\r\\nBrian: Beginning to look like that. Now, then--  \\r\\nRingo: All right, John. Can you hear me?  \\r\\nPaul: Can you hear him? Hello!  \\r\\nBrian: Not really. I hope not. I hope not!  \\r\\nJohn: We brought you the flowers, Ring.  \\r\\nBrian: He's not allowed to talk.  \\r\\nRingo: Eh?  \\r\\nJohn: We brought you the flowers.  \\r\\nRingo: Oh, good.  \\r\\nJohn: And the grapes.  \\r\\nRingo: Oh, I like grapes.  \\r\\nPaul: He likes grapes.  \\r\\nGeorge: We've been to Portugal.  \\r\\nBrian: Guess who's, guess who's top of the pops in Portugal, then.  \\r\\nAll: Who?  \\r\\nBrian: Los Beatles.  \\r\\nJohn: Los Beatles? Great, great laugh.  \\r\\nBrian: I don't suppose you know the title of your film in Portuguese?  \\r\\nJohn: No. Crinsk dee Night?  \\r\\nBrian: Could be. Let's hear the number, shall we?  \\r\\nJohn: Right\\r\\n\\r\\n\n",
              "Name: text, dtype: object"
            ]
          },
          "metadata": {
            "tags": []
          },
          "execution_count": 34
        }
      ]
    },
    {
      "cell_type": "code",
      "metadata": {
        "id": "mRs6aF8tznOZ",
        "colab_type": "code",
        "colab": {}
      },
      "source": [
        ""
      ],
      "execution_count": 0,
      "outputs": []
    }
  ]
}
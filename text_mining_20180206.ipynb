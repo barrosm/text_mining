{
 "cells": [
  {
   "cell_type": "markdown",
   "metadata": {
    "collapsed": true
   },
   "source": [
    "### Text Mining Routines with nltk and word2vec"
   ]
  },
  {
   "cell_type": "code",
   "execution_count": 1,
   "metadata": {
    "collapsed": true
   },
   "outputs": [],
   "source": [
    "import pandas as pd\n",
    "import numpy as np\n",
    "import os"
   ]
  },
  {
   "cell_type": "code",
   "execution_count": 2,
   "metadata": {
    "collapsed": true
   },
   "outputs": [],
   "source": [
    "import nltk"
   ]
  },
  {
   "cell_type": "code",
   "execution_count": 3,
   "metadata": {},
   "outputs": [
    {
     "data": {
      "text/plain": [
       "'C:\\\\Users\\\\mbarros_prest\\\\Downloads'"
      ]
     },
     "execution_count": 3,
     "metadata": {},
     "output_type": "execute_result"
    }
   ],
   "source": [
    "# get current directory\n",
    "os.getcwd()"
   ]
  },
  {
   "cell_type": "code",
   "execution_count": 4,
   "metadata": {
    "collapsed": true
   },
   "outputs": [],
   "source": [
    "os.chdir(\"C:\\\\Users\\\\mbarros_prest\\\\Dropbox\\\\GLOBOSAT\\POC - Projetos Diferenciados\")"
   ]
  },
  {
   "cell_type": "markdown",
   "metadata": {},
   "source": [
    "### Read Dictionary file"
   ]
  },
  {
   "cell_type": "code",
   "execution_count": 6,
   "metadata": {
    "collapsed": true
   },
   "outputs": [],
   "source": [
    "lines = [line.rstrip('\\n') for line in open('dict.txt', encoding=\"utf8\")]"
   ]
  },
  {
   "cell_type": "code",
   "execution_count": 8,
   "metadata": {},
   "outputs": [
    {
     "data": {
      "text/plain": [
       "242867"
      ]
     },
     "execution_count": 8,
     "metadata": {},
     "output_type": "execute_result"
    }
   ],
   "source": [
    "len(lines)"
   ]
  },
  {
   "cell_type": "code",
   "execution_count": 10,
   "metadata": {},
   "outputs": [
    {
     "data": {
      "text/plain": [
       "list"
      ]
     },
     "execution_count": 10,
     "metadata": {},
     "output_type": "execute_result"
    }
   ],
   "source": [
    "type(lines)"
   ]
  },
  {
   "cell_type": "code",
   "execution_count": 9,
   "metadata": {},
   "outputs": [
    {
     "data": {
      "text/plain": [
       "['abacaxi m. Espécie de ananás, (bromelia ananas, Lin.)',\n",
       " 'abacelado adj. Convertido em bacello. Plantado de bacello:',\n",
       " 'encosta abacellada.',\n",
       " 'abacelamento m. Acto ou effeito de abacellar.',\n",
       " 'abacelar v. t. Converter em bacello. Plantar de bacello.',\n",
       " 'abacellado adj. Convertido em bacello. Plantado de bacello: encosta abacellada.',\n",
       " 'abacellamento m. Acto ou effeito de abacellar.',\n",
       " 'abacellar v. t. Converter em bacello. Plantar de bacello.',\n",
       " 'abaceto, (cê) m. Gênero de coleópteros pentâmeros.',\n",
       " 'abacial adj. Que diz respeito ao abbade ou á abbadia. (Do']"
      ]
     },
     "execution_count": 9,
     "metadata": {},
     "output_type": "execute_result"
    }
   ],
   "source": [
    "lines[100:110]"
   ]
  },
  {
   "cell_type": "code",
   "execution_count": 72,
   "metadata": {
    "collapsed": true
   },
   "outputs": [],
   "source": [
    "# Convert list to string to be able to tokenize\n",
    "raw = \" \".join(lines)"
   ]
  },
  {
   "cell_type": "code",
   "execution_count": 75,
   "metadata": {},
   "outputs": [
    {
     "data": {
      "text/plain": [
       "str"
      ]
     },
     "execution_count": 75,
     "metadata": {},
     "output_type": "execute_result"
    }
   ],
   "source": [
    "type(raw)"
   ]
  },
  {
   "cell_type": "code",
   "execution_count": 77,
   "metadata": {
    "collapsed": true
   },
   "outputs": [],
   "source": [
    "# Tokenize string containing dictionary data"
   ]
  },
  {
   "cell_type": "code",
   "execution_count": 76,
   "metadata": {
    "collapsed": true
   },
   "outputs": [],
   "source": [
    "tokens = nltk.word_tokenize(raw)"
   ]
  },
  {
   "cell_type": "code",
   "execution_count": 79,
   "metadata": {
    "collapsed": true
   },
   "outputs": [],
   "source": [
    "fd = nltk.FreqDist(tokens)"
   ]
  },
  {
   "cell_type": "code",
   "execution_count": null,
   "metadata": {
    "collapsed": true
   },
   "outputs": [],
   "source": [
    "len(fd)"
   ]
  },
  {
   "cell_type": "code",
   "execution_count": 83,
   "metadata": {},
   "outputs": [
    {
     "data": {
      "text/plain": [
       "'.'"
      ]
     },
     "execution_count": 83,
     "metadata": {},
     "output_type": "execute_result"
    }
   ],
   "source": [
    "fd.max()"
   ]
  },
  {
   "cell_type": "code",
   "execution_count": null,
   "metadata": {
    "collapsed": true
   },
   "outputs": [],
   "source": []
  },
  {
   "cell_type": "code",
   "execution_count": 8,
   "metadata": {
    "collapsed": true
   },
   "outputs": [],
   "source": [
    "# Change to a dataframe"
   ]
  },
  {
   "cell_type": "code",
   "execution_count": 12,
   "metadata": {
    "collapsed": true
   },
   "outputs": [],
   "source": [
    "df = pd.DataFrame(np.array(lines).reshape(242867,1), columns = [\"verbete\"])"
   ]
  },
  {
   "cell_type": "code",
   "execution_count": 14,
   "metadata": {},
   "outputs": [
    {
     "data": {
      "text/html": [
       "<div>\n",
       "<style>\n",
       "    .dataframe thead tr:only-child th {\n",
       "        text-align: right;\n",
       "    }\n",
       "\n",
       "    .dataframe thead th {\n",
       "        text-align: left;\n",
       "    }\n",
       "\n",
       "    .dataframe tbody tr th {\n",
       "        vertical-align: top;\n",
       "    }\n",
       "</style>\n",
       "<table border=\"1\" class=\"dataframe\">\n",
       "  <thead>\n",
       "    <tr style=\"text-align: right;\">\n",
       "      <th></th>\n",
       "      <th>verbete</th>\n",
       "    </tr>\n",
       "  </thead>\n",
       "  <tbody>\n",
       "    <tr>\n",
       "      <th>0</th>\n",
       "      <td>a,1 (á) m. Primeira letra do alphabeto portug...</td>\n",
       "    </tr>\n",
       "    <tr>\n",
       "      <th>1</th>\n",
       "      <td>Primeira nota da escala na denominação alpha...</td>\n",
       "    </tr>\n",
       "    <tr>\n",
       "      <th>2</th>\n",
       "      <td>sons. Adj. Primeiro, (falando-se de um número...</td>\n",
       "    </tr>\n",
       "    <tr>\n",
       "      <th>3</th>\n",
       "      <td>objecto que faz parte de uma série). * Adj. Q...</td>\n",
       "    </tr>\n",
       "    <tr>\n",
       "      <th>4</th>\n",
       "      <td>primeira classe, (falando-se de carruagens de ...</td>\n",
       "    </tr>\n",
       "  </tbody>\n",
       "</table>\n",
       "</div>"
      ],
      "text/plain": [
       "                                             verbete\n",
       "0  a,1 (á) m. Primeira letra do alphabeto portug...\n",
       "1  Primeira nota da escala na denominação alpha...\n",
       "2  sons. Adj. Primeiro, (falando-se de um número...\n",
       "3  objecto que faz parte de uma série). * Adj. Q...\n",
       "4  primeira classe, (falando-se de carruagens de ..."
      ]
     },
     "execution_count": 14,
     "metadata": {},
     "output_type": "execute_result"
    }
   ],
   "source": [
    "df.head()"
   ]
  },
  {
   "cell_type": "code",
   "execution_count": 61,
   "metadata": {
    "collapsed": true
   },
   "outputs": [],
   "source": [
    "# Needs to have downloaded corpus beforehand\n",
    "from nltk.corpus import machado\n",
    "from nltk.corpus import stopwords\n",
    "from nltk.corpusimport mac_morpho\n",
    "from nltk import ngrams, FreqDist"
   ]
  },
  {
   "cell_type": "code",
   "execution_count": 68,
   "metadata": {},
   "outputs": [
    {
     "data": {
      "text/plain": [
       "['de', 'a', 'o', 'que', 'e', 'do', 'da', 'em', 'um', 'para']"
      ]
     },
     "execution_count": 68,
     "metadata": {},
     "output_type": "execute_result"
    }
   ],
   "source": [
    "stopwords = nltk.corpus.stopwords.words('portuguese')\n",
    "stopwords[:10]"
   ]
  },
  {
   "cell_type": "code",
   "execution_count": 52,
   "metadata": {
    "collapsed": true
   },
   "outputs": [],
   "source": [
    "from nltk.corpus import PlaintextCorpusReader"
   ]
  },
  {
   "cell_type": "code",
   "execution_count": 56,
   "metadata": {
    "collapsed": true
   },
   "outputs": [],
   "source": [
    "tt2 = PlaintextCorpusReader(\"C:\\\\Users\\\\mbarros_prest\\\\Dropbox\\\\GLOBOSAT\\POC - Projetos Diferenciados\", '.*\\.txt')"
   ]
  },
  {
   "cell_type": "code",
   "execution_count": 57,
   "metadata": {},
   "outputs": [
    {
     "data": {
      "text/plain": [
       "['dict.txt']"
      ]
     },
     "execution_count": 57,
     "metadata": {},
     "output_type": "execute_result"
    }
   ],
   "source": [
    "tt2.fileids()"
   ]
  },
  {
   "cell_type": "code",
   "execution_count": 58,
   "metadata": {
    "collapsed": true
   },
   "outputs": [
    {
     "ename": "AttributeError",
     "evalue": "'PlaintextCorpusReader' object has no attribute 'concordance'",
     "output_type": "error",
     "traceback": [
      "\u001b[1;31m---------------------------------------------------------------------------\u001b[0m",
      "\u001b[1;31mAttributeError\u001b[0m                            Traceback (most recent call last)",
      "\u001b[1;32m<ipython-input-58-3c8501c1d2a8>\u001b[0m in \u001b[0;36m<module>\u001b[1;34m()\u001b[0m\n\u001b[1;32m----> 1\u001b[1;33m \u001b[0mtt2\u001b[0m\u001b[1;33m.\u001b[0m\u001b[0mconcordance\u001b[0m\u001b[1;33m(\u001b[0m\u001b[1;34m\"aborrecer\"\u001b[0m\u001b[1;33m)\u001b[0m\u001b[1;33m\u001b[0m\u001b[0m\n\u001b[0m",
      "\u001b[1;31mAttributeError\u001b[0m: 'PlaintextCorpusReader' object has no attribute 'concordance'"
     ]
    }
   ],
   "source": [
    "# tt2.concordance(\"aborrecer\")"
   ]
  },
  {
   "cell_type": "code",
   "execution_count": null,
   "metadata": {
    "collapsed": true
   },
   "outputs": [],
   "source": []
  },
  {
   "cell_type": "code",
   "execution_count": 17,
   "metadata": {
    "collapsed": true
   },
   "outputs": [],
   "source": [
    "from nltk.text import Text"
   ]
  },
  {
   "cell_type": "code",
   "execution_count": null,
   "metadata": {
    "collapsed": true
   },
   "outputs": [],
   "source": [
    "# Criar subconjunto de lines para trabalhar"
   ]
  },
  {
   "cell_type": "code",
   "execution_count": 22,
   "metadata": {
    "collapsed": true
   },
   "outputs": [],
   "source": [
    "sub_lines = lines[1000:21000]"
   ]
  },
  {
   "cell_type": "code",
   "execution_count": 32,
   "metadata": {},
   "outputs": [
    {
     "data": {
      "text/plain": [
       "['aborrir v. t. O mesmo que aborrecer. (Lat. abhorrere)',\n",
       " 'aborrı́vel adj. O mesmo que aborrecı́vel.',\n",
       " 'aborso m. P. us. O mesmo que abôrto. Vieira, VI, 503; Luz',\n",
       " 'e Calor, p. 278. (B. lat. aborsus)',\n",
       " 'abortamento m. O mesmo que abôrto.',\n",
       " 'abortar v. t. Produzir antes de tempo. V. i. Parir, antes',\n",
       " 'do termo da gestação. Mallograr-se. (Ant. lat. abortare)',\n",
       " 'abortı́cio adj. Que nasceu por abôrto.',\n",
       " 'abortı́fero adj. Que produz abôrto. Cf. Castilho, Factos,',\n",
       " 'I, 507.',\n",
       " '',\n",
       " 'abortivo m. Substância, que faz abortar. Adj. Que abortou. Que fez abortar. * Que, é filho de abôrto. Cf. Luz e',\n",
       " 'Calor, 448. (Lat. abortivus)',\n",
       " 'abôrto m. Parto prematuro. O que nasceu antes do tempo',\n",
       " 'próprio. Individuo, que nasceu disforme. (Lat. abortus)',\n",
       " 'abossadura f. O mesmo que bossagem.',\n",
       " 'abostelado adj. Que tem bostellas.',\n",
       " 'abostelar v. i. Criar bostella.',\n",
       " 'abostellado adj. Que tem bostellas.',\n",
       " 'abostellar v. i. Criar bostella.',\n",
       " 'abotinado adj. Que tem fórma de botina.',\n",
       " 'abotinar v. t. Dar fórma de botina a.',\n",
       " 'abotoação m. Formação de botões (na planta) (De abotoar )',\n",
       " 'abotoadeira f. Instrumento para abotoar.',\n",
       " 'abotoado adj. Fechado com botões: casaco abotoado. Fechado, cerrado: lábios abotoados. Que está ainda em botão: flôr abotoada.',\n",
       " 'abotoador m. O que abotôa. Abotoadeira.',\n",
       " 'abotoadura f. Jogo de botões para um vestuário. Acto de',\n",
       " 'abotoar.',\n",
       " 'abotoar v. t. Fechar com botões. Pregar botões em. *',\n",
       " 'V. i. Lançar botões ou gomos (a planta) V. p. Meter os',\n",
       " 'botões nas respectivas casas, fechando o próprio vestuário.',\n",
       " '* Lançar gomos ou botões (uma planta) Bras. Agarrar',\n",
       " 'ou segurar pelos botões; segurar (alguém), deitando-lhe a',\n",
       " 'mão ao peito. Cf. Macedo Soares, Dicc. Bras. * V. p.',\n",
       " 'Fam. Lucrar. Locupletar-se.',\n",
       " 'abotocadura f. Náut. Designação genérica das cadeias,',\n",
       " 'chapas e cavilhas, que seguram as mesas das enxárcias reaes, contra o costado do navio. (De abotocar )',\n",
       " 'abotocar v. t. Náut. O mesmo que abatocar.',\n",
       " 'aboucar v. t. Prov. trasm. O mesmo que esmocar. Matar.',\n",
       " '(Colhido em Villa-Real)',\n",
       " 'abougar v. i. T. da Bairrada. Perder o tino, alucinar-se.',\n",
       " '(Relaciona-se com apoucar ?)',\n",
       " 'abouvila f. Ant. O mesmo que abovila.',\n",
       " 'abovila f. Tecido antigo, talvez fabricado em Abbeville,',\n",
       " '(França): “esta abovilla de quinze soldos a alna.” Herculano, Cister.',\n",
       " 'abovilla f. Tecido antigo, talvez fabricado em Abbeville,',\n",
       " '(França): “esta abovilla de quinze soldos a alna.” Herculano, Cister.',\n",
       " 'abra f. Ancoradoiro; baı́a. (Cast. abra)',\n",
       " 'abraçada f. Prov. O mesmo que braçada.',\n",
       " 'abracadabra m. Palavra mágica, a que os antigos attribuiam a virtude de curar moléstias várias, e cujas letras',\n",
       " 'deviam ser escritas em triângulo, de modo que pudesse sêr',\n",
       " 'lida de todos os lados.',\n",
       " 'abraçadeira f. Chapa do ferro, para segurar paredes ou',\n",
       " 'vigamentos. * Tira ou cordão, que abraça um cortinado,',\n",
       " 'apanhando-o, e segurando-o ao lado. (De abraçar )',\n",
       " 'abraçador m. Aquelle que abraça.',\n",
       " 'abraçamento m. Acto ou effeito de abraçar.',\n",
       " 'abraçar v. t. Rodear ou cingir com os braços; apertar',\n",
       " 'entre os braços. Fig. Abranger: abraçar o horizonte com',\n",
       " 'a vista. Seguir, adoptar: abraçar o Protestantismo. * V.',\n",
       " 'p. Cingir alguém com os braços: “abraçou-se nella e assim',\n",
       " 'se ficaram”. Camillo, F. do Regicida.',\n",
       " 'abrachia, (qui ) f. Ausência congênita de braços. (Cp.',\n",
       " 'abráchio)',\n",
       " 'abráchio, (qui ) m. Monstro sem braços. (Do gr. a priv.',\n",
       " '',\n",
       " '',\n",
       " 'abrachiocephalia, (qui ) f. Terat. Estado de abrachiocéphalo.',\n",
       " 'abrachiocéphalo, (qui ) m. Terat. Monstro, sem braços',\n",
       " 'nem cabeça. (Do gr. a priv. + brakhion + kephale)',\n",
       " 'abraço m. Acto de abraçar. Gavinha. * Archit. Entrelaçamento de folhagens lavradas, á volta de uma columna.',\n",
       " 'abraêmo m. Antiga moéda de Gôa.',\n",
       " 'abrahâmico adj. Relativo ao patriarcha hebreu Abrahão.',\n",
       " 'abrancaçado adj. Prov. minh. O mesmo que esbranquiçado. Cf. Gaz. das Aldeias, 705.',\n",
       " 'abrandamento m. Acto de abrandar.',\n",
       " 'abrandar v. t. Tornar brando. Fig. Suavizar: abrandar',\n",
       " 'mágoas. Serenar. V. i. Tornar-se brando, menos intenso:',\n",
       " 'o calor abrandou.',\n",
       " 'abrandecer v. t. (V. embrandecer )',\n",
       " 'abranger v. t. Abraçar, cingir: abranger um tronco. Conter: Lisbôa abrange muitos monumentos. Comprehender:',\n",
       " 'abranger os grandes problemas. Abarcar: abranger o horizonte. * Prov. beir. Aproximar, segurando com a mão:',\n",
       " 'abrange-me essa cadeira. (Do lat. vergere, segundo Cornu)',\n",
       " 'abraquia f. Ausência congênita de braços. (Cp. abráchio)',\n",
       " 'abráquio m. Monstro sem braços. (Do gr. a priv. e',\n",
       " 'brakhion, braço)',\n",
       " 'abraquiocefalia f. Terat. Estado de abraquiocéfalo.',\n",
       " 'abraquiocéfalo m. Terat. Monstro, sem braços nem cabeça. (Do gr. a priv. + brakhion + kephale)',\n",
       " 'abrasadamente adv. De modo abrasado. Fogosamente.',\n",
       " 'abrasador adj. Que abrasa; ardente: sol abrasador.',\n",
       " 'abrasamento m. Acto ou effeito de abrasar.',\n",
       " 'abrasante adj. Que abrasa.',\n",
       " 'abrasão f. Cir. Raspagem dos ossos cariados. (Lat. abrasio)',\n",
       " 'abrasar v. t. Converter em brasas. Queimar, incendiar.',\n",
       " 'Aquecer: o sol abrasa o areal. Fig. Enthusiasmar.',\n",
       " 'abrasear v. t. O mesmo que esbrasear. Cf. Camillo, Brasileira, 348.',\n",
       " 'abrasileirado adj. Que tem modos de brasileiro.',\n",
       " 'abrasileirar v. t. Dar feição brasileira a.',\n",
       " 'abrasoar v. t. O mesmo que abrasonar.',\n",
       " 'abrasonar v. t. Dar brasão a; pôr brasão em. Cf. Camillo,',\n",
       " 'Cancion. Al., 208.',\n",
       " 'abrastol m. O mesmo que asaprol.',\n",
       " 'abraxas m. pl. Pedras gravadas, que contêm sýmbolos religiosos de certas seitas. (Palavra, inventada pelo heresiarcha Bası́lides e formada de sete letras que, tomadas',\n",
       " 'numericamente, formavam entre os Gregos o número 365,',\n",
       " 'número dos dias do anno)',\n",
       " 'abrazite f. Substância branca, composta de sı́lica, alumı̀nio',\n",
       " 'e cal.',\n",
       " 'abre-boca m. Instrumento, com que os alveitares abriam a',\n",
       " 'boca dos animaes. * Instrumento, com que se abre a boca',\n",
       " 'a um doente anesthesiado, ou a quem se não consegue',\n",
       " 'abri-la, senão forçadamente.',\n",
       " 'abre-ilhós m. Instrumento, com que se abrem buracos para',\n",
       " 'ilhós; furador.',\n",
       " 'abrecu m. Prov. dur. O mesmo que pyrilampo.',\n",
       " 'ábrego m. Ant. Vento do sudoéste. O lado do sul, nas',\n",
       " 'demarcações antigas. (Lat. africus)',\n",
       " 'abrejeirado adj. Que tem modos de brejeiro. Que tem',\n",
       " 'aspecto de brejeirice.',\n",
       " '',\n",
       " 'abrenhar v. t. (V. embrenhar )',\n",
       " 'abrenunciação f. Acto de abrenunciar.',\n",
       " 'abrenunciar v. t. Renunciar, repellir. (De ab... + renunciar )',\n",
       " '',\n",
       " 'abrenúncio! interj. Ápage! Deus me livre! (Do lat. ab +',\n",
       " 'renuntio)',\n",
       " '',\n",
       " 'abreptı́cio, (ré) adj.Exaltado; arrebatado.(Do lat. abreptus)',\n",
       " '',\n",
       " 'abretanhado adj. Semelhante ao pano chamado bretanha.',\n",
       " 'abreu m. Bras. Espécie de abelha do Piauı́.',\n",
       " 'abrevar v. t. Ant. Matar a sêde a. Cf. Filinto, XIV, 139;',\n",
       " 'Usque, Tribulações; Castilho, Fastos, I, 139, e Geórgicas,',\n",
       " '157. * V. i. Dessedentar-se. Cf. Usque, loc. cit. f. 29, v.º',\n",
       " '(Fr. abreuver )',\n",
       " 'abreviação f. Acto ou effeito de abreviar.',\n",
       " 'abreviadamente adj. De modo abreviado. Em resumo.',\n",
       " 'abreviado adj. Reduzido a epitome; resumido: história',\n",
       " 'abreviada da Igreja. (De abreviar )',\n",
       " 'abreviador m. Aquelle que abrevia.',\n",
       " 'abreviamento m. O mesmo que abreviação.',\n",
       " 'abreviar v. t. Tornar breve, resumir. (Lat. abbreviare)',\n",
       " 'abreviativo adj. Que serve para abreviar.',\n",
       " 'abreviatura f. Resumo. Fracção de palavra, designando-a',\n",
       " 'toda.',\n",
       " 'abricó m. Fruto brasileiro, semelhante ao damasco, mas',\n",
       " 'menor. (Fr. abricot)',\n",
       " 'abricoqueiro m. O mesmo que albricoqueiro.',\n",
       " 'abricote m. Fruto brasileiro, semelhante ao damasco, mas',\n",
       " 'menor. (Fr. abricot)',\n",
       " 'abricoteiro m. Árvore gutı́fera, que produz o abricote.',\n",
       " 'abrideira f. Bras. Pequena porção de bebida alcoólica,',\n",
       " 'que de ordinário se toma antes da comida, para abrir o',\n",
       " 'appetite.',\n",
       " 'abridor m. O que abre. Gravador. Burilador.',\n",
       " 'abriga f. O mesmo que abrigo. Cf. Hist. Trág. Marit., 106.',\n",
       " 'abrigada f. Lugar que abriga, ou em que há abrigo.',\n",
       " 'abrigadoiro m. O mesmo que abrigada.',\n",
       " 'abrigador m. e adj. O que abriga.',\n",
       " 'abrigadouro m. O mesmo que abrigada.',\n",
       " 'abrigar v. t. Dar abrigo a; agasalhar. Proteger. (Lat.',\n",
       " 'apricare)',\n",
       " 'abrigo m. Resguardo; cobertura. Protecção. (Lat. apricum)',\n",
       " 'abrigoı́r v. i. Açor. Contender, disputar.',\n",
       " 'abrigoso adj. Que fornece ou dá abrigo. Cf. Th. Ribeiro,',\n",
       " 'Jornadas, I, 123.',\n",
       " 'abril m. Quarto mês do anno gregoriano. Fig. Idade da',\n",
       " 'alegria e da innocência; juventude. (Lat. aprilis)',\n",
       " 'abrilada f. Acontecimento em Abril. Revolta de Abril de',\n",
       " '1824.',\n",
       " 'abrilhantar v. t. Tornar brilhante.',\n",
       " 'abrimento m. O mesmo que abertura. Abrimento de boca,',\n",
       " 'bocejo.',\n",
       " 'abrir v. t. Desunir, descerrar: abrir a janela. Romper, cortar: abrir as veias. Desimpedir, desobstruir: abrir caminho. Começar. Devassar. Escavar: abrir um poço. Gravar:',\n",
       " 'abrir letras. Abrir o sinal, registar o nome nos livros dos',\n",
       " 'notários. Abrir mão de, largar, pôr de lado. Abrir crédito a alguém, autorizá-lo a dispor de certa quantia. * V.',\n",
       " 'i. Descerrar as pétalas: a flor abriu. Romper, começar:',\n",
       " 'abriu o dia. Abrir o tempo, aliviar-se o tempo. Abrir a',\n",
       " '',\n",
       " 'abro',\n",
       " 'porta a alguém: “vindo de noite, sua esposa não lhe quis',\n",
       " 'abrir ”. Luz e Calor, 296. * V. p. Têr expansões, sêr',\n",
       " 'franco: abriu-se comigo. (Do lat. aperire)',\n",
       " 'abro m. Planta papilionácea. (Gr. abrios)',\n",
       " 'abrocadado adj. Semelhante ao brocado.',\n",
       " 'abrochador m. Aquelle ou aquillo que abrocha.',\n",
       " 'abrochadura f. Acto ou effeito de abrochar.',\n",
       " 'abrochar v. t. Lidar com broche ou com brocha. Abotoar.',\n",
       " 'Apertar.',\n",
       " 'abrogação, (ro) f. Acto de abrogar. (Lat. abrogatio)',\n",
       " 'abrogador, (ro) m. O que abroga. (Lat. abrogator )',\n",
       " 'abrogar, (ro) v. t. Annullar. Supprimı́r. Pôr fóra do uso.',\n",
       " 'Derogar: abrogar uma lei. (Lat. abrogare)',\n",
       " 'abrogativo, (ro) adj. Que abroga, ou que produz abrogação.',\n",
       " 'abrogatório, (ro) adj. Que abroga, ou que produz abrogação.',\n",
       " 'abrolhador adj. Que abrolha.',\n",
       " 'abrolhal m. Lugar, onde crescem abrolhos.',\n",
       " 'abrolhamento m. Acto de abrolhar.',\n",
       " 'abrolhar v. t. Cobrir de abrolhos. V. i. Produzir abrolhos.',\n",
       " 'Lançar gomos ou rebentos.',\n",
       " 'abrolho, (brô) m. Planta herbácea, de fruto espinhoso.',\n",
       " 'Espinho dêsse fruto. Fig. Contrariedade. Mortificação: os',\n",
       " 'abrolhos da vida. (De abrir + ôlho)',\n",
       " 'abrolhoso adj. Coberto de abrolhos. Espinhoso. Fig. Cheio',\n",
       " 'de obstáculos.',\n",
       " 'abroma m. Planta intertropical, de cuja entrecasca fazem',\n",
       " 'cordas os Índios.',\n",
       " 'abronceiro m. Prov. trasm. O mesmo que espinheiro.',\n",
       " 'abrónia f. Planta nyctaginea.',\n",
       " 'abronzear v. t. (V. bronzear )',\n",
       " 'abroquelar v. t. Resguardar com broquel. Proteger; defender.',\n",
       " 'abróstolo m. Insecto lepidóptero, da fam. dos nocturnos.',\n",
       " '(Do gr. abros + stole)',\n",
       " 'abrotal adj. Des. Lugar, onde crescem abróteas.',\n",
       " 'abrótano m. (Corr. de abrótono)',\n",
       " 'abrotar v. i. (V. brotar )',\n",
       " 'abrótea f. Planta liliácea medicinal. (Do gr. abrotos?)',\n",
       " 'abroteal m. Lugar, onde crescem abróteas.',\n",
       " 'abrótega f. Prov. beir. O mesmo que abrótono. O mesmo',\n",
       " 'que abrótea.',\n",
       " 'abrótia f. (Melhor escrita que abrótea)',\n",
       " 'abrótica f. Peixe de Portugal.',\n",
       " 'abrótiga f. O mesmo que abrótega. Cf. Rev. Lus., XI, 287.',\n",
       " 'abrotinas f. pl. Prov. alg. O mesmo que varicella. (De',\n",
       " 'abrotar )',\n",
       " 'abrótono m. Arbusto, da tribo das artemı́sias. (Gr. abrotonon)',\n",
       " 'abrotonoide f. Espécie de madrépora, que vive no fundo',\n",
       " 'do mar, em rochas. (Do gr. abrotonon + eidos)',\n",
       " 'abrumar v. t. Cobrir de bruma. Tornar escuro. Tornar',\n",
       " 'aprehensivo, triste. Cf. Latino, Camões, 25.',\n",
       " 'abrunhal m. Variedade de uva.',\n",
       " 'abrunhar v. t. T. da Murça. O mesmo que acabrunhar.',\n",
       " 'abrunheiro m. Planta rosácea, da tribo das amygdáleas.',\n",
       " '(De abrunho)',\n",
       " 'abrunho m. Fruto do abrunheiro. (Do lat. pruneum)',\n",
       " 'abrunho-do-duque m. Espécie de ameixa redonda,',\n",
       " 'vermelho-escura, maculada de azul.',\n",
       " '',\n",
       " '',\n",
       " 'abrunho-do-rei m. Espécie de ameixa redonda, de côr',\n",
       " 'acerejada, maculada de azul.',\n",
       " '',\n",
       " 'abrupção, (ru) f. Fractura de osso. (Lat. abruptio)',\n",
       " 'abruptamente, (ru) adv. Em grande declive. De repente.',\n",
       " '(De abrupto)',\n",
       " '',\n",
       " 'abruptela, (ru) f. Terra desbravada. (De abrupto)',\n",
       " 'abrupto, (ru) adj. Íngreme; com grande inclinação. Repentino. (Lat. abruptus)',\n",
       " '',\n",
       " 'abruso m. Planta papilionácea, semelhante á acácia. (Do',\n",
       " 'gr. abros)',\n",
       " '',\n",
       " 'abrutadamente adv. De modo abrutado.',\n",
       " 'abrutado adj. Que tem modos grosseiros. Bruto. Brutal.',\n",
       " '(De abrutar )',\n",
       " '',\n",
       " 'abrutalhado adj. Grosseiro. Brusco. (De bruto)',\n",
       " 'abrutalhar-se v. p. Tornar-se abrutalhado.',\n",
       " 'abrutamento m. O mesmo que brutalidade.',\n",
       " 'abrutar v. t. Tornar grosseiro, bruto.',\n",
       " 'abrutecer v. t. O mesmo que embrutecer.',\n",
       " 'abs... pref. O mesmo que ab...',\n",
       " 'absceder v. i. Degenerar em abcesso. Supurar. (Do lat.',\n",
       " 'abscedere)',\n",
       " '',\n",
       " 'abscesso m. Tumor. Inchação, produzida pela formação do',\n",
       " 'pus. Pus, acumulado no tumor. (Do lat. abscessus)',\n",
       " '',\n",
       " 'abscisão f. Córte na parte carnosa do corpo. (Do lat. abscisio)',\n",
       " '',\n",
       " 'abscissa f. Geom. Uma das coordenadas que servem para',\n",
       " 'fixar um ponto num plano. (Do lat. abscissa)',\n",
       " '',\n",
       " 'abscondado adv. Ant. Ás escondidas, occultamente.',\n",
       " 'absconder v. t. (V. esconder )',\n",
       " 'abscônsia f. Lâmpada de dormitório, usada antigamente',\n",
       " 'nalguns mosteiros. (B. lat. absconsa)',\n",
       " '',\n",
       " 'absconso m. e adj. O mesmo que esconso. Cf. Filinto, X,',\n",
       " '144; XIV, 119.',\n",
       " '',\n",
       " 'absência f. Ant. (V. ausência)',\n",
       " 'absentar v. t. Ant. (V. ausentar )',\n",
       " 'absente adj. Ant. O mesmo que ausente.',\n",
       " 'absentismo m. Systema de exploração agricola, em que',\n",
       " 'há um gerente ou feitor intermediário ao cultivador e ao',\n",
       " 'proprietário ausente. (De absente)',\n",
       " 'absentista m. Proprietário de terras, exploradas pelo systema do absentismo.',\n",
       " 'ábsida f. O mesmo que ábside.',\n",
       " 'absidal adj. Que tem fórma de ábside.',\n",
       " 'ábside f. Capella-mór. Oratório reservado, atrás do altarmór. Relicário de ossos de santos, exposto no altar. *',\n",
       " 'Curvatura, de abóbada. * Cı́rculo, que os astros descrevem',\n",
       " 'em seu movimento. (Lat. absidem)',\n",
       " 'absintar v. t. Misturar com absintho. Tornar amargo.',\n",
       " 'absintato m. Sal, produzido pela combinação do ácido absı́nthico com uma base salinável. (Lat. absinthiatus)',\n",
       " 'absinthar v. t. Misturar com absintho. Tornar amargo.',\n",
       " 'absinthato m. Sal, produzido pela combinação do ácido',\n",
       " 'absı́nthico com uma base salinável. (Lat. absinthiatus)',\n",
       " 'absı́nthico adj. Diz-se do ácido que se descobriu no absintho.',\n",
       " 'absinthina f. Principio amargo do absintho.',\n",
       " 'absı́nthio m. Planta vivaz, de sabor amargo e aromático.',\n",
       " 'Losna. (Lat. absinthium)',\n",
       " 'absinthismo m. Doença, causada pelo abuso do absintho.',\n",
       " 'absinthite m. Vinho absinthado. Vinho de losna. (Lat.',\n",
       " 'absinthites)',\n",
       " '',\n",
       " '13',\n",
       " 'absintho m. Bebida alcoólica e amarga, preparada com folhas e botões de várias espécies de losna e de outras plantas.',\n",
       " '(Fórma falsa, tirada do fr. absinthe. A fórma portuguesa',\n",
       " 'é absı́nthio. V. absı́nthio)',\n",
       " 'absı́ntico adj. Diz-se do ácido que se descobriu no absintho.',\n",
       " 'absintina f. Principio amargo do absintho.',\n",
       " 'absı́ntio m. Planta vivaz, de sabor amargo e aromático.',\n",
       " 'Losna. (Lat. absinthium)',\n",
       " 'absintismo m. Doença, causada pelo abuso do absintho.',\n",
       " 'absintite m. Vinho absinthado. Vinho de losna. (Lat.',\n",
       " 'absinthites)',\n",
       " 'absinto m. Bebida alcoólica e amarga, preparada com folhas',\n",
       " 'e botões de várias espécies de losna e de outras plantas.',\n",
       " '(Fórma falsa, tirada do fr. absinthe. A fórma portuguesa',\n",
       " 'é absı́nthio. V. absı́nthio)',\n",
       " 'absogra fem. De absogro.',\n",
       " 'absogro, (sô) m. Bisavô do marido ou da mulher em relação ao outro cônjuge. (Do lat. absocer )',\n",
       " 'absoleto adj. Ant. O mesmo que obsoleto. Cf. Garrett,',\n",
       " 'Romanceiro, vol. II.',\n",
       " 'absolto adj. O mesmo que absolvido. Cf. Peregrinação,',\n",
       " 'CIII; Camillo, Caveira, 22. (Lat. absolutus)',\n",
       " 'absolução f. Ant. O mesmo que absolvição. (Lat. absolutio)',\n",
       " 'absolutamente adv. De modo absoluto.',\n",
       " 'absolutismo m. Systema de govêrno, em que o poder dos',\n",
       " 'governantes é absoluto.',\n",
       " 'absolutista adj. Próprio do absolutismo. M. O sectário do',\n",
       " 'absolutismo.',\n",
       " 'absoluto adj. Independente, sem restricções. Inteiro. Incondicional. Illimitado. Imperioso. Supremo. Único. Abstracto. Cabal. Irrecusável. Autoritário. Estreme. Absolvido. (Lat. absolutus)',\n",
       " 'absolutório adj. Relativo á absolvição. (De absoluto)',\n",
       " 'absolver v. t. Isentar do castigo correspondente a uma',\n",
       " 'culpa. Perdoar peccados a. Desquitar; exonerar. Fig.',\n",
       " 'Resolver, decidir. (Lat. absolvere)',\n",
       " 'absolvição f. Acto ou effeito de absolver. (Lat. absolutio)',\n",
       " 'absolvimento m. O mesmo que absolvição.',\n",
       " 'ábsono adj. Discordante; destoante. (Lat. absonus)',\n",
       " 'absorpção f. Acto de absorver. (Lat. absorptio)',\n",
       " 'absorpciometria f. Determinação dos coefficientes de absorpção entre os lı́quidos e os gases. (Do lat. absorptio +',\n",
       " 'gr. metron)',\n",
       " 'absorpciométrico adj. Relativo á absorpciometria.',\n",
       " 'absorto adj. Concentrado em seus pensamentos. Extasiado.',\n",
       " '(Lat. absortus)',\n",
       " 'absorvedoiro m. O mesmo que sorvedoiro.',\n",
       " 'absorvedor m. e adj. O mesmo que absorvente.',\n",
       " 'absorvedouro m. O mesmo que sorvedoiro.',\n",
       " 'absorvência f. Faculdade de absorver.',\n",
       " 'absorvente m. e adj. O que absorve. (Lat. absorbens)',\n",
       " 'absorver v. t. Recolher em si: a camisola absorve o',\n",
       " 'suor. Sorver. Aspirar. Engulir. Enxugar. Consumir:',\n",
       " 'os cuidados absorvem o tempo. Enthusiasmar. Preocupar:',\n",
       " 'absorve-o o vı́cio do jôgo. V. p. Extasiar-se. Concentrarse: absorver-se no estudo. (Lat. absorbere)',\n",
       " 'absorvimento m. O mesmo que absorpção.',\n",
       " 'absôrvo m. Parte das bombas de incêndio, que recolhe a',\n",
       " 'água para a mangueira.',\n",
       " 'abstemia f. Qualidade de abstêmio.',\n",
       " '',\n",
       " 'abular',\n",
       " 'abstêmico adj. O mesmo que abstêmio.',\n",
       " 'abstêmio adj. Que se abstém de vinho; frugal, moderado.',\n",
       " 'M. Aquelle que se abstém de vinho. (Lat. abstemius)',\n",
       " '',\n",
       " 'abstenção f. Acto ou effeito de abster. (Lat. abstentio)',\n",
       " 'abstencionista m. Aquelle que se abstém (de votar em',\n",
       " 'eleições); partidário do principio da abstenção. Cf. A.',\n",
       " 'Cândido, Phil. Pol., 118.',\n",
       " 'abster v. t. Privar de; desviar. V. p. Conter-se, reprimir-se:',\n",
       " 'abster-se de falar. Ter moderação, sobriedade. Não tomar',\n",
       " 'parte numa deliberação. * V. i. Privar-se; não intervir.',\n",
       " 'Cf. Rui Barbosa, Réplica, II, 160. (Do lat. abstinere)',\n",
       " 'abstergência f. Qualidade de abstergente.',\n",
       " 'abstergente adj. Que absterge. (Lat. abstergens)',\n",
       " 'absterger v. t. Limpar, lavar. (Lat. abstergere)',\n",
       " 'abstero adj. Ant. O mesmo que austero.',\n",
       " 'abstersão f. Acto ou effeito de absterger. (Lat. abstersio)',\n",
       " 'abstersivo adj. Próprio para absterger. M. Substância que',\n",
       " 'absterge. (De absterso)',\n",
       " 'absterso adj. Lavado, limpo. (Lat. abstersus)',\n",
       " 'abstinência f. Qualidade de abstinente; dieta. Jejum.',\n",
       " '(Lat. abstinentia)',\n",
       " 'abstinente adj. Que se abstém. (Lat. abstinens)',\n",
       " 'abstracção f. Acto de abstrahir. Estado, em que o espı́rito',\n",
       " 'considera insuladamente coisas realmente unidas. (Lat.',\n",
       " 'abstractio)',\n",
       " 'abstractamente adv. De modo abstracto.',\n",
       " 'abstractivo adj. Que abstrai. (De abstracto)',\n",
       " 'abstracto adj. Que designa propriedade ou qualidade, insulada da pessôa ou coisa a que pertence, como belleza,',\n",
       " 'alegria, etc. Que opera sôbre abstracções e não sôbre realidades. Numero abstracto, aquelle de que se não indica',\n",
       " 'a natureza da unidade. M. Aquillo que é abstracto. (Lat.',\n",
       " 'abstractus)',\n",
       " 'abstrahimento, (tra-i ) m. O mesmo que abstracção. Cf.',\n",
       " 'Camillo, Olho de Vidro, 75.',\n",
       " 'abstrahir v. t. Separar. V. i. Considerar separadamente.',\n",
       " 'V. p. Concentrar-se. Alhear-se. (Lat. abstrahere)',\n",
       " 'abstraimento, (tra-i ) m. O mesmo que abstracção. Cf.',\n",
       " 'Camillo, Olho de Vidro, 75.',\n",
       " 'abstrair v. t. Separar. V. i. Considerar separadamente. V.',\n",
       " 'p. Concentrar-se. Alhear-se. (Lat. abstrahere)',\n",
       " 'abstrusamente adv. De modo abstruso. Obscuramente.',\n",
       " 'abstrusidade f. Qualidade de abstruso.',\n",
       " 'abstruso adj. Desordenado, confuso. Que não tem',\n",
       " 'méthodo. (Lat. abstrusus)',\n",
       " 'absumir v. t. Des. O mesmo que consumir. (Lat. absumere)',\n",
       " 'absumpção f. O mesmo que consumpção. (Lat. absumptio)',\n",
       " 'absurdamente adv. De modo absurdo.',\n",
       " 'absurdeza f. Qualidade daquillo que é absurdo. O mesmo',\n",
       " 'que absurdo. Cf. Camillo, Esqueleto, 51.',\n",
       " 'absurdo adj. Disparatado, opposto á razão ou ao senso',\n",
       " 'commum. Logicamente contradictório. M. Tolice, disparate, contra-senso. (Lat. absurdus)',\n",
       " 'abu m. Espécie de palmeira.',\n",
       " 'abuçar v. t. Gı́r. O mesmo que cercar.',\n",
       " 'abugão m. Prov. minh. O mesmo que abigoiro.',\n",
       " 'abujão m. O mesmo ou melhor que avejão. (Lat. abusio)',\n",
       " 'abular v. t. Sellar com bulla ou com sêllo de chumbo. V.',\n",
       " 'p. Adquirir bulla.',\n",
       " 'abulia f. Doença, caracterizada pelo afroixamento da volição. (Do gr. a priv. + boule, vontade)',\n",
       " 'abúlico adj. Relativo á abulia. Que padece abulia.',\n",
       " 'abullar v. t. Sellar com bulla ou com sêllo de chumbo. V.',\n",
       " 'p. Adquirir bulla.',\n",
       " 'abuna m. Bras. Nome, que os Índios da América davam',\n",
       " 'aos jesuitas e aos padres em geral.',\n",
       " 'abundamento m. Ant. O mesmo que abundância.',\n",
       " 'abundância f. Qualidade de abundante. Grande quantidade. Riqueza: viver na abundância. (Lat. abundantia)',\n",
       " 'abundante adj. Que abunda, que tem grande cópia. Rico:',\n",
       " 'paı́s abundante. Fig. Opulento em termos e phrases: estilo',\n",
       " 'abundante.',\n",
       " 'abundantemente adv. De modo abundante, com abundância.',\n",
       " 'abundar v. i. Têr ou existir, em grande quantidade: a',\n",
       " 'miséria abunda nas grandes cidades. Trasbordar. Estar',\n",
       " 'cheio, rico. Affluir. Fam. Abundar na opinião de alguém,',\n",
       " 'sêr da mesma opinião. (Lat. abundare)',\n",
       " 'abundidade f. O mesmo que abundeza. Cf. Camillo, Curso',\n",
       " 'de Liter., 105.',\n",
       " 'abundosamente adv. O mesmo que abundantemente.',\n",
       " 'abundoso adj. O mesmo que abundante. * Ant. Que tem',\n",
       " 'poderes bastantes para tratar negocios de outrem. Cf. Peregrinação, II, 117.',\n",
       " 'abunhadio m. Cargo de abunhado.',\n",
       " 'abunhado m. Trabalhador indiano, que, nascido em terra',\n",
       " 'de um senhorio, é obrigado a viver e trabalhar nellas.',\n",
       " 'abunhar v. i. Viver como abunhado.',\n",
       " 'abur! interj. Prov. trasm. Usa-se maliciosamente, para',\n",
       " 'designar despedida, que não deixa saudades. (Relacionase com embora?)',\n",
       " 'aburacar v. t. (V. esburacar )',\n",
       " 'aburelar v. t. Dar aspecto de burel a.',\n",
       " 'aburguesado adj. Próprio de burguês. Semelhante a burguês. (De aburguesar )',\n",
       " 'aburguesar-se v. p. Adquirir hábitos ou modos de burguês.',\n",
       " 'aburrar v. t. Des. Mostrar-se triste. (De burro)',\n",
       " 'aburrinhar v. i. Prov. Diz-se da criança, que começa a',\n",
       " 'andar de gatas, a engatinhar: ainda eu aburrinhava... (De',\n",
       " 'burrinho, dem. de burro, por allusão á maneira de andar',\n",
       " 'em quatro pés)',\n",
       " 'abusamento m. Prov. alent. O mesmo que abuso.',\n",
       " 'abusão f. Abuso. Engano. Superstição. (Lat. abusio)',\n",
       " 'abusar v. i. Fazer mau uso. Faltar á confiança. Despropositar. Causar prejuı́zo. (De abuso)',\n",
       " 'abusivamente adv. De modo abusivo.',\n",
       " 'abusivo adj. Feito com abuso. (Lat. abusivus)',\n",
       " 'abuso m. Uso excessivo, errado ou injusto: abuso do poder.',\n",
       " 'Êrro. Prevaricação. Práticas condemnáveis: os abusos do',\n",
       " 'absolutismo.',\n",
       " 'abuta f. Ant. Boceta. Caixinha; caixa de rapé.',\n",
       " 'abutilão m. Planta malvácea, ornamental.',\n",
       " 'abutilo m. O mesmo que abutilão.',\n",
       " 'abutiloide f. Planta exótica, da fam. das malváceas. (De',\n",
       " 'abutilo)',\n",
       " 'abutre m. Ave de rapina, da ordem das diurnas. Fig. Homem usurário. Homem sem escrúpulos. (Lat. vultur )',\n",
       " 'abutre-fusco m. Ave, o mesmo que pica-osso. Cf. P.',\n",
       " 'Moraes, Zool. Elem., 352.',\n",
       " '',\n",
       " '14',\n",
       " 'abutreiro m. Caçador de abutres.',\n",
       " 'abútua f. O mesmo que bútua.',\n",
       " 'abutumado adj. O mesmo que abetumado, macambúzio.',\n",
       " 'Cf. Eufrosina, 15.',\n",
       " '',\n",
       " 'abuzinado adj. Que tem fórma de buzina. (De abuzinar )',\n",
       " 'abuzinar v. i. Tocar buzina. Fazer barulho incómmodo.',\n",
       " 'abysmo m. (e der.) (V. abismo, etc.)',\n",
       " 'abyssal adj Relativo ao abysso. Relativo ás profundidades',\n",
       " 'marı́timas. Que vive na profundidade do mar. (De abysso)',\n",
       " '',\n",
       " 'abyssı́nio m. O mesmo que abexim.',\n",
       " 'abysso m. O mesmo que abismo. * Gênero de plantas de',\n",
       " 'jardim. (Gr. abussos)',\n",
       " '',\n",
       " '...aça suf., fem. De... aço.',\n",
       " 'aca,1 m., Bras. de Minas. Mau cheiro; fétido.',\n",
       " 'aça m., f. e adj. Bras. Homem ou animal albino.',\n",
       " 'acá m. Árvore silvestre do Brasil.',\n",
       " 'aca,2 f. T. da Índia Port. Pensão pecuniária, vitalicia e hereditária, dada pela autoridade soberana, em compensação',\n",
       " 'de serviços públicos.',\n",
       " 'acabaçar v. t. Dar feitio de cabaça a.',\n",
       " 'acabadamente adv. De modo acabado, com perfeição. Inteiramente.',\n",
       " 'acabadiço adj. Doentio, acanaveado. Cf. Cenáculo, Visita,',\n",
       " '37.',\n",
       " 'acabado adj. Abatido. Fam. Muito magro, avelhentado. *',\n",
       " 'M. O mesmo que acabamento: é trabalho de óptimo acabado. (De acabar )',\n",
       " 'acabador m. Aquelle que acaba. * m. Operário, encarregado do acabamento numa peça de tecido de lan.',\n",
       " 'acabadote adj. Um tanto acabado, avelhentado, (falandose de alguém). (De acabado)',\n",
       " 'acabamento m. Acto ou effeito de acabar. Perfeição.',\n",
       " 'acabanado adj. Que tem fórma de cabana. * Prov. Virado',\n",
       " 'para dentro ou para baixo, (falando-se dos chifres dos bois,',\n",
       " 'do lóbulo da orelha, da aba do chapéu, etc.)',\n",
       " 'acabar v. t. Pôr termo a; levar a cabo, concluir. Aperfeiçoar. Gastar. V. i. Findar, concluir-se. Morrer. * Loc.',\n",
       " 'conj. Acabar com alguém que, resolvê-lo, convencê-lo de',\n",
       " 'que. Cf. Pant. de Aveiro, Itiner., 22. (2.ª ed.). (De cabo)',\n",
       " 'acabellar v. i. (e der.) (V. encabellar, etc.)',\n",
       " 'acaboclado adj. Que tem origem, côr ou feições de caboclo.',\n",
       " 'acabramar v. t. Des. Embaraçar os movimentos de (bois),',\n",
       " 'ligando com corda o pé ao corno, para que não maltratem',\n",
       " 'quem delles cura. (Cp. cabre 2 )',\n",
       " 'acabramo m. Peia de acabramar.',\n",
       " 'acabrunhadamente adv. De modo acabrunhado.',\n",
       " 'acabrunhado adj. Enfraquecido, adoentado. Melancólico.',\n",
       " '(De acabrunhar )',\n",
       " 'acabrunhar v. t. Affligir, opprimir; humilhar. * V. p. T.',\n",
       " 'de Murça. Cair doente; ficar doente de cama.',\n",
       " 'acacá m. Bras. Espécie de bolo de arroz ou de milho moı́do.',\n",
       " 'açacal m. Ant. O mesmo que aguadeiro. (Do ár.)',\n",
       " 'açacaladamente adv. De modo açacalado.',\n",
       " 'açacalador m. O que açacala. Brunidor de armas brancas.',\n",
       " 'açacaladura f. Acto de ou effeito de açacalar.',\n",
       " 'açacalar v. t. Polir; (falando-se de armas brancas) Fig.',\n",
       " 'Illustrar. Aperfeiçoar. (De açacal )',\n",
       " 'acaçapadamente adv. De modo acaçapado.',\n",
       " 'acaçapado adj. Que se abaixou, que se encolheu: um vulto',\n",
       " 'acaçapado. (De acaçapar )',\n",
       " 'acaçapar v. t. Abaixar, encolher. (De caçapo)',\n",
       " '',\n",
       " '15',\n",
       " '',\n",
       " 'acalcanhado',\n",
       " '',\n",
       " 'acachafundar v. t. Pop. Meter na água, de cabeça para',\n",
       " 'baixo.',\n",
       " '',\n",
       " 'acachapar v. t. O mesmo que acaçapar : “eis se acachapa',\n",
       " 'meio morto o pastor ”. Filinto, XII, 209.',\n",
       " '',\n",
       " 'acachar v. t. (V. agachar )',\n",
       " 'acachoar v. t. Pôr em cachão. V. i. Formar cachão.',\n",
       " 'acachuchar v. t. Prov. trasm. Matar (alguém),',\n",
       " 'amarfanhando-o, sem o deixar piar.',\n",
       " '',\n",
       " 'acácia f. Árvore ornamental, da fam. das leguminosas. (Lat.',\n",
       " 'acacia)',\n",
       " '',\n",
       " 'acácia-bastarda f. Espécie de acácia, (robinia pseudoacacia).',\n",
       " '',\n",
       " 'acácia-dos-alemães f. Espécie de abrunheiro bravo, (prunus spinosa, Lin.).',\n",
       " '',\n",
       " 'acacifar v. t. Meter em cacifo.',\n",
       " 'açacu m. Árvore euphorbiácea das margens do Amazonas,',\n",
       " '(ura brasiliensis).',\n",
       " '',\n",
       " 'acadar,2 v. t. T. de Paredes-de-Coira. Receber nas mãos',\n",
       " 'ou no regaço. (Contr. de arrecadar )',\n",
       " '',\n",
       " 'acadar,1 m. T. da Índia Port. Aquelle que recebeu ou frue',\n",
       " 'uma acca.',\n",
       " '',\n",
       " 'acadeirar-se v. p. Sentar-se em cadeira.',\n",
       " 'academia f. Lugar em que se ensina. Escola de instrucção',\n",
       " 'superior. Sociedade de sábios, artistas ou literatos. (A',\n",
       " 'pronúncia exacta seria académia, mas não se usa) (Lat.',\n",
       " 'academia)',\n",
       " 'acadêmia f. Figura de gesso, ou estampa, para estudo. (Cp.',\n",
       " 'academia)',\n",
       " 'academial adj. (V. acadêmico)',\n",
       " 'academialmente adj. (V. academicamente)',\n",
       " 'academiar v. i. Falar ou proceder academicamente. (De',\n",
       " 'academia)',\n",
       " 'academicamente adv. De modo acadêmico.',\n",
       " 'acadêmico adj. Relativo a academia. M. Membro de academia. Estudante. (Lat. academicus)',\n",
       " 'academista m. Estudante, que frequenta uma academia.',\n",
       " 'Especialmente, quem frequenta uma academia recreativa.',\n",
       " 'acadianos m. pl. Povos, que habitaram a região de Babylónia, antes da dominação dos Assýrios.',\n",
       " 'acadimar-se v. p. Prov. Habituar-se a certo trabalho;',\n",
       " 'tornar-se perito nelle. (De cadimo)',\n",
       " 'acadrimar-se v. p. O mesmo que acadimar-se. Affeiçoarse: “não se acadrimou a nenhum”. Camillo, Myst. de Fafe,',\n",
       " '10.',\n",
       " 'acaecente adj. Ant. Que acaéce.',\n",
       " 'acaecer v. i. Ant. Acontecêr. (Cp. lat. cadere)',\n",
       " 'acaecimento m. Acto de acaecer.',\n",
       " 'açafaitar v. t. T. da Bairrada. Entrajar bem, revestir',\n",
       " 'garridamente. (Por açafatar, de açafata)',\n",
       " 'acafanhar v. t. Prov. minh. O mesmo que estragar. (Colhido em Paredes-de-Coira)',\n",
       " 'açafata f. Moça da raı́nha, (moça de açafate).',\n",
       " 'açafatar v. t. Meter ou acommodar em açafate.',\n",
       " 'açafate m. Cesto baixo, redondo ou oval, sem arco nem',\n",
       " 'tampa. (Ár. açafat)',\n",
       " 'açafate-de-oiro m. Bras. O mesmo que alysso.',\n",
       " 'acafelador m. O que acafela.',\n",
       " 'acafeladura f. O mesmo que acafelamento.',\n",
       " 'acafelamento m. Acto ou effeito de acafelar.',\n",
       " 'acafelar v. t. Rebocar. Encobrir. * Tapar com asphalto.',\n",
       " '(Cast. acafelar )',\n",
       " '',\n",
       " 'acafetar v. t. Dar côr de café a. (De café. Cp. cafeteira)',\n",
       " 'açaflôr m. O mesmo que açafrão.',\n",
       " 'açafões m. pl. O mesmo que çafões.',\n",
       " 'açafrão m. Planta bulbosa, da fam. das irı́deas. Flôr dessa',\n",
       " 'planta. (Do ár. azzaferan)',\n",
       " '',\n",
       " 'açafrar v. i. Ant. Tornar-se sáfaro? mostrar-se desdenhoso? (Cp. safra 1 )',\n",
       " 'açafrôa f. Pequena planta, semelhante ao açafrão.',\n",
       " 'açafroado adj. Que tem côr de açafrão. Temperado com',\n",
       " 'açafrão. (De açafroar )',\n",
       " 'açafroador m. O que açafrôa.',\n",
       " 'açafroal m. Lugar, em que cresce o açafrão.',\n",
       " 'açafroamento m. Acto de açafroar.',\n",
       " 'açafroar v. t. Dar a côr do açafrão a. Temperar com',\n",
       " 'açafrão.',\n",
       " 'açafroeira f. O mesmo que açafrão, planta.',\n",
       " 'açafrôl m. Prov. alg. O mesmo que açafrôa.',\n",
       " 'açagador m. Ant. Cutileiro, serralheiro, armeiro. Cf. Arn.',\n",
       " 'Gama, Bailio, 38. (Cp. açacalador )',\n",
       " 'acahi m. Des. Pedra hume.',\n",
       " 'açahi m. Fruta do açahizeiro. Calda escura e substanciosa,',\n",
       " 'extrahida dessa fruta.',\n",
       " 'açahizeiro, (ça-i ) m. Espécie de palmeira do norte do',\n",
       " 'Brasil, (euterpe oleracea) (De açahi)',\n",
       " 'acaı́ m. Des. Pedra hume.',\n",
       " 'açaı́ m. Fruta do açahizeiro. Calda escura e substanciosa,',\n",
       " 'extrahida dessa fruta.',\n",
       " 'acaia f. Bras. Planta burserácea, medicinal.',\n",
       " 'acaico adj. Relativo aos Acheus. (Lat. achaiens)',\n",
       " 'açaimar v. t. Prender com açamo. Pôr açamo a. Fig.',\n",
       " 'Reprimir.',\n",
       " 'açaime m. (V. açamo, etc.)',\n",
       " 'açaimo m. (e der.) (V. açamo, etc.)',\n",
       " 'acaina f. Fruto monospérmico, indehiscente, cujo pericarpo',\n",
       " 'adhere ao invólucro do grão e ao tubo do cálice, como se',\n",
       " 'observa nas synanthéreas. (Do gr. a priv. + khanein)',\n",
       " 'acaio adj. O mesmo que achaico. (Lat. achaius)',\n",
       " 'acaipirar-se v. p. Bras. Adquirir modos de caipira ou de',\n",
       " 'roceiro. Mostrar-se acanhado.',\n",
       " 'acairelador m. O que acairela.',\n",
       " 'acairelamento m. Acto de acairelar.',\n",
       " 'acairelar v. t. Pôr cairel em. Guarnecer de cairel.',\n",
       " 'acais-a-cajo loc. adv. Ant. Por um és-não-és, por um tris.',\n",
       " '(Corr. do quási + quási)',\n",
       " 'açaizeiro, (ça-i ) m. Espécie de palmeira do norte do Brasil, (euterpe oleracea). (De açahi)',\n",
       " 'acajá m. O mesmo que cajá.',\n",
       " 'acajadar v. t. Bater com cajado. Espancar.',\n",
       " 'acaju m. (V. caju)',\n",
       " 'acajuadiço adj. Prov. alg. Propenso, tendente. Que occasiona, (falando-se de doenças) (Por occasiadiço, de occasião?)',\n",
       " 'acajueiro m. (V. cajueiro)',\n",
       " 'acalacas m. Grande formiga da América.',\n",
       " 'acalantho m. Nôme scientı́fico do tentilhão. (Gr. akalanthos)',\n",
       " 'acalanto m. Nôme scientı́fico do tentilhão. (Gr. akalanthos)',\n",
       " 'acalar v. i. Prov. Submergir-se, (falando-se de barcos).',\n",
       " '(Cp. calar )',\n",
       " 'acalcanhado adj. Torto, (falando-se de calçado maltra-',\n",
       " '',\n",
       " 'acalcanhamento',\n",
       " 'tado ou com muito uso). * Fig. Abatido, decadente: “a',\n",
       " 'freira estava completamente acalcanhada e desgraciada”.',\n",
       " 'Camillo, Caveira, 276. (De acalcanhar )',\n",
       " 'acalcanhamento m. Acto de acalcanhar.',\n",
       " 'acalcanhar v. t. Pisar com o calcanhar. V. i. Entortar o',\n",
       " 'calçado, andando. * Esmagar, aniquilar: “quando as injustiças dêste planeta o acalcanharem...” Camillo, Volcoens,',\n",
       " '82.',\n",
       " 'acalcar v. t. O mesmo que calcar.',\n",
       " 'acalefologia f. Parte da Zoologia, que trata dos acalephos.',\n",
       " 'acalefos m. pl. Zool. Classe de zoóphytos, a que pertence',\n",
       " 'a alforreca. Designação antiga dos celenterados. (Do gr.',\n",
       " 'akalephe)',\n",
       " 'acalentador adj. Que acalenta. Cf. J. Diniz, Morgadinha,',\n",
       " '172. (De acalentar )',\n",
       " 'acalentar v. t. Aquecer nos braços, aconchegando ao peito.',\n",
       " 'Embalar. Fig. Amimar. Tranquillizar. Lisonjear. (Do lat.',\n",
       " 'calens, calentis)',\n",
       " 'acalento m. Acto de acalentar.',\n",
       " 'acalephologia f. Parte da Zoologia, que trata dos acalephos.',\n",
       " 'acalephos m. pl. Zool. Classe de zoóphytos, a que pertence',\n",
       " 'a alforreca. Designação antiga dos celenterados. (Do gr.',\n",
       " 'akalephe)',\n",
       " 'acalicino adj. Bot. Que não tem cálice. (De a priv. +',\n",
       " 'cálice)',\n",
       " 'acalifa f. Planta medicinal de Malabar, (acalypha indica,',\n",
       " 'Lin.) (Gr. akalupha)',\n",
       " 'acalipto m. Gênero de serpentes venenosas que habitam',\n",
       " 'nos pântanos. (Do gr. kaluptos.)',\n",
       " 'acalmação f. Acto ou effeito de acalmar.',\n",
       " 'acalmamento m. O mesmo que acalmação.',\n",
       " 'acalmar v. t. Tornar calmo, tranquillizar. Serenar: acalmar paixões. V. i. Ficar em sossêgo. Abrandar: o vento',\n",
       " 'acalmou.',\n",
       " 'açalmar v. t. Ant. Abastecer, prover. Cf. Fernão Lopes.',\n",
       " 'acalmia f. Med. Perı́odo de acalmação, que succede ao perı́odo do calor e da vivacidade das ideias, no estado febril.',\n",
       " 'Cf. Sousa Martins, Nosographia. (De a priv. + calmo)',\n",
       " 'acalmópteros m. pl. Divisão dos lepidópteros, no systema',\n",
       " 'de Blanchard, na qual se comprehendem aquelles, cujas',\n",
       " 'asas, durante o repoiso, estão erguidas.',\n",
       " 'açaloiado adj. Que tem modos de salôio. Rude.',\n",
       " 'acalorar v. t. Communicar calor a, aquecer. Excitar.',\n",
       " 'açalpão m. Bras. O mesmo que alçapão. (Metáth. de',\n",
       " 'alçapão)',\n",
       " 'acalypha f. Planta medicinal de Malabar, (acalypha indica,',\n",
       " 'Lin.). (Gr. akalupha)',\n",
       " 'acalypto m. Gênero de serpentes venenosas que habitam',\n",
       " 'nos pântanos. (Do gr. kaluptos.)',\n",
       " 'acamacu m. Pássaro dentirostro do Senegal e Madagáscar.',\n",
       " 'açamado adj. Preso com açamo. Fig. Reprimido.',\n",
       " 'acamar v. t. Dispor em camada: acamar a fruta. Estender',\n",
       " 'no chão ou noutra superficie. V. i. Ficar doente de cama.',\n",
       " 'Definhar. * Diz-se das searas que, em certa direcção, se',\n",
       " 'inclinam, deitando-se quási no solo, por effeito do vento',\n",
       " 'ou do pêso das espigas: a seara acamou. * Deitar-se na',\n",
       " 'cama; dormir.',\n",
       " 'açamar v. t. Prender com açamo. Pôr açamo a. Fig.',\n",
       " 'Reprimir.',\n",
       " 'acamaradar-se v. t. Tornar-se camarada ou companheiro.',\n",
       " '',\n",
       " '16',\n",
       " 'Abandear-se.',\n",
       " '',\n",
       " 'açamarrado adj. Vestido de çamarra: um pastor açamarrado.',\n",
       " '',\n",
       " 'açamarrar-se v. p. Vestir-se de çamarra.',\n",
       " 'açambarcadeira f. Prov. minh. Mulher, que açambarca os gêneros trazidos ao mercado, para os revender,',\n",
       " 'lucrando.',\n",
       " 'açambarcador m. e adj. O que açambarca.',\n",
       " 'açambarcagem f. O mesmo que açambarcamento.',\n",
       " 'açambarcamento m. Acto ou effeito de açambarcar.',\n",
       " 'açambarcar v. t. Chamar a si ou adquirir, privando outros',\n",
       " 'da respectiva vantagem. Monopolizar.',\n",
       " 'acamboar v. t. Meter (os bois) ao cambão.',\n",
       " 'acambolhado adj. Deitado de cambolhada.',\n",
       " 'açame m. Apparelho, que se applica ao focinho dos cães ou',\n",
       " 'de outros animaes, para não morderem ou não comerem.',\n",
       " 'Focinheira. Mordaça.',\n",
       " 'açamo m. Apparelho, que se applica ao focinho dos cães ou',\n",
       " 'de outros animaes, para não morderem ou não comerem.',\n",
       " 'Focinheira. Mordaça.',\n",
       " 'acamonia f. Bras. Espécie de doce, em que se emprega o',\n",
       " 'gengibre.',\n",
       " 'açamoucado m. Mau emprêgo de materiaes de construcçâo, sem arte, sem gôsto e sem segurança.',\n",
       " 'acampainhar, (pa-i ) v. t. Dar fórma de campaı́nha a.',\n",
       " 'acampamento m. Acto de acampar. Lugar, onde se acampou. Arraial.',\n",
       " 'acampar v. t. Estabelecer em campo. V. i. e p.',\n",
       " 'Estabelecer-se no campo. Assentar arraial. Estacionar,',\n",
       " '(falando-se de muita gente).',\n",
       " 'acampsia f. Med. Inflexibilidade das articulações. Anquilose.',\n",
       " 'acampto m. Phýs. Que não reflecte luz. (Do gr. a priv. +',\n",
       " 'kamptein, dobrar)',\n",
       " 'acamptosomos, (tossô) m. pl. Zool. Famı́lia dos animaes da classe dos cirrı́pedes. (Do gr. a priv. + kampto,',\n",
       " 'dóbro + soma, corpo)',\n",
       " 'acamurçado adj. Que tem aspecto de camurça. (De acamurçar )',\n",
       " 'acamurçar v. t. Preparar como camurça.',\n",
       " 'açan m. Prov. trasm. e beir. Bicho, que apparece no queijo',\n",
       " 'e na carne de porco.',\n",
       " 'acanadas f. pl. Bot. O mesmo que chicoriáceas.',\n",
       " 'acanalado adj. Que tem estrias. Cavado longitudinalmente. (De acanalar )',\n",
       " 'acanalador adj. Que acanala.',\n",
       " 'acanaladura f. Estria, cavidade ou rêgo longitudinal. (De',\n",
       " 'acanalar )',\n",
       " 'acanalar v. t. Abrir estrias em. Cavar longitudinalmente.',\n",
       " '(De canal )',\n",
       " 'acanalhado adj. Que tem modos de canalha. (De acanalhar )',\n",
       " 'acanalhar v. t. Dar modos de canalha a. Tornar canalha.',\n",
       " 'V. p. Fazer-se canalha, aviltar-se. Cf. Camillo, Narcót, II,',\n",
       " '80.',\n",
       " 'acanaveado adj. Fig. Abatido, magro. (De acanavear )',\n",
       " 'acanaveadura f. Acto ou effeito de acanavear.',\n",
       " 'acanavear v. t. Suppliciar, metendo puas de cana, entre as',\n",
       " 'unhas e a carne. Fam. Tornar abatido, magro. (De cana)',\n",
       " 'açancalhar v. t. Prov. beir. Traçar ou escrever mal. Realizar mal ou atabalhoadamente. V. i. Trabalhar á pressa',\n",
       " '',\n",
       " '17',\n",
       " '',\n",
       " 'acantorinas',\n",
       " 'e mal. T. da Bairrada. Pernear, escabujar. (De çanco)',\n",
       " '',\n",
       " 'açancanhar v. t. Prov. trasm. O mesmo que pisar. V. i.',\n",
       " 'Andar ligeiro.',\n",
       " '',\n",
       " 'acanelado adj. Que tem côr de canela. (De acanelar )',\n",
       " 'acaneladura f. (V. caneladura)',\n",
       " 'acanelar v. t. Dar côr de canela a. Cobrir com o pó de',\n",
       " 'canela. O mesmo que acanalar.',\n",
       " '',\n",
       " 'acanga f. O mesmo que gallinha-da-Índia.',\n",
       " 'açanganhar v. t. O mesmo que açancanhar.',\n",
       " 'acanhadamente adv. De modo acanhado, com acanhamento.',\n",
       " '',\n",
       " 'acanhado adj. Pouco desenvolvido. Encolhido. Fig. Tı́mido. Mesquinho. (De acanhar )',\n",
       " '',\n",
       " 'acanhador m. e adj. O que causa acanhamento.',\n",
       " 'acanhamento m. Acto ou effeito de acanhar. Qualidade',\n",
       " 'de acanhado. Timidez.',\n",
       " '',\n",
       " 'acanhar v. t. Impedir o desenvolvimento a. Fig. Tornar',\n",
       " 'tı́mido. Deprimir. (De canho)',\n",
       " '',\n",
       " 'acanho m. O mesmo que acanhamento. Cf. Garrett, Ret.',\n",
       " 'de Vênus, 189.',\n",
       " '',\n",
       " 'acanhoar v. t. O mesmo que acanhonear.',\n",
       " 'acanhonear v. t. Disparar canhões contra. Bombardear.',\n",
       " 'acanhotado adj. Gı́r. O mesmo que triste. * Prov. minh.',\n",
       " 'Tôsco, grosseiro: bengala acanhotada. Um tanto estúpido;',\n",
       " 'apalermado: indivı́duo acanhotado. (De canhoto)',\n",
       " 'acanonicamente adv. De modo acanónico.',\n",
       " 'acanónico adj. Contrário aos cânones ou ao Direito canónico.',\n",
       " 'acanonista m. O transgressor dos cânones.',\n",
       " 'acantábalo m. Instrumento cirúrgico, para tirar esquı́rolas',\n",
       " 'de ossos ou corpos estranhos, introduzidos nos órgãos. (Do',\n",
       " 'gr. akantha + ballo)',\n",
       " 'acantáceas f. pl. Familia de plantas, que tem por typo o',\n",
       " 'acantho.',\n",
       " 'acanteirado adj. Dividido em canteiros. (De acanteirar )',\n",
       " 'acanteirar v. t. Dividir em canteiros, (falando-se de hortas',\n",
       " 'ou jardins).',\n",
       " 'acanthábalo m. Instrumento cirúrgico, para tirar esquı́rolas de ossos ou corpos estranhos, introduzidos nos órgãos.',\n",
       " '(Do gr. akantha + ballo)',\n",
       " 'acantháceas f. pl. Familia de plantas, que tem por typo o',\n",
       " 'acantho.',\n",
       " 'acanthia f. Insecto hemı́ptero, de que o percevejo é uma',\n",
       " 'espécie. (Do gr. akantha)',\n",
       " 'acanthião m. Gênero de mamı́feros espinhosos, a que pertence o ouriço. (Do gr. akantha)',\n",
       " 'acantho m. Gênero de plantas, vulgarmente conhecido por',\n",
       " 'erva gigante. Ornato de architectura, que representa folhas',\n",
       " 'daquella planta. (Gr. akanthos)',\n",
       " 'acanthocárpio adj. Diz-se da planta, cujos frutos são cobertos de espinhos. (Do gr. akanthos + carpos)',\n",
       " 'acanthocéphalos m. pl. Vermes intestinaes, cuja cabeça',\n",
       " 'é armada de aguilhão. (Do gr. akantha + kephale)',\n",
       " 'acanthocládio adj. Diz-se das plantas que têm ramos espinhosos. (Do gr. akantha + klados)',\n",
       " 'acanthodáctylos m. pl. Gênero de reptis, caracterizados por terem os dedos lateralmente dentados. (Do gr.',\n",
       " 'akantha + daktulos)',\n",
       " 'acanthómetro m. Animal microscópico, da classe dos rhizópodes. (Do gr. akanthos + metron)',\n",
       " 'acanthóphago adj. Diz-se dos animaes, que se nutrem de',\n",
       " '',\n",
       " 'cardos. (Do gr. akantha + phagein)',\n",
       " '',\n",
       " 'acanthóphoro adj. Erriçado de espinhos. (Do gr. akantha',\n",
       " '+ phoros)',\n",
       " '',\n",
       " 'acanthópio adj. Diz-se dos animaes, que têm os olhos rodeados de espinhos. (Do gr. akantha + ops)',\n",
       " '',\n",
       " 'acanthopomos m. pl. Famı́lia de peixes, caracterizados',\n",
       " 'por opérculos cercados de espinhos. (Do gr. akantha +',\n",
       " 'poma)',\n",
       " 'acanthopterygiano adj. Relativo aos acanthopterygios.',\n",
       " 'acanthopterygio adj. Que tem barbatanas espinhosas. Pl.',\n",
       " 'Ordem de peixes acanthopterygios. (Do gr. akanthos +',\n",
       " 'pterux )',\n",
       " 'acanthorinas f. pl. Famı́lia de peixes, que apresentam',\n",
       " 'entre os olhos uma espécie de nariz, armado de aguilhão.',\n",
       " '(Do gr. akantha + rhin)',\n",
       " 'acanthospermo m. Genero de plantas compostas. (Do gr.',\n",
       " 'akantha + sperma)',\n",
       " 'acanthura m. Peixe que, de cada lado da cauda, tem um',\n",
       " 'grande espinho movediço. (Do gr. akantha + oura)',\n",
       " 'acantia f. Insecto hemı́ptero, de que o percevejo é uma',\n",
       " 'espécie. (Do gr. akantha)',\n",
       " 'acantião m. Gênero de mamı́feros espinhosos, a que pertence o ouriço. (Do gr. akantha)',\n",
       " 'acanto m. Gênero de plantas, vulgarmente conhecido por',\n",
       " 'erva gigante. Ornato de architectura, que representa folhas',\n",
       " 'daquella planta. (Gr. akanthos)',\n",
       " 'acantoameato m. Acto ou effeito de acantoar.',\n",
       " 'acantoar v. t. Pôr a um canto. Occultar. Separar; apartar.',\n",
       " 'Desprezar.',\n",
       " 'acantocárpio adj. Diz-se da planta, cujos frutos são cobertos de espinhos. (Do gr. akanthos + carpos)',\n",
       " 'acantocéfalos m. pl. Vermes intestinaes, cuja cabeça é',\n",
       " 'armada de aguilhão. (Do gr. akantha + kephale)',\n",
       " 'acantochanado adj. Mús. Que tem o carácter de cantochão.',\n",
       " 'acantocládio adj. Diz-se das plantas que têm ramos espinhosos. (Do gr. akantha + klados)',\n",
       " 'acantodáctilos m. pl. Gênero de reptis, caracterizados por',\n",
       " 'terem os dedos lateralmente dentados. (Do gr. akantha +',\n",
       " 'daktulos)',\n",
       " 'acantófago adj. Diz-se dos animaes, que se nutrem de cardos. (Do gr. akantha + phagein)',\n",
       " 'acantóforo adj. Erriçado de espinhos. (Do gr. akantha +',\n",
       " 'phoros)',\n",
       " 'acantómetro m. Animal microscópico, da classe dos rhizópodes. (Do gr. akanthos + metron)',\n",
       " 'acantonamento m. Acto ou effeito de acantonar. Lugar,',\n",
       " 'onde se acantonam tropas.',\n",
       " 'acantonar v. t. Dispor ou distribuir (tropas) por cantões',\n",
       " 'ou aldeias. (De cantão)',\n",
       " 'acantópio adj. Diz-se dos animaes, que têm os olhos rodeados de espinhos. (Do gr. akantha + ops)',\n",
       " 'acantopomos m. pl. Famı́lia de peixes, caracterizados por',\n",
       " 'opérculos cercados de espinhos. (Do gr. akantha + poma)',\n",
       " 'acantopterigiano adj. Relativo aos acanthopterygios.',\n",
       " 'acantopterı́gio adj. Que tem barbatanas espinhosas. Pl.',\n",
       " 'Ordem de peixes acanthopterygios. (Do gr. akanthos +',\n",
       " 'pterux )',\n",
       " 'acantorinas f. pl. Famı́lia de peixes, que apresentam entre',\n",
       " 'os olhos uma espécie de nariz, armado de aguilhão. (Do',\n",
       " 'gr. akantha + rhin)',\n",
       " '',\n",
       " 'acantospermo',\n",
       " 'acantospermo m. Genero de plantas compostas. (Do gr.',\n",
       " 'akantha + sperma)',\n",
       " 'acantura m. Peixe que, de cada lado da cauda, tem um',\n",
       " 'grande espinho movediço. (Do gr. akantha + oura)',\n",
       " 'acanular v. t. Dar fórma de cana ou de cânula: “mecha',\n",
       " 'acanulada de chumbo”. Corvo, Anno na Côrte, II, 15.',\n",
       " 'açapar v. t. Pop. O mesmo que acaçapar.',\n",
       " 'acaparrar v. t. Prov. trasm. O mesmo que mascarar.',\n",
       " '(Colhido em Villa-Real)',\n",
       " 'acapelado adj. Pop. ant. Perseguido. * Des. Metido',\n",
       " 'debaixo de água, submergido. Cf. Costa e Sá, Diccion.',\n",
       " '(De acapelar )',\n",
       " 'acapelar,2 v. t. Des. Meter debaixo de água; submergir.',\n",
       " 'Cf. Costa e Sá, Diccion. (Da mesma or. de acapellar ?)',\n",
       " 'acapelar,1 v. t. Dar feitio de capello a. Cobrir com capello.',\n",
       " 'Encapellar.',\n",
       " 'acapellar v. t. Dar feitio de capello a. Cobrir com capello.',\n",
       " 'Encapellar.',\n",
       " 'acapitular v. t. Dividir em capitulos. Admoestar ou censurar em capitulo.',\n",
       " 'acapna f. Lenha sêca, que não deita fumo. (Do gr. akapnon)',\n",
       " 'acapnia f. Med. Deminuição do ácido carbónico, contido no',\n",
       " 'sangue. (Do gr. a priv. + kapnos)',\n",
       " 'acapno adj. Qualificação do melhor mel, que se extrái da',\n",
       " 'colmeia sem expulsar as abelhas por meio de fumo. (Gr.',\n",
       " 'akapnos)',\n",
       " 'acapu m. Árvore leguminosa da América.',\n",
       " 'acapu-rana m. Árvore do norte do Brasil, bôa para construcções.',\n",
       " '...açar suf. (designativo de aumento ou frequência)',\n",
       " 'acará,1 m. Bras. O mesmo que acarajé.',\n",
       " 'acará,2 m. Bras. Designação vulgar de várias espécies de',\n",
       " 'peixes.',\n",
       " 'acarajé m. Bras. Iguaria de massa de feijão cozido.',\n",
       " 'acaramelado adj. Coberto de açúcar, em ponto de caramelo.',\n",
       " 'acaramular v. t. Prov. Amontoar. V. i. Accumular-se;',\n",
       " 'amontoar-se. (Colhido na Bairrada) (De caramulo)',\n",
       " 'acarangado adj. O mesmo que encarangado.',\n",
       " 'acarão adv. Ant. Na frente, em frente, de frente. (De carão)',\n",
       " 'acarapinhar v. t. (V. encarapinhar )',\n",
       " 'acarar v. t. (V. encarar )',\n",
       " 'acaraúba f. Árvore medicinal do Alto Amazonas.',\n",
       " 'açarçalhar v. t. Prov. minh. O mesmo que gaguejar.',\n",
       " '(Colhido em Paredes-de-Coira)',\n",
       " 'acarda f. Mollusco gasterópode. (Do lat. cardo)',\n",
       " 'acardia f. Aberração orgânica, que consiste na falta de coração. (Do gr. a priv. + kardia)',\n",
       " 'acardı́aco adj. Terat. Diz-se do monstro, que não tem',\n",
       " 'coração. (Do gr. a priv. + kardia)',\n",
       " 'acarditar v. t. Pop. O mesmo que acreditar.',\n",
       " 'acardumar-se v. p. Reunir-se em cardume.',\n",
       " 'acareação f. Acto ou effeito de acarear.',\n",
       " 'acareador adj. Que acareia.',\n",
       " 'acareamento m. O mesmo que acareação.',\n",
       " 'acareante adj. Que attrai, que se torna sympáthico: “muito',\n",
       " 'acareante pessôa”. Filinto, XIX, 243.',\n",
       " 'acarear,1 v. t. Pôr em frente. Confrontar ou pôr em presença umas das outras (testemunhas ou outras pessôas,',\n",
       " 'cujos depoimentos ou declarações não foram concordes),',\n",
       " '',\n",
       " '18',\n",
       " 'para se apurar a verdade, ouvindo-as de novo. (De cara)',\n",
       " '',\n",
       " 'acarear,2 v. t. Attrahir com afagos; chamar para si, tornarse alvo de (sympathias, affeição). O mesmo que acarrear.',\n",
       " 'Cf. Filinto, V. de D. Manuel. I, 119, e II, 10; Id., Obras,',\n",
       " 'XIX, 13; XX, 8; etc. * Prov. minh. Reunir e conduzir',\n",
       " 'para a córte (o gado, geralmente o vacum). (De caro? ou',\n",
       " 'affim de carear1 ? )',\n",
       " 'acarentar v. t. e i. Ant. Tornar caro, encarecer.',\n",
       " 'acari m. Bichinho, que se cria no queijo, na farinha e na cera:',\n",
       " '“bichinho tamanino, qual é o chamado acari e se cria na',\n",
       " 'cera corrupta”. Luz e Calor, 554.',\n",
       " 'acária f. Gênero de plantas passiflóreas.',\n",
       " 'acarı́ase f. Doença, causada por ácaros. (Do gr. akari)',\n",
       " 'acaricada f. Bras. Planta medicinal.',\n",
       " 'acariciadamente adv. Com carı́cia. (De acariciado)',\n",
       " 'acariciador adj. Que acaricia.',\n",
       " 'acariciante adj. O mesmo que acariciador.',\n",
       " 'acariciar v. t. Fazer caricias a. Amimar; acarinhar. Fazer',\n",
       " 'festas a. Lisonjear. Roçar. Tocar de leve.',\n",
       " 'acariciativo adj. Acariciador; em que há carı́cias.',\n",
       " 'acaricuara f. Bras. Árvore e madeira de construcção, na',\n",
       " 'região do Purus.',\n",
       " 'acaridar-se v. p. Têr caridade, compadecer-se.',\n",
       " 'acarı́deos m. pl. Ordem de arachnı́deos, a que os ácaros',\n",
       " 'dão o nome. (Do gr. akari + eidos)',\n",
       " 'acarima m. Macaco da Guiana, semelhante ao saguim.',\n",
       " 'acarinhar v. t. Tratar com carinho, acariciar.',\n",
       " 'acário m. Planta resinosa do Cabo da Bôa-Esperança.',\n",
       " 'acarlinga f. Náut. Des. O mesmo que carlinga.',\n",
       " 'acarminado adj. Tirante a carmim.',\n",
       " 'acarna m. Planta exótica, da fam. das compostas. (Gr.',\n",
       " 'akarna)',\n",
       " 'acarneirado adj. Diz-se do cavallo, cujo joêlho mostra',\n",
       " 'grande depressão na parte anterior. (De carneiro)',\n",
       " 'ácaro m. Animálculo arachnideo. (Do gr. akari)',\n",
       " 'acarofobia f. Med. Terror mórbido da sarna. (Do gr. akari',\n",
       " '+ phobein)',\n",
       " 'acarophobia f. Med. Terror mórbido da sarna. (Do gr.',\n",
       " 'akari + phobein)',\n",
       " 'acárpio adj. Diz-se das plantas que não dão fruto. (Do gr.',\n",
       " 'a priv. + karpos)',\n",
       " 'acarraçado adj. Agarrado, apegado como a carraça.',\n",
       " 'acarrado adj. Que acarrou.',\n",
       " 'acarradoiro m. Prov. Lugar, onde o gado passa as horas',\n",
       " 'do calor, ordinariamente nas lapas. Cf. Rev. Lus., XI,',\n",
       " '146.',\n",
       " 'acarradouro m. Prov. Lugar, onde o gado passa as horas',\n",
       " 'do calor, ordinariamente nas lapas. Cf. Rev. Lus., XI,',\n",
       " '146.',\n",
       " 'acarrapatado adj. Semelhante ao carrapato.',\n",
       " 'acarrar v. i. Deixar de mover-se. Estar no chôco. * Prov.',\n",
       " ...]"
      ]
     },
     "execution_count": 32,
     "metadata": {},
     "output_type": "execute_result"
    }
   ],
   "source": [
    "sub_lines"
   ]
  },
  {
   "cell_type": "code",
   "execution_count": 63,
   "metadata": {
    "collapsed": true
   },
   "outputs": [],
   "source": [
    "tt = nltk.text.Text(sub_lines)"
   ]
  },
  {
   "cell_type": "code",
   "execution_count": 64,
   "metadata": {},
   "outputs": [
    {
     "name": "stdout",
     "output_type": "stream",
     "text": [
      "No matches\n"
     ]
    }
   ],
   "source": [
    "tt.similar(\"abraço\")"
   ]
  },
  {
   "cell_type": "code",
   "execution_count": 65,
   "metadata": {},
   "outputs": [
    {
     "name": "stdout",
     "output_type": "stream",
     "text": [
      "(Fórma falsa, tirada do fr. absinthe. A fórma portuguesa é\n",
      "absı́nthio. V. absı́nthio); Aquillo que nos animaes se não considera\n",
      "essencial ao seu organismo. Prolongamento das flôres e das fôlhas,\n",
      "que; Dependência: “uma lei de Affonso III sobre os accrescidos dos\n",
      "rios.” Port. Mon. Hist., I, 149.; Escolha, collecção de poesias.\n",
      "Collecção de trechos em prosa e verso. Selecta; chrestomathia. (Gr.\n",
      "anthologia); Famı́lia de insectos, que têm por typo o gafanhoto. (De\n",
      "acrı́dia); Fermento, que torna solúvel o amido, saccharificando-o.;\n",
      "Fim. (De a + Deus, n. p., segundo a opinião corrente; mas a fórma\n",
      "antiga ay-Deos contraria essa opinião); Infusão. * Mãe de água, o\n",
      "mesmo que fonte. Cf. Castilho, Escavações, 15. * Pl. Vertentes do\n",
      "telhado. Marés. Hemorragia, que precede o parto. (Lat. aqua); Lugares\n",
      "públicos, pouco limpos, mas trilhados por muita gente. (Cast.\n",
      "andurrial ); Mús. Diz-se de cada uma das notas, que não fazem parte\n",
      "integrante dos acordes. (De accidente); Obra artı́stica ou literária,\n",
      "que representa uma coisa, para dar ideia de outra. (Gr. allegoria);\n",
      "Ordem de peixes acanthopterygios. (Do gr. akanthos + pterux );\n",
      "Primeiras palavras de um versı́culo, que, entoadas, dão o tom ao\n",
      "côro. (Lat. antiphona); Principio. * Mús. Figura, que, na antiga\n",
      "notação, abrangia dois lugares de um pentagramma e representava duas\n",
      "notas ligadas.; Ratificar. Consentir em. Julgar habilitado (o\n",
      "estudante) na disciplina em que foi examinado. (Lat. approbare);\n",
      "Reunir em si (várias funcções ou occupações). Succeder-se,\n",
      "sobrevir. (Lat. accumulare); Rudimentos de qualquer sciência ou arte.\n",
      "Qualquer série convencional. (De alpha + beta, nome das prı́meiras\n",
      "letras; Também se diz das Ordenações, publicadas por Affonso V. *\n",
      "Antiquado, obsoleto: “termos affonsinos”. Filinto, I, 5.; Unir por\n",
      "casamento. Confederar. Encorporar. Coadunar. Agrupar. (Do lat.\n",
      "alligare); a alforreca. Designação antiga dos celenterados. (Do gr.\n",
      "akalephe)\n"
     ]
    }
   ],
   "source": [
    "tt.collocations()"
   ]
  },
  {
   "cell_type": "code",
   "execution_count": 66,
   "metadata": {},
   "outputs": [
    {
     "name": "stdout",
     "output_type": "stream",
     "text": [
      "No matches\n"
     ]
    }
   ],
   "source": [
    "tt.concordance(\"aborrecer\")"
   ]
  },
  {
   "cell_type": "code",
   "execution_count": 67,
   "metadata": {},
   "outputs": [
    {
     "name": "stdout",
     "output_type": "stream",
     "text": [
      "\n"
     ]
    }
   ],
   "source": [
    "tt.findall(\"<olhos> (<.*>)\")"
   ]
  },
  {
   "cell_type": "code",
   "execution_count": 51,
   "metadata": {},
   "outputs": [
    {
     "name": "stdout",
     "output_type": "stream",
     "text": [
      "Text\t df\t lines\t nltk\t np\t os\t pd\t stopwords\t sub_lines\t \n",
      "tt\t \n"
     ]
    }
   ],
   "source": [
    "who"
   ]
  },
  {
   "cell_type": "code",
   "execution_count": 86,
   "metadata": {
    "collapsed": true
   },
   "outputs": [],
   "source": [
    "stopwords = nltk.corpus.stopwords.words('portuguese')"
   ]
  },
  {
   "cell_type": "code",
   "execution_count": null,
   "metadata": {
    "collapsed": true
   },
   "outputs": [],
   "source": [
    "stopwords[:10]\n",
    "['a', 'ao', 'aos', 'aquela', 'aquelas', 'aquele', 'aqueles', 'aquilo', 'as', 'at\\xe9']\n",
    "Now we can use these to filter text. Let's find the most frequent words (other than stopwords) and print them in descending order of frequency:\n",
    "\n",
    " \t\n",
    ">>> fd = nltk.FreqDist(w.lower() for w in floresta.words() if w not in stopwords)\n",
    ">>> for word in fd.sorted()[:20]:\n",
    "...     print word, fd[word]\n",
    ", 13444\n",
    ". 7725\n",
    "« 2369\n",
    "» 2310\n",
    "é 1137\n",
    "o 1086\n",
    "} 1047\n",
    "{ 1044\n",
    "a 897\n",
    "; 633\n",
    "em 516\n",
    "ser 466\n",
    "sobre 349\n",
    "os 313"
   ]
  },
  {
   "cell_type": "markdown",
   "metadata": {
    "collapsed": true
   },
   "source": [
    "### Running Pre-trained Models \n",
    "### (source: http://www.nilc.icmc.usp.br/nilc/index.php/repositorio-de-word-embeddings-do-nilc#)"
   ]
  },
  {
   "cell_type": "code",
   "execution_count": 87,
   "metadata": {
    "collapsed": true
   },
   "outputs": [
    {
     "name": "stdout",
     "output_type": "stream",
     "text": [
      "\n",
      "The following command must be run outside of the IPython shell:\n",
      "\n",
      "    $ pip install gensim==2.0.0\n",
      "\n",
      "The Python package manager (pip) can only be used from outside of IPython.\n",
      "Please reissue the `pip` command in a separate terminal or command prompt.\n",
      "\n",
      "See the Python documentation for more informations on how to install packages:\n",
      "\n",
      "    https://docs.python.org/3/installing/\n"
     ]
    }
   ],
   "source": [
    "# To run word2vec we need to previously install (outside of the IPython shell) gensim\n",
    "# pip install gensim==2.0.0"
   ]
  },
  {
   "cell_type": "code",
   "execution_count": 88,
   "metadata": {},
   "outputs": [
    {
     "name": "stderr",
     "output_type": "stream",
     "text": [
      "C:\\Users\\mbarros_prest\\AppData\\Local\\Continuum\\anaconda3\\lib\\site-packages\\gensim\\utils.py:860: UserWarning: detected Windows; aliasing chunkize to chunkize_serial\n",
      "  warnings.warn(\"detected Windows; aliasing chunkize to chunkize_serial\")\n",
      "Slow version of gensim.models.doc2vec is being used\n"
     ]
    }
   ],
   "source": [
    "from gensim.models import KeyedVectors"
   ]
  },
  {
   "cell_type": "code",
   "execution_count": null,
   "metadata": {
    "collapsed": true
   },
   "outputs": [],
   "source": [
    "# To run models and pre-trained vectors\n",
    "# \n",
    "# Same sintax below for word2vec, Glove, Wang2vec - change name of .txt file accordingly\n",
    "os.chdir(\"C:\\\\Users\\\\mbarros_prest\\\\Dropbox\\\\GLOBOSAT\\word2vec\")\n",
    "\n",
    "\n",
    "    \n",
    "# Word2vec model - bag of words - 50 dimensions\n",
    "model= KeyedVectors.load_word2vec_format(\"cbow_s50.txt\", unicode_errors=\"ignore\")"
   ]
  },
  {
   "cell_type": "code",
   "execution_count": 231,
   "metadata": {
    "collapsed": true
   },
   "outputs": [],
   "source": [
    "? model.vocab"
   ]
  },
  {
   "cell_type": "code",
   "execution_count": 93,
   "metadata": {
    "collapsed": true
   },
   "outputs": [],
   "source": [
    "? model.most_similar"
   ]
  },
  {
   "cell_type": "code",
   "execution_count": 95,
   "metadata": {},
   "outputs": [
    {
     "data": {
      "text/plain": [
       "[('imaginação', 0.9169293642044067),\n",
       " ('alma', 0.915634036064148),\n",
       " ('sabedoria', 0.9134722948074341),\n",
       " ('bondade', 0.9077599048614502),\n",
       " ('alegria', 0.9003108143806458)]"
      ]
     },
     "execution_count": 95,
     "metadata": {},
     "output_type": "execute_result"
    }
   ],
   "source": [
    "model.most_similar(positive=[\"felicidade\"], topn=5)"
   ]
  },
  {
   "cell_type": "code",
   "execution_count": null,
   "metadata": {
    "collapsed": true
   },
   "outputs": [],
   "source": []
  },
  {
   "cell_type": "code",
   "execution_count": null,
   "metadata": {
    "collapsed": true
   },
   "outputs": [],
   "source": []
  },
  {
   "cell_type": "code",
   "execution_count": 144,
   "metadata": {
    "collapsed": true
   },
   "outputs": [],
   "source": [
    "import re  # module to manipulate regular expressions\n",
    "\n",
    "# Code copied from preprocessing.py \n",
    "# Punctuation list\n",
    "punctuations = re.escape('!\"#%\\'()*+,./:;<=>?@[\\\\]^_`{|}~')\n",
    "\n",
    "# ##### #\n",
    "# Regex #\n",
    "# ##### #\n",
    "re_remove_brackets = re.compile(r'\\{.*\\}')\n",
    "re_remove_html = re.compile(r'<(\\/|\\\\)?.+?>', re.UNICODE)\n",
    "re_transform_numbers = re.compile(r'\\d', re.UNICODE)\n",
    "re_transform_emails = re.compile(r'[^\\s]+@[^\\s]+', re.UNICODE)\n",
    "re_transform_url = re.compile(r'(http|https)://[^\\s]+', re.UNICODE)\n",
    "# Different quotes are used.\n",
    "re_quotes_1 = re.compile(r\"(?u)(^|\\W)[‘’′`']\", re.UNICODE)\n",
    "re_quotes_2 = re.compile(r\"(?u)[‘’`′'](\\W|$)\", re.UNICODE)\n",
    "re_quotes_3 = re.compile(r'(?u)[‘’`′“”]', re.UNICODE)\n",
    "re_dots = re.compile(r'(?<!\\.)\\.\\.(?!\\.)', re.UNICODE)\n",
    "re_punctuation = re.compile(r'([,\";:]){2},', re.UNICODE)\n",
    "re_hiphen = re.compile(r' -(?=[^\\W\\d_])', re.UNICODE)\n",
    "re_tree_dots = re.compile(u'…', re.UNICODE)\n",
    "# Differents punctuation patterns are used.\n",
    "re_punkts = re.compile(r'(\\w+)([%s])([ %s])' %\n",
    "                       (punctuations, punctuations), re.UNICODE)\n",
    "re_punkts_b = re.compile(r'([ %s])([%s])(\\w+)' %\n",
    "                         (punctuations, punctuations), re.UNICODE)\n",
    "re_punkts_c = re.compile(r'(\\w+)([%s])$' % (punctuations), re.UNICODE)\n",
    "re_changehyphen = re.compile(u'–')\n",
    "re_doublequotes_1 = re.compile(r'(\\\"\\\")')\n",
    "re_doublequotes_2 = re.compile(r'(\\'\\')')\n",
    "re_trim = re.compile(r' +', re.UNICODE)\n",
    "\n",
    "\n",
    "def clean_text(text):\n",
    "    \"\"\"Apply all regex above to a given string.\"\"\"\n",
    "    text = text.lower()\n",
    "    text = re_tree_dots.sub('...', text)\n",
    "    text = re.sub('\\.\\.\\.', '', text)\n",
    "    text = re_remove_brackets.sub('', text)\n",
    "    text = re_changehyphen.sub('-', text)\n",
    "    text = re_remove_html.sub(' ', text)\n",
    "    text = re_transform_numbers.sub('0', text)\n",
    "    text = re_transform_url.sub('URL', text)\n",
    "    text = re_transform_emails.sub('EMAIL', text)\n",
    "    text = re_quotes_1.sub(r'\\1\"', text)\n",
    "    text = re_quotes_2.sub(r'\"\\1', text)\n",
    "    text = re_quotes_3.sub('\"', text)\n",
    "    text = re.sub('\"', '', text)\n",
    "    text = re_dots.sub('.', text)\n",
    "    text = re_punctuation.sub(r'\\1', text)\n",
    "    text = re_hiphen.sub(' - ', text)\n",
    "    text = re_punkts.sub(r'\\1 \\2 \\3', text)\n",
    "    text = re_punkts_b.sub(r'\\1 \\2 \\3', text)\n",
    "    text = re_punkts_c.sub(r'\\1 \\2', text)\n",
    "    text = re_doublequotes_1.sub('\\\"', text)\n",
    "    text = re_doublequotes_2.sub('\\'', text)\n",
    "    text = re_trim.sub(' ', text)\n",
    "    return text.strip()\n"
   ]
  },
  {
   "cell_type": "code",
   "execution_count": null,
   "metadata": {
    "collapsed": true
   },
   "outputs": [],
   "source": []
  },
  {
   "cell_type": "code",
   "execution_count": 214,
   "metadata": {
    "collapsed": true
   },
   "outputs": [],
   "source": [
    "interesting_words = [line.rstrip(\"\\n\") for line in open('exemplo_palavras_para_POC_diferenciados.txt', encoding=\"utf8\")]"
   ]
  },
  {
   "cell_type": "code",
   "execution_count": 237,
   "metadata": {},
   "outputs": [
    {
     "data": {
      "text/plain": [
       "['diversão  ',\n",
       " 'divertida  ',\n",
       " 'alegre  ',\n",
       " 'sofisticação  ',\n",
       " 'privilégio  ',\n",
       " 'elegância  ',\n",
       " 'sabor  ',\n",
       " 'sofisticação  ',\n",
       " 'casual ',\n",
       " 'descolado  ']"
      ]
     },
     "execution_count": 237,
     "metadata": {},
     "output_type": "execute_result"
    }
   ],
   "source": [
    "interesting_words[0:10]"
   ]
  },
  {
   "cell_type": "code",
   "execution_count": null,
   "metadata": {
    "collapsed": true
   },
   "outputs": [],
   "source": []
  },
  {
   "cell_type": "code",
   "execution_count": 216,
   "metadata": {
    "collapsed": true
   },
   "outputs": [],
   "source": [
    "# Convert list to string to be able to tokenize\n",
    "str_interesting_words = \" \".join(interesting_words)"
   ]
  },
  {
   "cell_type": "markdown",
   "metadata": {},
   "source": [
    "### Additional processing "
   ]
  },
  {
   "cell_type": "code",
   "execution_count": 217,
   "metadata": {},
   "outputs": [
    {
     "data": {
      "text/plain": [
       "'diversão ; divertida ; alegre ; sofisticação ; privilégio ; elegância ; sabor ; sofisticação ; casual ; descolado ; inteligente ; paixão ; coração ; alegria ; descolado ; divertido ; saboroso ; simplicidade ; elegância ; sofisticação ; praticidade ; qualidade ; saúde ; versatilidade ; praticidade ; elegância ; beleza ; eficiência ; diversidade ; diversão ; divertida ; informal ; espontânea ; bem humorada ; casual ; superação ; inspiração ; motivação ; resiliência ; força de vontade ; emoção ; superação ; esperança ; recomeço ; altruísmo ; charme ; elegância ; sofisticação ; irreverência ; bom humor ; senso de humor ; engraçado ; espirituoso ; curioso ; atualidade ; opinião ; leveza ; espontaneidade ; interatividade ; diversão ; beleza ; casual ; eficiente ; simplicidade ; descolado ; alegria ; felicidade ; diversão ; alegria ; comemoração ; elegância ; moda ; garbo ; festa ;'"
      ]
     },
     "execution_count": 217,
     "metadata": {},
     "output_type": "execute_result"
    }
   ],
   "source": [
    "clean_text(str_interesting_words)"
   ]
  },
  {
   "cell_type": "code",
   "execution_count": 218,
   "metadata": {
    "collapsed": true
   },
   "outputs": [],
   "source": [
    "str_interesting_words = str_interesting_words.replace(\";\", \" \")"
   ]
  },
  {
   "cell_type": "code",
   "execution_count": 219,
   "metadata": {},
   "outputs": [
    {
     "data": {
      "text/plain": [
       "'diversão   divertida   alegre   sofisticação   privilégio   elegância   sabor   sofisticação   casual  descolado   inteligente   paixão   coração   alegria   descolado   divertido   saboroso  simplicidade   elegância   sofisticação   praticidade   qualidade   saúde   versatilidade   praticidade   elegância   beleza  eficiência  diversidade   diversão   divertida   informal   espontânea   bem humorada  casual  superação   inspiração   motivação   resiliência   força de vontade   emoção  superação   esperança   recomeço   altruísmo   charme   elegância   sofisticação  irreverência   bom humor  senso de humor  engraçado  espirituoso  curioso  atualidade   opinião   leveza   espontaneidade   interatividade   diversão   beleza   casual   eficiente   simplicidade   descolado   alegria   felicidade   diversão  alegria   comemoração   elegância   moda  garbo  festa '"
      ]
     },
     "execution_count": 219,
     "metadata": {},
     "output_type": "execute_result"
    }
   ],
   "source": [
    "str_interesting_words"
   ]
  },
  {
   "cell_type": "code",
   "execution_count": 232,
   "metadata": {
    "collapsed": true
   },
   "outputs": [],
   "source": [
    "# Additional processing for the elements of the list\n",
    "interesting_words = [i.replace(\";\", \" \") for i in interesting_words]"
   ]
  },
  {
   "cell_type": "code",
   "execution_count": 236,
   "metadata": {},
   "outputs": [
    {
     "data": {
      "text/plain": [
       "['diversão  ',\n",
       " 'divertida  ',\n",
       " 'alegre  ',\n",
       " 'sofisticação  ',\n",
       " 'privilégio  ',\n",
       " 'elegância  ',\n",
       " 'sabor  ',\n",
       " 'sofisticação  ',\n",
       " 'casual ',\n",
       " 'descolado  ']"
      ]
     },
     "execution_count": 236,
     "metadata": {},
     "output_type": "execute_result"
    }
   ],
   "source": [
    "interesting_words[0:10]"
   ]
  },
  {
   "cell_type": "code",
   "execution_count": 240,
   "metadata": {},
   "outputs": [
    {
     "data": {
      "text/plain": [
       "74"
      ]
     },
     "execution_count": 240,
     "metadata": {},
     "output_type": "execute_result"
    }
   ],
   "source": [
    "len(interesting_words)"
   ]
  },
  {
   "cell_type": "code",
   "execution_count": 247,
   "metadata": {
    "collapsed": true
   },
   "outputs": [],
   "source": []
  },
  {
   "cell_type": "code",
   "execution_count": 207,
   "metadata": {
    "collapsed": true
   },
   "outputs": [],
   "source": [
    "import numpy as np\n",
    "array_interesting_words = np.asarray(interesting_words)"
   ]
  },
  {
   "cell_type": "code",
   "execution_count": 209,
   "metadata": {
    "collapsed": true
   },
   "outputs": [],
   "source": [
    "del(array_interesting_words)"
   ]
  },
  {
   "cell_type": "code",
   "execution_count": 222,
   "metadata": {
    "collapsed": true
   },
   "outputs": [],
   "source": [
    "#tt = [i.replace(\";\", \" \") for i in interesting_words]"
   ]
  },
  {
   "cell_type": "code",
   "execution_count": 223,
   "metadata": {
    "collapsed": true
   },
   "outputs": [],
   "source": [
    "#tt = [i + \"kkkk\" for i in interesting_words ]"
   ]
  },
  {
   "cell_type": "code",
   "execution_count": 225,
   "metadata": {
    "collapsed": true
   },
   "outputs": [],
   "source": [
    "#del(tt)"
   ]
  },
  {
   "cell_type": "code",
   "execution_count": null,
   "metadata": {
    "collapsed": true
   },
   "outputs": [],
   "source": [
    "model = gensim.models.Word2Vec(b,min_count=1,size=32)\n",
    "print(model) "
   ]
  },
  {
   "cell_type": "code",
   "execution_count": null,
   "metadata": {
    "collapsed": true
   },
   "outputs": [],
   "source": []
  }
 ],
 "metadata": {
  "kernelspec": {
   "display_name": "Python 3",
   "language": "python",
   "name": "python3"
  },
  "language_info": {
   "codemirror_mode": {
    "name": "ipython",
    "version": 3
   },
   "file_extension": ".py",
   "mimetype": "text/x-python",
   "name": "python",
   "nbconvert_exporter": "python",
   "pygments_lexer": "ipython3",
   "version": "3.7.3"
  }
 },
 "nbformat": 4,
 "nbformat_minor": 2
}
